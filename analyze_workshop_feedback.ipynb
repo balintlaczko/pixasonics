{
 "cells": [
  {
   "cell_type": "code",
   "execution_count": null,
   "metadata": {},
   "outputs": [
    {
     "name": "stdout",
     "output_type": "stream",
     "text": [
      "Requirement already satisfied: pandas in /Users/balintl/miniconda3/envs/pixasonics/lib/python3.10/site-packages (2.2.3)\n",
      "Requirement already satisfied: numpy>=1.22.4 in /Users/balintl/miniconda3/envs/pixasonics/lib/python3.10/site-packages (from pandas) (2.1.3)\n",
      "Requirement already satisfied: python-dateutil>=2.8.2 in /Users/balintl/miniconda3/envs/pixasonics/lib/python3.10/site-packages (from pandas) (2.9.0.post0)\n",
      "Requirement already satisfied: pytz>=2020.1 in /Users/balintl/miniconda3/envs/pixasonics/lib/python3.10/site-packages (from pandas) (2025.1)\n",
      "Requirement already satisfied: tzdata>=2022.7 in /Users/balintl/miniconda3/envs/pixasonics/lib/python3.10/site-packages (from pandas) (2025.1)\n",
      "Requirement already satisfied: six>=1.5 in /Users/balintl/miniconda3/envs/pixasonics/lib/python3.10/site-packages (from python-dateutil>=2.8.2->pandas) (1.17.0)\n"
     ]
    }
   ],
   "source": [
    "# !pip install pandas"
   ]
  },
  {
   "cell_type": "code",
   "execution_count": 2,
   "metadata": {},
   "outputs": [],
   "source": [
    "import pandas as pd"
   ]
  },
  {
   "cell_type": "code",
   "execution_count": 4,
   "metadata": {},
   "outputs": [
    {
     "data": {
      "text/html": [
       "<div>\n",
       "<style scoped>\n",
       "    .dataframe tbody tr th:only-of-type {\n",
       "        vertical-align: middle;\n",
       "    }\n",
       "\n",
       "    .dataframe tbody tr th {\n",
       "        vertical-align: top;\n",
       "    }\n",
       "\n",
       "    .dataframe thead th {\n",
       "        text-align: right;\n",
       "    }\n",
       "</style>\n",
       "<table border=\"1\" class=\"dataframe\">\n",
       "  <thead>\n",
       "    <tr style=\"text-align: right;\">\n",
       "      <th></th>\n",
       "      <th>$submission_id</th>\n",
       "      <th>$created</th>\n",
       "      <th>Did you manage to create the environment, install pixasonics, run the notebook and follow along throughout the workshop?</th>\n",
       "      <th>Do you work with image data that you need to qualitatively explore and visually assess regularly?</th>\n",
       "      <th>In light of today&amp;#39;s workshop, would you consider using sonification to explore your image data?</th>\n",
       "      <th>Do you have a background in music technology?</th>\n",
       "      <th>Are there any features that you missed, that you wish would be added to (or changed in) pixasonics?</th>\n",
       "      <th>$answer_time_ms</th>\n",
       "    </tr>\n",
       "  </thead>\n",
       "  <tbody>\n",
       "    <tr>\n",
       "      <th>0</th>\n",
       "      <td>34887551</td>\n",
       "      <td>2025-02-12</td>\n",
       "      <td>Could install and run everything.</td>\n",
       "      <td>No</td>\n",
       "      <td>No</td>\n",
       "      <td>No</td>\n",
       "      <td>Can the probe be changed to different shapes?</td>\n",
       "      <td>62071</td>\n",
       "    </tr>\n",
       "    <tr>\n",
       "      <th>1</th>\n",
       "      <td>34887553</td>\n",
       "      <td>2025-02-12</td>\n",
       "      <td>Could install and run everything.</td>\n",
       "      <td>No</td>\n",
       "      <td>Yes</td>\n",
       "      <td>No</td>\n",
       "      <td>Movement sonification</td>\n",
       "      <td>43140</td>\n",
       "    </tr>\n",
       "    <tr>\n",
       "      <th>2</th>\n",
       "      <td>34887562</td>\n",
       "      <td>2025-02-12</td>\n",
       "      <td>Could install and run everything.</td>\n",
       "      <td>No</td>\n",
       "      <td>Yes</td>\n",
       "      <td>No</td>\n",
       "      <td>Can’t think of anything. Great job!</td>\n",
       "      <td>74858</td>\n",
       "    </tr>\n",
       "    <tr>\n",
       "      <th>3</th>\n",
       "      <td>34887563</td>\n",
       "      <td>2025-02-12</td>\n",
       "      <td>Could install and run everything.</td>\n",
       "      <td>No</td>\n",
       "      <td>Yes</td>\n",
       "      <td>No</td>\n",
       "      <td>It would be nice for some analysis to be done ...</td>\n",
       "      <td>84354</td>\n",
       "    </tr>\n",
       "    <tr>\n",
       "      <th>4</th>\n",
       "      <td>34887566</td>\n",
       "      <td>2025-02-12</td>\n",
       "      <td>Could install and run everything.</td>\n",
       "      <td>Yes</td>\n",
       "      <td>Yes</td>\n",
       "      <td>No</td>\n",
       "      <td>Self customed features :)</td>\n",
       "      <td>108281</td>\n",
       "    </tr>\n",
       "  </tbody>\n",
       "</table>\n",
       "</div>"
      ],
      "text/plain": [
       "   $submission_id    $created  \\\n",
       "0        34887551  2025-02-12   \n",
       "1        34887553  2025-02-12   \n",
       "2        34887562  2025-02-12   \n",
       "3        34887563  2025-02-12   \n",
       "4        34887566  2025-02-12   \n",
       "\n",
       "  Did you manage to create the environment, install pixasonics, run the notebook and follow along throughout the workshop?  \\\n",
       "0                  Could install and run everything.                                                                         \n",
       "1                  Could install and run everything.                                                                         \n",
       "2                  Could install and run everything.                                                                         \n",
       "3                  Could install and run everything.                                                                         \n",
       "4                  Could install and run everything.                                                                         \n",
       "\n",
       "  Do you work with image data that you need to qualitatively explore and visually assess regularly?  \\\n",
       "0                                                 No                                                  \n",
       "1                                                 No                                                  \n",
       "2                                                 No                                                  \n",
       "3                                                 No                                                  \n",
       "4                                                Yes                                                  \n",
       "\n",
       "  In light of today&#39;s workshop, would you consider using sonification to explore your image data?  \\\n",
       "0                                                 No                                                    \n",
       "1                                                Yes                                                    \n",
       "2                                                Yes                                                    \n",
       "3                                                Yes                                                    \n",
       "4                                                Yes                                                    \n",
       "\n",
       "  Do you have a background in music technology?  \\\n",
       "0                                            No   \n",
       "1                                            No   \n",
       "2                                            No   \n",
       "3                                            No   \n",
       "4                                            No   \n",
       "\n",
       "  Are there any features that you missed, that you wish would be added to (or changed in) pixasonics?  \\\n",
       "0      Can the probe be changed to different shapes?                                                    \n",
       "1                              Movement sonification                                                    \n",
       "2                Can’t think of anything. Great job!                                                    \n",
       "3  It would be nice for some analysis to be done ...                                                    \n",
       "4                          Self customed features :)                                                    \n",
       "\n",
       "   $answer_time_ms  \n",
       "0            62071  \n",
       "1            43140  \n",
       "2            74858  \n",
       "3            84354  \n",
       "4           108281  "
      ]
     },
     "execution_count": 4,
     "metadata": {},
     "output_type": "execute_result"
    }
   ],
   "source": [
    "workshop_csv = 'pixasonics_workshop_feedback.csv'\n",
    "df = pd.read_csv(workshop_csv, delimiter=\";\")\n",
    "df.head()"
   ]
  },
  {
   "cell_type": "code",
   "execution_count": 5,
   "metadata": {},
   "outputs": [
    {
     "data": {
      "text/plain": [
       "10"
      ]
     },
     "execution_count": 5,
     "metadata": {},
     "output_type": "execute_result"
    }
   ],
   "source": [
    "# filter those who said \"No\" in the 4th col\n",
    "no_to_img_qualitative = df[df.iloc[:, 3] == \"No\"]\n",
    "len(no_to_img_qualitative)"
   ]
  },
  {
   "cell_type": "code",
   "execution_count": 12,
   "metadata": {},
   "outputs": [
    {
     "data": {
      "text/plain": [
       "5"
      ]
     },
     "execution_count": 12,
     "metadata": {},
     "output_type": "execute_result"
    }
   ],
   "source": [
    "yes_to_img_qualitative = df[df.iloc[:, 3] == \"Yes\"]\n",
    "len(yes_to_img_qualitative)"
   ]
  },
  {
   "cell_type": "code",
   "execution_count": 13,
   "metadata": {},
   "outputs": [
    {
     "data": {
      "text/plain": [
       "2"
      ]
     },
     "execution_count": 13,
     "metadata": {},
     "output_type": "execute_result"
    }
   ],
   "source": [
    "# out of those, how many said yes the 6th col\n",
    "yes_to_tech = yes_to_img_qualitative[yes_to_img_qualitative.iloc[:, 5] == \"Yes\"]\n",
    "len(yes_to_tech)"
   ]
  },
  {
   "cell_type": "code",
   "execution_count": 10,
   "metadata": {},
   "outputs": [
    {
     "data": {
      "text/plain": [
       "4"
      ]
     },
     "execution_count": 10,
     "metadata": {},
     "output_type": "execute_result"
    }
   ],
   "source": [
    "yes_to_soni = yes_to_img_qualitative[yes_to_img_qualitative.iloc[:, 4] == \"Yes\"]\n",
    "len(yes_to_soni)"
   ]
  },
  {
   "cell_type": "code",
   "execution_count": 6,
   "metadata": {},
   "outputs": [
    {
     "data": {
      "text/plain": [
       "4"
      ]
     },
     "execution_count": 6,
     "metadata": {},
     "output_type": "execute_result"
    }
   ],
   "source": [
    "# out of those, how many said yes the 6th col\n",
    "yes_to_tech = no_to_img_qualitative[no_to_img_qualitative.iloc[:, 5] == \"Yes\"]\n",
    "len(yes_to_tech)"
   ]
  },
  {
   "cell_type": "code",
   "execution_count": 7,
   "metadata": {},
   "outputs": [
    {
     "data": {
      "text/plain": [
       "(8, 7)"
      ]
     },
     "execution_count": 7,
     "metadata": {},
     "output_type": "execute_result"
    }
   ],
   "source": [
    "first_workshop = df[df.iloc[:, 1] == \"2025-02-12\"]\n",
    "second_workshop = df[df.iloc[:, 1] == \"2025-03-06\"]\n",
    "len(first_workshop), len(second_workshop)"
   ]
  },
  {
   "cell_type": "code",
   "execution_count": 14,
   "metadata": {},
   "outputs": [
    {
     "data": {
      "text/plain": [
       "6"
      ]
     },
     "execution_count": 14,
     "metadata": {},
     "output_type": "execute_result"
    }
   ],
   "source": [
    "musictech_bg = df[df.iloc[:, 5] == \"Yes\"]\n",
    "len(musictech_bg)"
   ]
  },
  {
   "cell_type": "code",
   "execution_count": 22,
   "metadata": {},
   "outputs": [
    {
     "data": {
      "text/plain": [
       "6"
      ]
     },
     "execution_count": 22,
     "metadata": {},
     "output_type": "execute_result"
    }
   ],
   "source": [
    "yes_to_soni = musictech_bg[musictech_bg.iloc[:, 4] == \"Yes\"]\n",
    "len(yes_to_soni)"
   ]
  },
  {
   "cell_type": "code",
   "execution_count": 15,
   "metadata": {},
   "outputs": [
    {
     "data": {
      "text/plain": [
       "9"
      ]
     },
     "execution_count": 15,
     "metadata": {},
     "output_type": "execute_result"
    }
   ],
   "source": [
    "no_musictech_bg = df[df.iloc[:, 5] == \"No\"]\n",
    "len(no_musictech_bg)"
   ]
  },
  {
   "cell_type": "code",
   "execution_count": 17,
   "metadata": {},
   "outputs": [
    {
     "data": {
      "text/plain": [
       "3"
      ]
     },
     "execution_count": 17,
     "metadata": {},
     "output_type": "execute_result"
    }
   ],
   "source": [
    "yes_to_img = no_musictech_bg[no_musictech_bg.iloc[:, 3] == \"Yes\"]\n",
    "len(yes_to_img)"
   ]
  },
  {
   "cell_type": "code",
   "execution_count": 16,
   "metadata": {},
   "outputs": [
    {
     "data": {
      "text/plain": [
       "6"
      ]
     },
     "execution_count": 16,
     "metadata": {},
     "output_type": "execute_result"
    }
   ],
   "source": [
    "yes_to_soni = no_musictech_bg[no_musictech_bg.iloc[:, 4] == \"Yes\"]\n",
    "len(yes_to_soni)"
   ]
  },
  {
   "cell_type": "code",
   "execution_count": 11,
   "metadata": {},
   "outputs": [
    {
     "data": {
      "text/plain": [
       "(3, 2)"
      ]
     },
     "execution_count": 11,
     "metadata": {},
     "output_type": "execute_result"
    }
   ],
   "source": [
    "w1_img_qual = first_workshop[first_workshop.iloc[:, 3] == \"Yes\"]\n",
    "w2_img_qual = second_workshop[second_workshop.iloc[:, 3] == \"Yes\"]\n",
    "len(w1_img_qual), len(w2_img_qual)"
   ]
  },
  {
   "cell_type": "code",
   "execution_count": 19,
   "metadata": {},
   "outputs": [
    {
     "data": {
      "text/plain": [
       "5"
      ]
     },
     "execution_count": 19,
     "metadata": {},
     "output_type": "execute_result"
    }
   ],
   "source": [
    "w2_tech_bg = second_workshop[second_workshop.iloc[:, 5] == \"Yes\"]\n",
    "len(w2_tech_bg)"
   ]
  },
  {
   "cell_type": "code",
   "execution_count": 20,
   "metadata": {},
   "outputs": [
    {
     "data": {
      "text/plain": [
       "1"
      ]
     },
     "execution_count": 20,
     "metadata": {},
     "output_type": "execute_result"
    }
   ],
   "source": [
    "w1_tech_bg = first_workshop[first_workshop.iloc[:, 5] == \"Yes\"]\n",
    "len(w1_tech_bg)"
   ]
  },
  {
   "cell_type": "code",
   "execution_count": 21,
   "metadata": {},
   "outputs": [
    {
     "data": {
      "text/plain": [
       "7"
      ]
     },
     "execution_count": 21,
     "metadata": {},
     "output_type": "execute_result"
    }
   ],
   "source": [
    "w1_yes_to_soni = first_workshop[first_workshop.iloc[:, 4] == \"Yes\"]\n",
    "len(w1_yes_to_soni)"
   ]
  },
  {
   "cell_type": "code",
   "execution_count": null,
   "metadata": {},
   "outputs": [],
   "source": []
  }
 ],
 "metadata": {
  "kernelspec": {
   "display_name": "pixasonics",
   "language": "python",
   "name": "python3"
  },
  "language_info": {
   "codemirror_mode": {
    "name": "ipython",
    "version": 3
   },
   "file_extension": ".py",
   "mimetype": "text/x-python",
   "name": "python",
   "nbconvert_exporter": "python",
   "pygments_lexer": "ipython3",
   "version": "3.10.16"
  }
 },
 "nbformat": 4,
 "nbformat_minor": 2
}
