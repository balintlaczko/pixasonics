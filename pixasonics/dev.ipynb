{
 "cells": [
  {
   "cell_type": "code",
   "execution_count": 1,
   "metadata": {},
   "outputs": [],
   "source": [
    "import numpy as np\n",
    "import os\n",
    "import signalflow as sf\n",
    "from PIL import Image\n",
    "from IPython.display import Audio, display\n",
    "from pixasonics.core import App, Mapper\n",
    "from pixasonics.features import *\n",
    "from pixasonics.synths import Theremin, Oscillator, FilteredNoise, SimpleFM"
   ]
  },
  {
   "cell_type": "code",
   "execution_count": null,
   "metadata": {},
   "outputs": [],
   "source": [
    "# Create app\n",
    "app = App(image_size=(800, 800))"
   ]
  },
  {
   "cell_type": "code",
   "execution_count": null,
   "metadata": {},
   "outputs": [],
   "source": [
    "# read all red-ch images into arrays and concatenate them in the channel dimension\n",
    "img_folder = \"images/cellular_dataset/single_channel_16bit/\"\n",
    "img_files = os.listdir(img_folder)\n",
    "img_files = [f for f in img_files if f.endswith(\"w2.TIF\")] # only red channel images\n",
    "imgs = []\n",
    "for img_file in img_files:\n",
    "    img_path = os.path.join(img_folder, img_file)\n",
    "    img = Image.open(img_path)\n",
    "    img = np.array(img)\n",
    "    imgs.append(img)\n",
    "img = np.stack(imgs, axis=-1) # now the last dimension is the channel dimension\n",
    "print(img.shape)\n",
    "app.load_image_data(img) # load as numpy array"
   ]
  },
  {
   "cell_type": "code",
   "execution_count": null,
   "metadata": {},
   "outputs": [],
   "source": [
    "# now use all images in the folder\n",
    "img_folder = \"images/cellular_dataset/single_channel_16bit/\"\n",
    "img_files = os.listdir(img_folder)\n",
    "imgs_red = [f for f in img_files if f.endswith(\"w2.TIF\")] # only red channel images\n",
    "imgs_green = [f for f in img_files if f.endswith(\"w1.TIF\")] # only green channel images\n",
    "imgs_blue = [f for f in img_files if f.endswith(\"w3.TIF\")] # only blue channel images\n",
    "imgs = []\n",
    "for img_red, img_green, img_blue in zip(imgs_red, imgs_green, imgs_blue):\n",
    "    img_path_red = os.path.join(img_folder, img_red)\n",
    "    img_path_green = os.path.join(img_folder, img_green)\n",
    "    img_path_blue = os.path.join(img_folder, img_blue)\n",
    "    img_red = Image.open(img_path_red)\n",
    "    img_green = Image.open(img_path_green)\n",
    "    img_blue = Image.open(img_path_blue)\n",
    "    img_red = np.array(img_red)\n",
    "    img_green = np.array(img_green)\n",
    "    img_blue = np.array(img_blue)\n",
    "    img = np.stack([img_red, img_green, img_blue], axis=-1) # now the last dimension is the channel dimension\n",
    "    imgs.append(img)\n",
    "img = np.stack(imgs, axis=-1) # now the last dimension is the layer dimension\n",
    "print(img.shape)\n",
    "app.load_image_data(img) # load as numpy array"
   ]
  },
  {
   "cell_type": "code",
   "execution_count": null,
   "metadata": {},
   "outputs": [],
   "source": [
    "from pixasonics.core import AppRegistry\n",
    "\n",
    "app_registry = AppRegistry()\n",
    "\n",
    "app_registry._apps"
   ]
  },
  {
   "cell_type": "code",
   "execution_count": null,
   "metadata": {},
   "outputs": [],
   "source": [
    "app2 = App(image_size=(500, 500))\n",
    "img_path = \"images/test.jpg\"\n",
    "app2.load_image_file(img_path)\n",
    "mean_red2 = MeanChannelValue(filter_channels=0, name=\"MeanRed\")\n",
    "# attach the feature to the app\n",
    "app2.attach_feature(mean_red2)\n",
    "\n",
    "# create a Theremin, a simple sine wave synth that we will use to sonify the mean pixel value\n",
    "theremin2 = Theremin()\n",
    "# attach the Theremin to the app\n",
    "app2.attach_synth(theremin2)\n",
    "\n",
    "# create a Mapper that will map the mean red pixel value (within the Probe) to the frequency of the Theremin\n",
    "red2freq2 = Mapper(\n",
    "    mean_red2, \n",
    "    theremin2[\"frequency\"], \n",
    "    exponent=2, name=\"Red2Freq\") # cubic mapping curve for a more \"linear\" feel of frequency changes\n",
    "# attach the Mapper to the app\n",
    "app2.attach_mapper(red2freq2)"
   ]
  },
  {
   "cell_type": "code",
   "execution_count": null,
   "metadata": {},
   "outputs": [],
   "source": [
    "app.graph.status"
   ]
  },
  {
   "cell_type": "code",
   "execution_count": null,
   "metadata": {},
   "outputs": [],
   "source": [
    "import signalflow as sf\n",
    "graph = sf.AudioGraph.get_shared_graph()\n",
    "print(graph is None)"
   ]
  },
  {
   "cell_type": "code",
   "execution_count": null,
   "metadata": {},
   "outputs": [],
   "source": [
    "import signalflow as sf\n",
    "\n",
    "graph = None\n",
    "buf = sf.Buffer(1, 48000)\n",
    "\n",
    "class TestPatch(sf.Patch):\n",
    "    def __init__(self):\n",
    "        super().__init__()\n",
    "        param = self.add_input(\"param\")\n",
    "\n",
    "        out = param * sf.SineOscillator(440)\n",
    "        self.set_output(out)\n",
    "\n",
    "def create_audio_graph(nrt=False):\n",
    "    graph = sf.AudioGraph.get_shared_graph()\n",
    "    output_device = sf.AudioOut_Dummy(2) if nrt else None\n",
    "    if graph is not None:\n",
    "        graph.destroy()\n",
    "    graph = sf.AudioGraph(\n",
    "        start=True,\n",
    "        output_device=output_device)\n",
    "    my_patch = TestPatch()\n",
    "    my_patch.set_input(\"param\", 0.5)\n",
    "    graph.play(my_patch)\n",
    "    if nrt:\n",
    "        graph.render_to_buffer(buf)\n",
    "    graph.stop(my_patch)\n",
    "    return graph\n",
    "\n",
    "print(graph) # should be None\n",
    "\n",
    "graph = create_audio_graph(nrt=False)\n",
    "\n",
    "print(\"RT\", graph.status)\n",
    "\n",
    "graph = create_audio_graph(nrt=True)\n",
    "\n",
    "print(\"NRT\", graph.status)\n",
    "\n",
    "graph = create_audio_graph(nrt=False)\n",
    "\n",
    "print(\"RT2\", graph.status)"
   ]
  },
  {
   "cell_type": "code",
   "execution_count": null,
   "metadata": {},
   "outputs": [],
   "source": [
    "app = App(image_size=(800, 800))\n",
    "app.load_image_file(\"images/cellular_dataset/merged_8bit/Timepoint_001_220518-ST_C03_s1.jpg\")\n",
    "\n",
    "mean_red = MeanChannelValue(filter_channels=0, name=\"MeanRed\")\n",
    "app.attach(mean_red)\n",
    "\n",
    "num_instances = 5\n",
    "\n",
    "for i in range(num_instances):\n",
    "    theremin = Theremin()\n",
    "    app.attach(theremin)\n",
    "\n",
    "    red2freq = Mapper(mean_red, theremin[\"frequency\"], exponent=2, name=f\"Red2Freq{i}\")\n",
    "    app.attach(red2freq)\n",
    "\n",
    "    red2amp = Mapper(mean_red, theremin[\"amplitude\"], exponent=1, name=f\"Red2Amp{i}\")\n",
    "    app.attach(red2amp)\n",
    "\n",
    "    red2pan = Mapper(mean_red, theremin[\"panning\"], exponent=1, name=f\"Red2Pan{i}\")\n",
    "    app.attach(red2pan)\n",
    "\n",
    "# app.interaction_mode = \"toggle\"\n",
    "# app.audio = True"
   ]
  },
  {
   "cell_type": "code",
   "execution_count": null,
   "metadata": {},
   "outputs": [],
   "source": [
    "app.output_buffer_size"
   ]
  },
  {
   "cell_type": "code",
   "execution_count": null,
   "metadata": {},
   "outputs": [],
   "source": [
    "app.output_buffer_size = 1024"
   ]
  },
  {
   "cell_type": "code",
   "execution_count": null,
   "metadata": {},
   "outputs": [],
   "source": [
    "osc = Oscillator()\n",
    "app.attach(osc)\n",
    "\n",
    "fnoise = FilteredNoise()\n",
    "app.attach(fnoise)\n",
    "\n",
    "fm = SimpleFM()\n",
    "app.attach(fm)"
   ]
  },
  {
   "cell_type": "code",
   "execution_count": null,
   "metadata": {},
   "outputs": [],
   "source": [
    "len(app.mappers)"
   ]
  },
  {
   "cell_type": "markdown",
   "metadata": {},
   "source": [
    "# Test audio settings"
   ]
  },
  {
   "cell_type": "code",
   "execution_count": null,
   "metadata": {},
   "outputs": [],
   "source": [
    "app.audio = True"
   ]
  },
  {
   "cell_type": "code",
   "execution_count": null,
   "metadata": {},
   "outputs": [],
   "source": [
    "app.master_volume = -6"
   ]
  },
  {
   "cell_type": "code",
   "execution_count": null,
   "metadata": {},
   "outputs": [],
   "source": [
    "app.recording = True"
   ]
  },
  {
   "cell_type": "code",
   "execution_count": null,
   "metadata": {},
   "outputs": [],
   "source": [
    "app.recording_path = \"hey\""
   ]
  },
  {
   "cell_type": "code",
   "execution_count": null,
   "metadata": {},
   "outputs": [],
   "source": [
    "app.master_envelope.attack = 0.1"
   ]
  },
  {
   "cell_type": "markdown",
   "metadata": {},
   "source": [
    "# Test display settings"
   ]
  },
  {
   "cell_type": "code",
   "execution_count": null,
   "metadata": {},
   "outputs": [],
   "source": [
    "app.normalize_display = True"
   ]
  },
  {
   "cell_type": "code",
   "execution_count": null,
   "metadata": {},
   "outputs": [],
   "source": [
    "app.normalize_display_global = False"
   ]
  },
  {
   "cell_type": "code",
   "execution_count": null,
   "metadata": {},
   "outputs": [],
   "source": [
    "app.display_channel_offset = 0"
   ]
  },
  {
   "cell_type": "code",
   "execution_count": null,
   "metadata": {},
   "outputs": [],
   "source": [
    "app.display_layer_offset = 2"
   ]
  },
  {
   "cell_type": "markdown",
   "metadata": {},
   "source": [
    "# Test probe settings"
   ]
  },
  {
   "cell_type": "code",
   "execution_count": null,
   "metadata": {},
   "outputs": [],
   "source": [
    "app.probe_width = 10"
   ]
  },
  {
   "cell_type": "code",
   "execution_count": null,
   "metadata": {},
   "outputs": [],
   "source": [
    "app.probe_height = 10"
   ]
  },
  {
   "cell_type": "code",
   "execution_count": null,
   "metadata": {},
   "outputs": [],
   "source": [
    "app.probe_x = 200"
   ]
  },
  {
   "cell_type": "code",
   "execution_count": null,
   "metadata": {},
   "outputs": [],
   "source": [
    "app.probe_y = 25"
   ]
  },
  {
   "cell_type": "code",
   "execution_count": null,
   "metadata": {},
   "outputs": [],
   "source": [
    "app.interaction_mode = \"hold\""
   ]
  },
  {
   "cell_type": "code",
   "execution_count": null,
   "metadata": {},
   "outputs": [],
   "source": [
    "app.probe_follows_idle_mouse = True"
   ]
  },
  {
   "cell_type": "code",
   "execution_count": null,
   "metadata": {},
   "outputs": [],
   "source": [
    "import signalflow as sf\n",
    "graph = sf.AudioGraph.get_shared_graph()\n",
    "if graph is not None:\n",
    "    graph.destroy()\n",
    "graph = sf.AudioGraph(output_device=sf.AudioOut_Dummy(2))"
   ]
  },
  {
   "cell_type": "code",
   "execution_count": null,
   "metadata": {},
   "outputs": [],
   "source": [
    "import signalflow as sf\n",
    "graph = sf.AudioGraph()\n",
    "\n",
    "class Synth(sf.Patch):\n",
    "    def __init__(self):\n",
    "        super().__init__()\n",
    "\n",
    "class TestPatch(Synth):\n",
    "    def __init__(self):\n",
    "        super().__init__()\n",
    "        param = self.add_input(\"param\")\n",
    "\n",
    "        out = param * sf.SineOscillator(440)\n",
    "        self.set_output(out)\n",
    "\n",
    "patch = TestPatch()\n",
    "patch.set_input(\"param\", 0.5)"
   ]
  },
  {
   "cell_type": "code",
   "execution_count": 2,
   "metadata": {},
   "outputs": [],
   "source": [
    "patch.set_input(\"param\", 1)"
   ]
  },
  {
   "cell_type": "code",
   "execution_count": 3,
   "metadata": {},
   "outputs": [],
   "source": [
    "patch.play()"
   ]
  },
  {
   "cell_type": "code",
   "execution_count": 4,
   "metadata": {},
   "outputs": [],
   "source": [
    "patch.stop()"
   ]
  },
  {
   "cell_type": "code",
   "execution_count": null,
   "metadata": {},
   "outputs": [],
   "source": [
    "print(graph.structure)"
   ]
  },
  {
   "cell_type": "code",
   "execution_count": null,
   "metadata": {},
   "outputs": [],
   "source": [
    "graph.status"
   ]
  },
  {
   "cell_type": "code",
   "execution_count": null,
   "metadata": {},
   "outputs": [],
   "source": [
    "# print the type of the patch object\n",
    "print(type(patch))"
   ]
  },
  {
   "cell_type": "code",
   "execution_count": null,
   "metadata": {},
   "outputs": [],
   "source": [
    "isinstance(patch, Synth)"
   ]
  },
  {
   "cell_type": "code",
   "execution_count": null,
   "metadata": {},
   "outputs": [],
   "source": [
    "isinstance(patch, sf.Patch)"
   ]
  },
  {
   "cell_type": "code",
   "execution_count": null,
   "metadata": {},
   "outputs": [],
   "source": [
    "import signalflow as sf\n",
    "config = sf.AudioGraphConfig()\n",
    "config.output_buffer_size = 480\n",
    "graph = sf.AudioGraph(config)\n",
    "\n",
    "class TestPatch(sf.Patch):\n",
    "    def __init__(self):\n",
    "        super().__init__()\n",
    "        freq = self.add_input(\"freq\", 440)\n",
    "        out = sf.SineOscillator(440)\n",
    "        self.set_output(out)\n",
    "\n",
    "patch = TestPatch()\n",
    "\n",
    "graph.play(patch)"
   ]
  },
  {
   "cell_type": "code",
   "execution_count": null,
   "metadata": {},
   "outputs": [],
   "source": [
    "graph.destroy()\n",
    "config = sf.AudioGraphConfig()\n",
    "config.output_buffer_size = 1024\n",
    "graph = sf.AudioGraph(config)\n",
    "print(\"About to play\") # still prints\n",
    "#graph.play(patch) # will crash Kernel here..."
   ]
  },
  {
   "cell_type": "code",
   "execution_count": 2,
   "metadata": {},
   "outputs": [],
   "source": [
    "patch.stop()"
   ]
  },
  {
   "cell_type": "code",
   "execution_count": null,
   "metadata": {},
   "outputs": [],
   "source": [
    "spec = patch.to_spec()"
   ]
  },
  {
   "cell_type": "code",
   "execution_count": null,
   "metadata": {},
   "outputs": [],
   "source": [
    "patch2 = sf.Patch.from_spec(spec)"
   ]
  },
  {
   "cell_type": "code",
   "execution_count": null,
   "metadata": {},
   "outputs": [],
   "source": [
    "graph.play(patch)"
   ]
  },
  {
   "cell_type": "code",
   "execution_count": null,
   "metadata": {},
   "outputs": [],
   "source": [
    "graph.stop(patch)\n",
    "graph.clear()\n",
    "graph.destroy()\n",
    "config = sf.AudioGraphConfig()\n",
    "config.output_buffer_size = 1024\n",
    "graph = sf.AudioGraph(config)\n",
    "print(\"About to play\") # still prints\n",
    "graph.play(patch2) # will crash Kernel here..."
   ]
  },
  {
   "cell_type": "code",
   "execution_count": null,
   "metadata": {},
   "outputs": [],
   "source": [
    "graph.destroy()\n",
    "config = sf.AudioGraphConfig()\n",
    "config.output_buffer_size = 1024\n",
    "graph = sf.AudioGraph(config)\n",
    "patch = TestPatch() # create a new patch\n",
    "graph.play(patch) # this will work"
   ]
  },
  {
   "cell_type": "code",
   "execution_count": 6,
   "metadata": {},
   "outputs": [],
   "source": [
    "graph.destroy()"
   ]
  },
  {
   "cell_type": "code",
   "execution_count": 13,
   "metadata": {},
   "outputs": [],
   "source": [
    "import ipywidgets as widgets\n",
    "from IPython.display import display\n",
    "from ipycanvas import Canvas, hold_canvas\n",
    "from pixasonics.utils import scale_array_exp\n",
    "import numpy as np\n",
    "from math import log10"
   ]
  },
  {
   "cell_type": "code",
   "execution_count": null,
   "metadata": {},
   "outputs": [],
   "source": [
    "class ExponentCanvas():\n",
    "    def __init__(self, width=200, height=200, exponent=1):\n",
    "        self.width = width\n",
    "        self.height = height\n",
    "        self._exponent = exponent\n",
    "        self.canvas = Canvas(width=width, height=height)\n",
    "        self.draw()\n",
    "\n",
    "    def __call__(self):\n",
    "        return self.canvas\n",
    "    \n",
    "    @property\n",
    "    def exponent(self):\n",
    "        return self._exponent\n",
    "    \n",
    "    @exponent.setter\n",
    "    def exponent(self, value):\n",
    "        self._exponent = value\n",
    "        self.draw()\n",
    "\n",
    "    def draw(self):\n",
    "        with hold_canvas(self.canvas):\n",
    "            self.canvas.clear()\n",
    "            x = np.linspace(0, 1, self.width)\n",
    "            y = scale_array_exp(x, 0, 1, 0, 1, self._exponent)\n",
    "            y = 1 - y\n",
    "            y = y * self.height\n",
    "            self.canvas.fill_style = \"black\"\n",
    "            self.canvas.fill_rects(x * self.width, y, 1, self.height)"
   ]
  },
  {
   "cell_type": "code",
   "execution_count": 11,
   "metadata": {},
   "outputs": [
    {
     "data": {
      "application/vnd.jupyter.widget-view+json": {
       "model_id": "eb4f5c7001884eb080fa4db7c7b5783e",
       "version_major": 2,
       "version_minor": 0
      },
      "text/plain": [
       "Canvas(height=200, width=600)"
      ]
     },
     "metadata": {},
     "output_type": "display_data"
    }
   ],
   "source": [
    "c = ExponentCanvas(600)\n",
    "display(c())"
   ]
  },
  {
   "cell_type": "code",
   "execution_count": 6,
   "metadata": {},
   "outputs": [],
   "source": [
    "c.exponent = 2"
   ]
  },
  {
   "cell_type": "code",
   "execution_count": 15,
   "metadata": {},
   "outputs": [
    {
     "data": {
      "application/vnd.jupyter.widget-view+json": {
       "model_id": "63b08500cdbe4c9e9ed02da4df5e3aba",
       "version_major": 2,
       "version_minor": 0
      },
      "text/plain": [
       "FloatLogSlider(value=1.0, description='Exponent:', max=2.0, min=-2.0, readout_format='.4f', step=0.0001)"
      ]
     },
     "metadata": {},
     "output_type": "display_data"
    }
   ],
   "source": [
    "exp_slider = widgets.FloatLogSlider(\n",
    "    value=1,\n",
    "    base=10,\n",
    "    min=log10(0.01), # max exponent\n",
    "    max=log10(100), # min exponent\n",
    "    step=0.0001,\n",
    "    description='Exponent:',\n",
    "    continuous_update=True,\n",
    "    readout_format='.4f',\n",
    ")\n",
    "exp_slider.observe(lambda change: setattr(c, \"exponent\", change.new), names=\"value\")\n",
    "display(exp_slider)"
   ]
  },
  {
   "cell_type": "code",
   "execution_count": null,
   "metadata": {},
   "outputs": [],
   "source": [
    "class ExponentPlot():\n",
    "    def __init__(self, width=1000, height=200, exponent=1):\n",
    "        self.width = width\n",
    "        self.height = height\n",
    "        self._exponent = exponent\n",
    "        \n",
    "        self.create_ui()\n",
    "\n",
    "    def __call__(self):\n",
    "        return self.card\n",
    "    \n",
    "    @property\n",
    "    def exponent(self):\n",
    "        return self._exponent\n",
    "    \n",
    "    def create_ui(self):\n",
    "        canvas = ExponentCanvas(self.width, self.height, self.exponent)\n",
    "        exp_slider = widgets.FloatLogSlider(\n",
    "            value=self.exponent,\n",
    "            base=10,\n",
    "            min=log10(0.01),\n",
    "            max=log10(100),\n",
    "            step=0.0001,\n",
    "            description='Exponent:',\n",
    "            continuous_update=True,\n",
    "            readout_format='.4f',\n",
    "        )\n",
    "        exp_slider.observe(lambda change: setattr(canvas, \"exponent\", change.new), names=\"value\")\n",
    "        self.card = widgets.VBox([canvas(), exp_slider])\n",
    "\n",
    "        "
   ]
  },
  {
   "cell_type": "code",
   "execution_count": 23,
   "metadata": {},
   "outputs": [
    {
     "data": {
      "application/vnd.jupyter.widget-view+json": {
       "model_id": "69a80945a2b14862b23bc3898cd57672",
       "version_major": 2,
       "version_minor": 0
      },
      "text/plain": [
       "VBox(children=(Canvas(height=200, width=1000), FloatLogSlider(value=1.0, description='Exponent:', max=2.0, min…"
      ]
     },
     "execution_count": 23,
     "metadata": {},
     "output_type": "execute_result"
    }
   ],
   "source": [
    "plot = ExponentPlot(1000, 200, 1)\n",
    "plot()"
   ]
  },
  {
   "cell_type": "code",
   "execution_count": null,
   "metadata": {},
   "outputs": [],
   "source": []
  }
 ],
 "metadata": {
  "kernelspec": {
   "display_name": "pixasonics",
   "language": "python",
   "name": "python3"
  },
  "language_info": {
   "codemirror_mode": {
    "name": "ipython",
    "version": 3
   },
   "file_extension": ".py",
   "mimetype": "text/x-python",
   "name": "python",
   "nbconvert_exporter": "python",
   "pygments_lexer": "ipython3",
   "version": "3.10.16"
  }
 },
 "nbformat": 4,
 "nbformat_minor": 2
}
