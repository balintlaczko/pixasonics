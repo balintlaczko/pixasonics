{
 "cells": [
  {
   "cell_type": "markdown",
   "metadata": {},
   "source": [
    "# Test multi-target Mapper"
   ]
  },
  {
   "cell_type": "code",
   "execution_count": null,
   "metadata": {},
   "outputs": [],
   "source": [
    "from pixasonics.core import App, Mapper\n",
    "from pixasonics.features import MeanChannelValue\n",
    "from pixasonics.synths import Theremin, FilteredNoise, SimpleFM\n",
    "from IPython.display import display, Audio"
   ]
  },
  {
   "cell_type": "markdown",
   "metadata": {},
   "source": [
    "## Multi-target, single channel"
   ]
  },
  {
   "cell_type": "code",
   "execution_count": null,
   "metadata": {},
   "outputs": [],
   "source": [
    "app0 = App()\n",
    "app0.load_image_file(\"images/test.jpg\")\n",
    "mean_red = MeanChannelValue(filter_channels=0, name=\"MeanRed\")\n",
    "app0.attach(mean_red)\n",
    "theremin0 = Theremin()\n",
    "app0.attach(theremin0)\n",
    "filtered_noise0 = FilteredNoise()\n",
    "app0.attach(filtered_noise0)\n",
    "red2freqs = Mapper(mean_red, [theremin0[\"frequency\"], filtered_noise0[\"cutoff\"]], name=\"Red2Freqs\")\n",
    "app0.attach(red2freqs)"
   ]
  },
  {
   "cell_type": "code",
   "execution_count": null,
   "metadata": {},
   "outputs": [],
   "source": [
    "red2freqs.in_low, red2freqs.in_high, red2freqs.out_low, red2freqs.out_high, red2freqs.exponent"
   ]
  },
  {
   "cell_type": "code",
   "execution_count": null,
   "metadata": {},
   "outputs": [],
   "source": [
    "# test NRT\n",
    "duration = 5\n",
    "my_timeline = [\n",
    "    (0, {\n",
    "        \"probe_width\": 50,\n",
    "        \"probe_height\": 50,\n",
    "        \"probe_x\": 0,\n",
    "        \"probe_y\": 0\n",
    "    }),\n",
    "    (duration, {\n",
    "        \"probe_x\": 499,\n",
    "        \"probe_y\": 499,\n",
    "    })\n",
    "]\n",
    "\n",
    "target_filename = \"multitarget_nrt_test.wav\"\n",
    "\n",
    "app0.render_timeline_to_file(my_timeline, target_filename)\n",
    "\n",
    "display(Audio(target_filename))"
   ]
  },
  {
   "cell_type": "markdown",
   "metadata": {},
   "source": [
    "## Multi-target, multi-channel"
   ]
  },
  {
   "cell_type": "code",
   "execution_count": null,
   "metadata": {},
   "outputs": [],
   "source": [
    "app1 = App()\n",
    "app1.load_image_file(\"images/test.jpg\")\n",
    "mean_pix = MeanChannelValue()\n",
    "app1.attach(mean_pix)\n",
    "num_channels = 3\n",
    "theremin1 = Theremin([440 for _ in range(num_channels)])\n",
    "app1.attach(theremin1)\n",
    "filtered_noise1 = FilteredNoise(cutoff=[440 for _ in range(num_channels)])\n",
    "app1.attach(filtered_noise1)\n",
    "red2freqs1 = Mapper(mean_pix, [theremin1[\"frequency\"], filtered_noise1[\"cutoff\"]], name=\"Red2Freqs1\")\n",
    "app1.attach(red2freqs1)"
   ]
  },
  {
   "cell_type": "code",
   "execution_count": null,
   "metadata": {},
   "outputs": [],
   "source": [
    "# test NRT\n",
    "duration = 5\n",
    "my_timeline = [\n",
    "    (0, {\n",
    "        \"probe_width\": 50,\n",
    "        \"probe_height\": 50,\n",
    "        \"probe_x\": 0,\n",
    "        \"probe_y\": 0\n",
    "    }),\n",
    "    (duration, {\n",
    "        \"probe_x\": 499,\n",
    "        \"probe_y\": 499,\n",
    "    })\n",
    "]\n",
    "\n",
    "target_filename = \"multitarget_nrt_test.wav\"\n",
    "\n",
    "app1.render_timeline_to_file(my_timeline, target_filename)\n",
    "\n",
    "display(Audio(target_filename))"
   ]
  },
  {
   "cell_type": "markdown",
   "metadata": {},
   "source": [
    "# Test custom Feature + custom Mapper"
   ]
  },
  {
   "cell_type": "code",
   "execution_count": null,
   "metadata": {},
   "outputs": [],
   "source": [
    "from pixasonics.core import App, Mapper\n",
    "from pixasonics.features import MeanChannelValue, Feature\n",
    "from pixasonics.synths import Theremin, FilteredNoise, SimpleFM\n",
    "from IPython.display import display, Audio\n",
    "import numpy as np\n",
    "import os\n",
    "import json\n",
    "from sklearn.preprocessing import MinMaxScaler\n",
    "from sklearn.neighbors import KDTree\n",
    "from sklearn.decomposition import IncrementalPCA\n",
    "import matplotlib.pyplot as plt"
   ]
  },
  {
   "cell_type": "code",
   "execution_count": 2,
   "metadata": {},
   "outputs": [
    {
     "data": {
      "application/vnd.jupyter.widget-view+json": {
       "model_id": "c987403ff1e341d1a7ad47ceb104c486",
       "version_major": 2,
       "version_minor": 0
      },
      "text/plain": [
       "Box(children=(Box(layout=Layout(border_bottom='1px solid black', border_left='1px solid black', border_right='…"
      ]
     },
     "metadata": {},
     "output_type": "display_data"
    },
    {
     "name": "stderr",
     "output_type": "stream",
     "text": [
      "[miniaudio] Output device: MacBook Pro Speakers (48000Hz, buffer size 480 samples, 2 channels)\n"
     ]
    }
   ],
   "source": [
    "app = App()"
   ]
  },
  {
   "cell_type": "code",
   "execution_count": 3,
   "metadata": {},
   "outputs": [],
   "source": [
    "app.load_image_file(\"images/cellular_dataset/merged_8bit/Timepoint_001_220518-ST_C03_s1.jpg\")"
   ]
  },
  {
   "cell_type": "code",
   "execution_count": null,
   "metadata": {},
   "outputs": [],
   "source": [
    "# combine red and green channels and all layers\n",
    "img_folder = \"images/cellular_dataset/single_channel_16bit/\"\n",
    "img_files = os.listdir(img_folder)\n",
    "imgs_red = [f for f in img_files if f.endswith(\"w2.TIF\")] # only red channel images\n",
    "imgs_green = [f for f in img_files if f.endswith(\"w1.TIF\")] # only green channel images\n",
    "imgs = []\n",
    "for img_red, img_green in zip(imgs_red, imgs_green):\n",
    "    img_path_red = os.path.join(img_folder, img_red)\n",
    "    img_path_green = os.path.join(img_folder, img_green)\n",
    "    img_red = Image.open(img_path_red)\n",
    "    img_green = Image.open(img_path_green)\n",
    "    img_red = np.array(img_red)\n",
    "    img_green = np.array(img_green)\n",
    "    img = np.stack([img_red, img_green], axis=-1) # now the last dimension is the channel dimension\n",
    "    imgs.append(img)\n",
    "img = np.stack(imgs, axis=-1) # now the last dimension is the layer dimension\n",
    "print(img.shape)\n",
    "app.load_image_data(img) # load as numpy array"
   ]
  },
  {
   "cell_type": "code",
   "execution_count": 33,
   "metadata": {},
   "outputs": [
    {
     "name": "stdout",
     "output_type": "stream",
     "text": [
      "dict_keys(['cols', 'data'])\n"
     ]
    }
   ],
   "source": [
    "# synthmaps_pca_mel_json = \"/Volumes/T7RITMO/synthmaps_code/data/pca_mels_mean.json\"\n",
    "synthmaps_pca_mel_json = \"/Volumes/T7RITMO/synthmaps_code/data/pca_perceptual.json\"\n",
    "# synthmaps_pca_mel_json = \"/Volumes/T7RITMO/synthmaps_code/data/pca_encodec.json\"\n",
    "# synthmaps_pca_mel_json = \"/Volumes/T7RITMO/synthmaps_code/data/pca_clap.json\"\n",
    "with open(synthmaps_pca_mel_json, \"r\") as f:\n",
    "    pca_mel_data = json.load(f)\n",
    "print(pca_mel_data.keys())"
   ]
  },
  {
   "cell_type": "code",
   "execution_count": 5,
   "metadata": {},
   "outputs": [],
   "source": [
    "def fluid_dataset2array(\n",
    "        dataset: dict,\n",
    ") -> np.ndarray:\n",
    "    \"\"\"\n",
    "    Convert a json dataset to a numpy array.\n",
    "\n",
    "    Args:\n",
    "        dataset (dict): The json dataset to convert.\n",
    "\n",
    "    Returns:\n",
    "        np.ndarray: The numpy array.\n",
    "    \"\"\"\n",
    "    num_cols = dataset[\"cols\"]\n",
    "    num_rows = len(dataset[\"data\"])\n",
    "    out_array = np.zeros((num_rows, num_cols))\n",
    "    for i in range(num_rows):\n",
    "        out_array[i] = np.array(dataset[\"data\"][str(i)])\n",
    "    return out_array"
   ]
  },
  {
   "cell_type": "code",
   "execution_count": 34,
   "metadata": {},
   "outputs": [
    {
     "name": "stdout",
     "output_type": "stream",
     "text": [
      "(132651, 2)\n"
     ]
    }
   ],
   "source": [
    "pca_mel_data_array = fluid_dataset2array(pca_mel_data)\n",
    "print(pca_mel_data_array.shape)"
   ]
  },
  {
   "cell_type": "code",
   "execution_count": 35,
   "metadata": {},
   "outputs": [
    {
     "name": "stdout",
     "output_type": "stream",
     "text": [
      "(132651, 2)\n",
      "0.0 1.0\n"
     ]
    }
   ],
   "source": [
    "synthmaps_scaler = MinMaxScaler()\n",
    "pca_mel_data_scaled = synthmaps_scaler.fit_transform(pca_mel_data_array)\n",
    "print(pca_mel_data_scaled.shape)\n",
    "print(pca_mel_data_scaled.min(), pca_mel_data_scaled.max())"
   ]
  },
  {
   "cell_type": "code",
   "execution_count": 8,
   "metadata": {},
   "outputs": [
    {
     "name": "stdout",
     "output_type": "stream",
     "text": [
      "dict_keys(['cols', 'data'])\n",
      "(132651, 3)\n"
     ]
    }
   ],
   "source": [
    "fm_params_json = \"/Volumes/T7RITMO/synthmaps_code/data/fm_params.json\"\n",
    "with open(fm_params_json, \"r\") as f:\n",
    "    fm_params_data = json.load(f)\n",
    "print(fm_params_data.keys())\n",
    "fm_params_data_array = fluid_dataset2array(fm_params_data)\n",
    "print(fm_params_data_array.shape)"
   ]
  },
  {
   "cell_type": "code",
   "execution_count": 36,
   "metadata": {},
   "outputs": [],
   "source": [
    "class PCA2D(Feature):\n",
    "    def __init__(self, name=\"PCA2D\"):\n",
    "        super().__init__(name=name)\n",
    "        self.pca = None\n",
    "        self.pca_scaler = None\n",
    "        self._original_shape = None\n",
    "        self._transformed_points = None\n",
    "\n",
    "    def _reshape_for_pca(self, mat):\n",
    "        \"\"\"Helper to reshape 4D matrix (H, W, Ch, L) to 2D by concatenating the Channel and Layer dimensions\"\"\"\n",
    "        mat_reshaped = mat.reshape(mat.shape[0], mat.shape[1], -1)\n",
    "        return mat_reshaped.reshape(-1, mat_reshaped.shape[-1])\n",
    "\n",
    "    def process_image(self, mat):\n",
    "        self._original_shape = mat.shape\n",
    "        features = self._reshape_for_pca(mat)\n",
    "        self.pca = IncrementalPCA(n_components=2)\n",
    "        self.pca.fit(features)\n",
    "        self.pca_scaler = MinMaxScaler(feature_range=(0.1, 0.9))\n",
    "        self._transformed_points = self.pca.transform(features)\n",
    "        self.pca_scaler.fit(self._transformed_points)\n",
    "        projected_scaled = self.pca_scaler.transform(self._transformed_points)\n",
    "        return projected_scaled.T\n",
    "    \n",
    "    def compute(self, mat):\n",
    "        if self.pca is None:\n",
    "            raise ValueError(\"PCA model has not been fitted. Call process_image first.\")\n",
    "        features = self._reshape_for_pca(mat)\n",
    "        projected = self.pca.transform(features)\n",
    "        projected_scaled = self.pca_scaler.transform(projected)\n",
    "        projected_scaled_mean = projected_scaled.mean(axis=0, keepdims=False)\n",
    "        return projected_scaled_mean\n",
    "\n",
    "\n",
    "pca_2d = PCA2D()\n",
    "app.attach(pca_2d)"
   ]
  },
  {
   "cell_type": "code",
   "execution_count": 28,
   "metadata": {},
   "outputs": [
    {
     "name": "stdout",
     "output_type": "stream",
     "text": [
      "(250000, 2)\n"
     ]
    },
    {
     "data": {
      "text/plain": [
       "Text(0, 0.5, 'PCA 2')"
      ]
     },
     "execution_count": 28,
     "metadata": {},
     "output_type": "execute_result"
    },
    {
     "data": {
      "image/png": "[encoded data removed]",
      "text/plain": [
       "<Figure size 1000x500 with 1 Axes>"
      ]
     },
     "metadata": {},
     "output_type": "display_data"
    }
   ],
   "source": [
    "#plot the pca space\n",
    "plt.figure(figsize=(10, 5))\n",
    "\n",
    "plt.subplot(121)\n",
    "\n",
    "points = pca_2d._transformed_points\n",
    "print(points.shape)\n",
    "plt.scatter(points[:, 0], points[:, 1], alpha=0.5)\n",
    "plt.title('PCA Space')\n",
    "plt.xlabel('PCA 1')\n",
    "plt.ylabel('PCA 2')"
   ]
  },
  {
   "cell_type": "code",
   "execution_count": 14,
   "metadata": {},
   "outputs": [],
   "source": [
    "fm = SimpleFM()\n",
    "app.attach(fm)"
   ]
  },
  {
   "cell_type": "code",
   "execution_count": 37,
   "metadata": {},
   "outputs": [],
   "source": [
    "class PCA2FMParams(Mapper):\n",
    "    def __init__(self, source, target_fm, name=\"PCA2FMParams\"):\n",
    "        super().__init__(source, [target_fm[\"carrier_freq\"], target_fm[\"harm_ratio\"], target_fm[\"mod_index\"]], name=name)\n",
    "        self.kdtree = KDTree(pca_mel_data_scaled)\n",
    "\n",
    "    def map(self, in_data):\n",
    "        nearest_idx = self.kdtree.query(in_data.T, return_distance=False)[0][0]\n",
    "        fm_params = fm_params_data_array[nearest_idx]\n",
    "        return fm_params\n",
    "\n",
    "pca2fm_params = PCA2FMParams(pca_2d, fm)\n",
    "app.attach(pca2fm_params)"
   ]
  },
  {
   "cell_type": "code",
   "execution_count": null,
   "metadata": {},
   "outputs": [],
   "source": []
  }
 ],
 "metadata": {
  "kernelspec": {
   "display_name": "pixasonics",
   "language": "python",
   "name": "python3"
  },
  "language_info": {
   "codemirror_mode": {
    "name": "ipython",
    "version": 3
   },
   "file_extension": ".py",
   "mimetype": "text/x-python",
   "name": "python",
   "nbconvert_exporter": "python",
   "pygments_lexer": "ipython3",
   "version": "3.10.16"
  }
 },
 "nbformat": 4,
 "nbformat_minor": 2
}
