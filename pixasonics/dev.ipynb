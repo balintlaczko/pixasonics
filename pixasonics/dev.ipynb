{
 "cells": [
  {
   "cell_type": "markdown",
   "metadata": {},
   "source": [
    "# Test custom Feature"
   ]
  },
  {
   "cell_type": "code",
   "execution_count": null,
   "metadata": {},
   "outputs": [],
   "source": [
    "import numpy as np\n",
    "import os\n",
    "import signalflow as sf\n",
    "from PIL import Image\n",
    "from IPython.display import Audio, display\n",
    "from pixasonics.core import App, Mapper\n",
    "from pixasonics.features import Feature\n",
    "from pixasonics.synths import Theremin, Oscillator, FilteredNoise, SimpleFM"
   ]
  },
  {
   "cell_type": "code",
   "execution_count": null,
   "metadata": {},
   "outputs": [],
   "source": [
    "app = App()"
   ]
  },
  {
   "cell_type": "code",
   "execution_count": null,
   "metadata": {},
   "outputs": [],
   "source": [
    "app.load_image_file(\"images/cellular_dataset/merged_8bit/Timepoint_001_220518-ST_C03_s1.jpg\")"
   ]
  },
  {
   "cell_type": "code",
   "execution_count": null,
   "metadata": {},
   "outputs": [],
   "source": [
    "# combine red and green channels and all layers\n",
    "img_folder = \"images/cellular_dataset/single_channel_16bit/\"\n",
    "img_files = os.listdir(img_folder)\n",
    "imgs_red = [f for f in img_files if f.endswith(\"w2.TIF\")] # only red channel images\n",
    "imgs_green = [f for f in img_files if f.endswith(\"w1.TIF\")] # only green channel images\n",
    "imgs = []\n",
    "for img_red, img_green in zip(imgs_red, imgs_green):\n",
    "    img_path_red = os.path.join(img_folder, img_red)\n",
    "    img_path_green = os.path.join(img_folder, img_green)\n",
    "    img_red = Image.open(img_path_red)\n",
    "    img_green = Image.open(img_path_green)\n",
    "    img_red = np.array(img_red)\n",
    "    img_green = np.array(img_green)\n",
    "    img = np.stack([img_red, img_green], axis=-1) # now the last dimension is the channel dimension\n",
    "    imgs.append(img)\n",
    "img = np.stack(imgs, axis=-1) # now the last dimension is the layer dimension\n",
    "print(img.shape)\n",
    "app.load_image_data(img) # load as numpy array"
   ]
  },
  {
   "cell_type": "code",
   "execution_count": null,
   "metadata": {},
   "outputs": [],
   "source": [
    "class MyFeature(Feature):\n",
    "    def __init__(self, name=\"MyFeature\"):\n",
    "        super().__init__(name=name)\n",
    "\n",
    "    def process_image(self, mat):\n",
    "        return np.random.rand(*mat.shape)\n",
    "    \n",
    "    def compute(self, mat):\n",
    "        num_features = mat.shape[self.target_dim]\n",
    "        return np.random.rand(num_features)\n",
    "    \n",
    "my_feature = MyFeature()\n",
    "app.attach(my_feature)"
   ]
  },
  {
   "cell_type": "code",
   "execution_count": null,
   "metadata": {},
   "outputs": [],
   "source": [
    "app.detach(my_feature)\n",
    "my_feature = MyFeature()\n",
    "my_feature.target_dim = 0\n",
    "app.attach(my_feature)"
   ]
  },
  {
   "cell_type": "code",
   "execution_count": null,
   "metadata": {},
   "outputs": [],
   "source": [
    "from sklearn.cluster import KMeans\n",
    "\n",
    "class KMeansFeature(Feature):\n",
    "    def __init__(self, n_clusters=3, name=\"KMeansFeature\"):\n",
    "        super().__init__(name=name)\n",
    "        self.n_clusters = n_clusters\n",
    "        self.kmeans = None\n",
    "        self._original_shape = None\n",
    "\n",
    "    def _reshape_for_kmeans(self, mat):\n",
    "        \"\"\"Helper to reshape 4D matrix to 2D for KMeans\"\"\"\n",
    "        mat_reshaped = np.moveaxis(mat, self.target_dim, 0)\n",
    "        return mat_reshaped.reshape(mat_reshaped.shape[0], -1)\n",
    "\n",
    "    def process_image(self, mat):\n",
    "        self._original_shape = mat.shape\n",
    "        features = self._reshape_for_kmeans(mat)\n",
    "        self.kmeans = KMeans(n_clusters=self.n_clusters).fit(features.T)\n",
    "\n",
    "        # Get cluster assignments and reshape back to original dimensions\n",
    "        labels = self.kmeans.predict(features.T)\n",
    "        other_dims = [s for i, s in enumerate(mat.shape) if i != self.target_dim]\n",
    "        self.transformed_image = np.expand_dims(\n",
    "            labels.reshape(*other_dims), \n",
    "            axis=self.target_dim\n",
    "        )\n",
    "        return self.transformed_image\n",
    "    \n",
    "    def compute(self, mat):\n",
    "        if self.kmeans is None:\n",
    "            raise ValueError(\"KMeans model has not been fitted. Call process_image first.\")\n",
    "        features = self._reshape_for_kmeans(mat)\n",
    "        labels = self.kmeans.predict(features.T)\n",
    "        # Compute histogram of cluster assignments\n",
    "        hist, _ = np.histogram(labels, bins=range(self.n_clusters + 1))\n",
    "        return hist.astype(float) / hist.sum() # normalize to sum to 1\n",
    "\n",
    "# Example usage\n",
    "kmeans_feature = KMeansFeature(n_clusters=10)\n",
    "app.attach(kmeans_feature)"
   ]
  },
  {
   "cell_type": "code",
   "execution_count": null,
   "metadata": {},
   "outputs": [],
   "source": [
    "# create a multichannel Theremin that has its frequencies in a harmonic series\n",
    "fundamental_freq = 110\n",
    "num_harmonics = kmeans_feature.n_clusters\n",
    "freqs = fundamental_freq * np.arange(1, num_harmonics + 1)\n",
    "print(\"Frequencies:\",freqs)\n",
    "osc = Theremin(frequency=freqs, name=\"KMeansOsc\")\n",
    "app.attach(osc)\n",
    "\n",
    "# create a Mapper that will map the KMeans cluster histogram to the amplitude of the Theremin \n",
    "k2amp = Mapper(kmeans_feature, osc[\"amplitude\"], exponent=1, name=\"K2Amp\")\n",
    "app.attach(k2amp)"
   ]
  },
  {
   "cell_type": "code",
   "execution_count": null,
   "metadata": {},
   "outputs": [],
   "source": [
    "app.attach(osc)"
   ]
  },
  {
   "cell_type": "code",
   "execution_count": null,
   "metadata": {},
   "outputs": [],
   "source": [
    "import matplotlib.pyplot as plt\n",
    "import seaborn as sns\n",
    "\n",
    "# Create a colormap with distinct colors for each cluster\n",
    "n_clusters = kmeans_feature.n_clusters\n",
    "colors = sns.color_palette(\"husl\", n_colors=n_clusters)\n",
    "colormap = {i: colors[i] for i in range(n_clusters)}\n",
    "\n",
    "# Get the cluster assignments from transformed_image\n",
    "cluster_image = kmeans_feature.transformed_image[:, :, 0, 0]\n",
    "print(cluster_image.shape)\n",
    "\n",
    "# Create RGB image where each cluster gets a unique color\n",
    "rgb_image = np.zeros((*cluster_image.shape, 3))\n",
    "for cluster_id, color in colormap.items():\n",
    "    mask = cluster_image == cluster_id\n",
    "    rgb_image[mask] = color\n",
    "\n",
    "# Plot the results\n",
    "plt.figure(figsize=(10, 5))\n",
    "\n",
    "plt.subplot(121)\n",
    "plt.title('Original Image')\n",
    "plt.imshow(app.image_displayed)  # Show first layer of original image\n",
    "plt.axis('off')\n",
    "\n",
    "plt.subplot(122)\n",
    "plt.title('K-means Clusters')\n",
    "plt.imshow(rgb_image)\n",
    "plt.axis('off')\n",
    "\n",
    "plt.tight_layout()\n",
    "plt.show()"
   ]
  },
  {
   "cell_type": "code",
   "execution_count": null,
   "metadata": {},
   "outputs": [],
   "source": [
    "import json\n",
    "synthmaps_pca_mel_json = \"/Volumes/T7RITMO/synthmaps_code/data/pca_mels_mean.json\"\n",
    "synthmaps_pca_mel_json = \"/Volumes/T7RITMO/synthmaps_code/data/pca_perceptual.json\"\n",
    "synthmaps_pca_mel_json = \"/Volumes/T7RITMO/synthmaps_code/data/pca_encodec.json\"\n",
    "synthmaps_pca_mel_json = \"/Volumes/T7RITMO/synthmaps_code/data/pca_clap.json\"\n",
    "with open(synthmaps_pca_mel_json, \"r\") as f:\n",
    "    pca_mel_data = json.load(f)\n",
    "print(pca_mel_data.keys())"
   ]
  },
  {
   "cell_type": "code",
   "execution_count": null,
   "metadata": {},
   "outputs": [],
   "source": [
    "def fluid_dataset2array(\n",
    "        dataset: dict,\n",
    ") -> np.ndarray:\n",
    "    \"\"\"\n",
    "    Convert a json dataset to a numpy array.\n",
    "\n",
    "    Args:\n",
    "        dataset (dict): The json dataset to convert.\n",
    "\n",
    "    Returns:\n",
    "        np.ndarray: The numpy array.\n",
    "    \"\"\"\n",
    "    num_cols = dataset[\"cols\"]\n",
    "    num_rows = len(dataset[\"data\"])\n",
    "    out_array = np.zeros((num_rows, num_cols))\n",
    "    for i in range(num_rows):\n",
    "        out_array[i] = np.array(dataset[\"data\"][str(i)])\n",
    "    return out_array"
   ]
  },
  {
   "cell_type": "code",
   "execution_count": null,
   "metadata": {},
   "outputs": [],
   "source": [
    "pca_mel_data_array = fluid_dataset2array(pca_mel_data)\n",
    "print(pca_mel_data_array.shape)"
   ]
  },
  {
   "cell_type": "code",
   "execution_count": null,
   "metadata": {},
   "outputs": [],
   "source": [
    "from sklearn.preprocessing import MinMaxScaler\n",
    "\n",
    "synthmaps_scaler = MinMaxScaler()\n",
    "pca_mel_data_scaled = synthmaps_scaler.fit_transform(pca_mel_data_array)\n",
    "print(pca_mel_data_scaled.shape)\n",
    "print(pca_mel_data_scaled.min(), pca_mel_data_scaled.max())"
   ]
  },
  {
   "cell_type": "code",
   "execution_count": null,
   "metadata": {},
   "outputs": [],
   "source": [
    "fm_params_json = \"/Volumes/T7RITMO/synthmaps_code/data/fm_params.json\"\n",
    "with open(fm_params_json, \"r\") as f:\n",
    "    fm_params_data = json.load(f)\n",
    "print(fm_params_data.keys())\n",
    "fm_params_data_array = fluid_dataset2array(fm_params_data)\n",
    "print(fm_params_data_array.shape)"
   ]
  },
  {
   "cell_type": "code",
   "execution_count": null,
   "metadata": {},
   "outputs": [],
   "source": [
    "from sklearn.neighbors import KDTree\n",
    "from sklearn.decomposition import IncrementalPCA\n",
    "\n",
    "class PCA2FMTimbreSpace(Feature):\n",
    "    def __init__(self, name=\"PCA2FMTimbreSpace\"):\n",
    "        super().__init__(name=name)\n",
    "        self.pca = None\n",
    "        self.pca_scaler = None\n",
    "        self.kdtree = KDTree(pca_mel_data_scaled)\n",
    "        self._original_shape = None\n",
    "        self._transformed_points = None\n",
    "\n",
    "    def _reshape_for_pca(self, mat):\n",
    "        \"\"\"Helper to reshape 4D matrix (H, W, Ch, L) to 2D by concatenating the Channel and Layer dimensions\"\"\"\n",
    "        mat_reshaped = mat.reshape(mat.shape[0], mat.shape[1], -1)\n",
    "        return mat_reshaped.reshape(-1, mat_reshaped.shape[-1])\n",
    "\n",
    "    def process_image(self, mat):\n",
    "        self._original_shape = mat.shape\n",
    "        features = self._reshape_for_pca(mat)\n",
    "        print(features.shape)\n",
    "        self.pca = IncrementalPCA(n_components=2)\n",
    "        self.pca.fit(features)\n",
    "        self.pca_scaler = MinMaxScaler(feature_range=(0.1, 0.9))\n",
    "        self._transformed_points = self.pca.transform(features)\n",
    "        self.pca_scaler.fit(self._transformed_points)\n",
    "        return mat\n",
    "    \n",
    "    def compute(self, mat):\n",
    "        if self.pca is None:\n",
    "            raise ValueError(\"PCA model has not been fitted. Call process_image first.\")\n",
    "        features = self._reshape_for_pca(mat)\n",
    "        projected = self.pca.transform(features)\n",
    "        projected_scaled = self.pca_scaler.transform(projected)\n",
    "        projected_scaled_mean = projected_scaled.mean(axis=0, keepdims=True)\n",
    "        nearest_idx = self.kdtree.query(projected_scaled_mean, return_distance=False)[0][0]\n",
    "        fm_params = fm_params_data_array[nearest_idx]\n",
    "        return fm_params\n",
    "\n",
    "\n",
    "# Example usage\n",
    "pca2FM_feature = PCA2FMTimbreSpace()\n",
    "app.attach(pca2FM_feature)"
   ]
  },
  {
   "cell_type": "code",
   "execution_count": null,
   "metadata": {},
   "outputs": [],
   "source": [
    "import matplotlib.pyplot as plt\n",
    "#plot the pca space\n",
    "plt.figure(figsize=(10, 5))\n",
    "\n",
    "plt.subplot(121)\n",
    "\n",
    "points = pca2FM_feature._transformed_points\n",
    "plt.scatter(points[:, 0], points[:, 1], alpha=0.5)\n",
    "plt.title('PCA Space')\n",
    "plt.xlabel('PCA 1')\n",
    "plt.ylabel('PCA 2')\n"
   ]
  },
  {
   "cell_type": "code",
   "execution_count": null,
   "metadata": {},
   "outputs": [],
   "source": [
    "from sklearn.neighbors import KDTree\n",
    "from sklearn.manifold import TSNE\n",
    "\n",
    "class TSNE2FMTimbreSpace(Feature):\n",
    "    def __init__(self, name=\"TSNE2FMTimbreSpace\"):\n",
    "        super().__init__(name=name)\n",
    "        self.tsne = None\n",
    "        self.tsne_scaler = None\n",
    "        self.kdtree = KDTree(pca_mel_data_scaled)\n",
    "        self._original_shape = None\n",
    "        self._transformed_points = None\n",
    "\n",
    "    def _reshape_for_tsne(self, mat):\n",
    "        \"\"\"Helper to reshape 4D matrix (H, W, Ch, L) to 2D by concatenating the Channel and Layer dimensions\"\"\"\n",
    "        mat_reshaped = mat.reshape(mat.shape[0], mat.shape[1], -1)\n",
    "        return mat_reshaped.reshape(-1, mat_reshaped.shape[-1])\n",
    "\n",
    "    def process_image(self, mat):\n",
    "        self._original_shape = mat.shape\n",
    "        features = self._reshape_for_tsne(mat)\n",
    "        print(features.shape)\n",
    "        self.tsne = TSNE(n_components=2)\n",
    "        self._transformed_points = self.tsne.fit_transform(features)\n",
    "        self.tsne_scaler = MinMaxScaler(feature_range=(0.1, 0.9))\n",
    "        self.tsne_scaler.fit(self._transformed_points)\n",
    "        return mat\n",
    "    \n",
    "    def compute(self, mat):\n",
    "        if self.tsne is None:\n",
    "            raise ValueError(\"TSNE model has not been fitted. Call process_image first.\")\n",
    "        features = self._reshape_for_tsne(mat)\n",
    "        projected = self.tsne.transform(features)\n",
    "        projected_scaled = self.tsne_scaler.transform(projected)\n",
    "        projected_scaled_mean = projected_scaled.mean(axis=0, keepdims=True)\n",
    "        nearest_idx = self.kdtree.query(projected_scaled_mean, return_distance=False)[0][0]\n",
    "        fm_params = fm_params_data_array[nearest_idx]\n",
    "        return fm_params\n",
    "\n",
    "\n",
    "# Example usage\n",
    "tsne2FM_feature = TSNE2FMTimbreSpace()\n",
    "app.attach(tsne2FM_feature)"
   ]
  },
  {
   "cell_type": "code",
   "execution_count": null,
   "metadata": {},
   "outputs": [],
   "source": [
    "import matplotlib.pyplot as plt\n",
    "#plot the tsne space\n",
    "plt.figure(figsize=(10, 5))\n",
    "\n",
    "plt.subplot(121)\n",
    "\n",
    "points = tsne2FM_feature._transformed_points\n",
    "plt.scatter(points[:, 0], points[:, 1], alpha=0.5)\n",
    "plt.title('TSNE Space')\n",
    "plt.xlabel('TSNE 1')\n",
    "plt.ylabel('TSNE 2')"
   ]
  },
  {
   "cell_type": "code",
   "execution_count": null,
   "metadata": {},
   "outputs": [],
   "source": [
    "fm = SimpleFM()\n",
    "app.attach(fm)"
   ]
  },
  {
   "cell_type": "code",
   "execution_count": null,
   "metadata": {},
   "outputs": [],
   "source": [
    "class FMParamSetter(Mapper):\n",
    "    def __init__(self, feature, synth, name=\"FMParamSetter\"):\n",
    "        super().__init__(feature, synth, name=name)\n",
    "\n",
    "    def map(self, frame=None):\n",
    "        fm_params = self.buf_in.data\n",
    "        if fm_params.shape[0] == 3:\n",
    "            self.obj_out_owner.set_input_buf(\"carrier_freq\", fm_params[0], from_slider=False)\n",
    "            self.obj_out_owner.set_input_buf(\"harm_ratio\", fm_params[1], from_slider=False)\n",
    "            self.obj_out_owner.set_input_buf(\"mod_index\", fm_params[2], from_slider=False)\n",
    "\n",
    "fm_param_setter = FMParamSetter(pca2FM_feature, fm[\"carrier_freq\"])\n",
    "app.attach(fm_param_setter)"
   ]
  },
  {
   "cell_type": "code",
   "execution_count": null,
   "metadata": {},
   "outputs": [],
   "source": [
    "fm2 = SimpleFM(name=\"FM2\")\n",
    "app.attach(fm2)\n",
    "fm2_param_setter = FMParamSetter(tsne2FM_feature, fm2[\"carrier_freq\"])\n",
    "app.attach(fm2_param_setter)"
   ]
  },
  {
   "cell_type": "code",
   "execution_count": null,
   "metadata": {},
   "outputs": [],
   "source": [
    "app.probe_height, app.probe_width = 20, 20"
   ]
  },
  {
   "cell_type": "code",
   "execution_count": null,
   "metadata": {},
   "outputs": [],
   "source": [
    "app.detach(pca2FM_feature)\n",
    "app.detach(fm_param_setter)"
   ]
  },
  {
   "cell_type": "code",
   "execution_count": null,
   "metadata": {},
   "outputs": [],
   "source": [
    "app.detach(pca2FM_feature)\n",
    "app.detach(fm_param_setter)\n",
    "pca2FM_feature = PCA2FMTimbreSpace()\n",
    "pca2FM_feature.filter_channels = None # try also 0\n",
    "app.attach(pca2FM_feature)\n",
    "fm_param_setter = FMParamSetter(pca2FM_feature, fm[\"carrier_freq\"])\n",
    "app.attach(fm_param_setter)"
   ]
  },
  {
   "cell_type": "markdown",
   "metadata": {},
   "source": [
    "# Test custom Synth"
   ]
  },
  {
   "cell_type": "code",
   "execution_count": 1,
   "metadata": {},
   "outputs": [],
   "source": [
    "import signalflow as sf\n",
    "import numpy as np\n",
    "import json\n",
    "from typing import List, Dict\n",
    "from pixasonics.utils import broadcast_params, ParamSliderDebouncer, array2str\n",
    "from pixasonics.synths import Mixer\n",
    "from pixasonics.ui import SynthCard, find_widget_by_tag\n",
    "import copy"
   ]
  },
  {
   "cell_type": "code",
   "execution_count": 2,
   "metadata": {},
   "outputs": [],
   "source": [
    "def patch_spec2dict(spec: sf.PatchSpec) -> Dict:\n",
    "    \"\"\"\n",
    "    Convert a patch spec to a python dict.\n",
    "    \"\"\"\n",
    "    spec_dict = json.loads(spec.to_json())\n",
    "    return spec_dict\n",
    "\n",
    "def patch_dict2spec(spec_dict: Dict) -> sf.PatchSpec:\n",
    "    \"\"\"\n",
    "    Convert a python dict to a patch spec.\n",
    "    \"\"\"\n",
    "    spec = sf.PatchSpec.from_json(json.dumps(spec_dict))\n",
    "    return spec\n",
    "\n",
    "def get_spec_input_names(spec: sf.PatchSpec) -> List[str]:\n",
    "    \"\"\"\n",
    "    Get the inputs of a patch spec.\n",
    "    \"\"\"\n",
    "    spec_dict = patch_spec2dict(spec)\n",
    "    inputs = spec_dict[\"inputs\"]\n",
    "    input_names = [input[\"patch_input_name\"] for input in inputs]\n",
    "    return input_names\n",
    "\n",
    "def find_dict_with_entry(list_of_dicts: List[Dict], key: str, value) -> Dict:\n",
    "    \"\"\"\n",
    "    Find a dictionary in a list where a specific key has a given value.\n",
    "    \n",
    "    Args:\n",
    "        list_of_dicts (list): A list of dictionaries to search through\n",
    "        key (str): The key to search for in each dictionary\n",
    "        value: The value to match against the key\n",
    "        \n",
    "    Returns:\n",
    "        dict: The first dictionary where dict[key] == value, or None if no match is found\n",
    "    \"\"\"\n",
    "    return next((d for d in list_of_dicts if key in d and d[key] == value), None)\n",
    "\n",
    "def get_spec_inputs_dict(spec: sf.PatchSpec) -> Dict:\n",
    "    \"\"\"\n",
    "    Get the inputs of a patch spec as a dict, where keys are the\n",
    "    'patch_input_name' and values are the corresponding node values.\n",
    "    \"\"\"\n",
    "    spec_dict = patch_spec2dict(spec)\n",
    "    inputs = spec_dict[\"inputs\"]\n",
    "    nodes = spec_dict[\"nodes\"]\n",
    "    out_dict = {}\n",
    "    for input in inputs:\n",
    "        input_name = input[\"patch_input_name\"]\n",
    "        node_id = input[\"node_id\"]\n",
    "        node_input_name = input[\"node_input_name\"]\n",
    "        # find the node with the same id\n",
    "        node = find_dict_with_entry(nodes, \"id\", node_id)\n",
    "        input_value = node[\"inputs\"][node_input_name]\n",
    "        # if the value is a dict it means there is a channel-array node that holds the values\n",
    "        if isinstance(input_value, dict):\n",
    "            channel_array_id = input_value[\"id\"]\n",
    "            # find the channel array node\n",
    "            channel_array_node = find_dict_with_entry(nodes, \"id\", channel_array_id)\n",
    "            # check that it is really a channel array node\n",
    "            assert channel_array_node[\"node\"] == \"channel-array\"\n",
    "            # get the values\n",
    "            input_value = channel_array_node[\"inputs\"] # this is a dict\n",
    "            # convert to list\n",
    "            input_value = [val for val in input_value.values()]\n",
    "        out_dict[input_name] = input_value\n",
    "    return out_dict\n",
    "\n",
    "def get_patch_spec_num_output_channels(spec: sf.PatchSpec) -> int:\n",
    "    \"\"\"\n",
    "    Get the number of output channels of a patch spec.\n",
    "    \"\"\"\n",
    "    patch = sf.Patch(spec)\n",
    "    return patch.output.num_output_channels\n",
    "\n",
    "def pretty_print_dict(d):\n",
    "    \"\"\"Format dictionary as pretty JSON with indentation and line breaks\"\"\"\n",
    "    print(json.dumps(d, indent=4))"
   ]
  },
  {
   "cell_type": "code",
   "execution_count": 3,
   "metadata": {},
   "outputs": [
    {
     "name": "stderr",
     "output_type": "stream",
     "text": [
      "[miniaudio] Output device: MacBook Pro Speakers (48000Hz, buffer size 480 samples, 2 channels)\n"
     ]
    }
   ],
   "source": [
    "# create a graph\n",
    "graph = sf.AudioGraph(start=True)"
   ]
  },
  {
   "cell_type": "code",
   "execution_count": 4,
   "metadata": {},
   "outputs": [],
   "source": [
    "# create a test patch\n",
    "class TestPatch(sf.Patch):\n",
    "    def __init__(self, freq=440):\n",
    "        super().__init__()\n",
    "        freq = self.add_input(\"freq\", freq)\n",
    "        out = sf.SineOscillator(freq)\n",
    "        self.set_output(out)"
   ]
  },
  {
   "cell_type": "code",
   "execution_count": 5,
   "metadata": {},
   "outputs": [],
   "source": [
    "my_patch = TestPatch()"
   ]
  },
  {
   "cell_type": "code",
   "execution_count": 6,
   "metadata": {},
   "outputs": [],
   "source": [
    "my_patch_multi = TestPatch(freq=[440, 441, 442])"
   ]
  },
  {
   "cell_type": "code",
   "execution_count": 7,
   "metadata": {},
   "outputs": [],
   "source": [
    "my_spec_multi = my_patch_multi.to_spec()"
   ]
  },
  {
   "cell_type": "code",
   "execution_count": 8,
   "metadata": {},
   "outputs": [],
   "source": [
    "my_spec = my_patch.to_spec()"
   ]
  },
  {
   "cell_type": "code",
   "execution_count": 9,
   "metadata": {},
   "outputs": [
    {
     "data": {
      "text/plain": [
       "{'freq': 440}"
      ]
     },
     "execution_count": 9,
     "metadata": {},
     "output_type": "execute_result"
    }
   ],
   "source": [
    "get_spec_inputs_dict(my_spec)"
   ]
  },
  {
   "cell_type": "code",
   "execution_count": 10,
   "metadata": {},
   "outputs": [
    {
     "data": {
      "text/plain": [
       "{'freq': [440, 441, 442]}"
      ]
     },
     "execution_count": 10,
     "metadata": {},
     "output_type": "execute_result"
    }
   ],
   "source": [
    "get_spec_inputs_dict(my_spec_multi)"
   ]
  },
  {
   "cell_type": "code",
   "execution_count": 11,
   "metadata": {},
   "outputs": [
    {
     "data": {
      "text/plain": [
       "['freq']"
      ]
     },
     "execution_count": 11,
     "metadata": {},
     "output_type": "execute_result"
    }
   ],
   "source": [
    "get_spec_input_names(my_spec)"
   ]
  },
  {
   "cell_type": "code",
   "execution_count": 12,
   "metadata": {},
   "outputs": [
    {
     "data": {
      "text/plain": [
       "1"
      ]
     },
     "execution_count": 12,
     "metadata": {},
     "output_type": "execute_result"
    }
   ],
   "source": [
    "get_patch_spec_num_output_channels(my_spec)"
   ]
  },
  {
   "cell_type": "code",
   "execution_count": 13,
   "metadata": {},
   "outputs": [],
   "source": [
    "PARAM_SLIDER_DEBOUNCE_TIME = 0.05"
   ]
  },
  {
   "cell_type": "code",
   "execution_count": null,
   "metadata": {},
   "outputs": [],
   "source": [
    "class Synth():\n",
    "    def __init__(\n",
    "            self, \n",
    "            patch_spec: sf.PatchSpec, \n",
    "            params_dict: Dict = None, \n",
    "            name: str = \"Synth\",\n",
    "            add_amplitude: bool = True,\n",
    "            add_panning: bool = True):\n",
    "        self.name = name\n",
    "        self.patch_spec = patch_spec\n",
    "        self.params = {} if params_dict is None else copy.deepcopy(params_dict)\n",
    "        self.synth = None\n",
    "        self.num_channels = -1 # will be set in generate_params\n",
    "        self.add_amplitude = add_amplitude\n",
    "        self.add_panning = add_panning\n",
    "        self.id = str(id(self))\n",
    "        # generate params dict\n",
    "        self.generate_params()\n",
    "        # create param buffers, their players, smoothing, and the patch\n",
    "        self.create_audio_graph()\n",
    "        # create ui\n",
    "        self.create_ui()\n",
    "        # create param slider debouncer if necessary\n",
    "        self.debouncer = ParamSliderDebouncer(PARAM_SLIDER_DEBOUNCE_TIME) if self.num_channels == 1 else None\n",
    "\n",
    "\n",
    "    def generate_params(self):\n",
    "        # check that there are keys for all params\n",
    "        params = get_spec_inputs_dict(self.patch_spec)\n",
    "        # add amplitude if requested\n",
    "        if self.add_amplitude:\n",
    "            # amplitude should default to 0.5\n",
    "            params[\"amplitude\"] = 0.5\n",
    "            self.params[\"amplitude\"] = {\n",
    "                \"min\": 0,\n",
    "                \"max\": 1,\n",
    "            }\n",
    "        # add panning if requested\n",
    "        if self.add_panning:\n",
    "            # panning should default to middle if single channel or a spread if multichannel\n",
    "            spec_output_channels = get_patch_spec_num_output_channels(self.patch_spec)\n",
    "            if spec_output_channels == 1:\n",
    "                panning_default = 0\n",
    "            else:\n",
    "                panning_default = [-1, 1]\n",
    "            params[\"panning\"] = panning_default\n",
    "            self.params[\"panning\"] = {\n",
    "                \"min\": -1,\n",
    "                \"max\": 1,\n",
    "            }\n",
    "\n",
    "        for param_name in params.keys():\n",
    "            # if not, then make a new dict for it\n",
    "            if param_name not in self.params:\n",
    "                self.params[param_name] = {}\n",
    "            # if yes, then assert that it is a dict\n",
    "            assert isinstance(self.params[param_name], dict)\n",
    "            # fill in the dict with the values\n",
    "            template = {\n",
    "                \"min\": 0,\n",
    "                \"max\": 1,\n",
    "                \"unit\": \"\",\n",
    "                \"scale\": \"linear\",\n",
    "            }\n",
    "            forced_template = {\n",
    "                \"buffer\": None,\n",
    "                \"buffer_player\": None,\n",
    "                \"name\": f\"{self.name} {param_name.capitalize()}\",\n",
    "                \"param_name\": param_name,\n",
    "                \"owner\": self,\n",
    "            }\n",
    "            # combine template with user-provided values\n",
    "            self.params[param_name] = {**template, **self.params[param_name]} # user can overwrite the template\n",
    "            # combine forced_template with user-provided values\n",
    "            self.params[param_name] = {**self.params[param_name], **forced_template} # user cannot overwrite the forced_template\n",
    "\n",
    "        # broadcast params\n",
    "        param_names = list(params.keys())\n",
    "        param_values = [params[param_name] for param_name in param_names]\n",
    "        broadcasted_params = broadcast_params(*param_values)\n",
    "        self.num_channels = len(broadcasted_params[0]) # all params should have the same amount of channels now\n",
    "        # register values in params dict\n",
    "        for i, param_name in enumerate(param_names):\n",
    "            params_list = broadcasted_params[i]\n",
    "            self.params[param_name][\"default\"] = params_list\n",
    "            self.params[param_name][\"value\"] = params_list\n",
    "    \n",
    "\n",
    "    def create_audio_graph(self):\n",
    "        graph = sf.AudioGraph.get_shared_graph()\n",
    "        mix_val = sf.calculate_decay_coefficient(0.05, graph.sample_rate, 0.001)\n",
    "        self.patch = sf.Patch(self.patch_spec)\n",
    "\n",
    "        param_names = list(self.params.keys())\n",
    "        for param_name in param_names:\n",
    "            params_list = self.params[param_name][\"value\"] # expecting the broadcasted values\n",
    "            buffer = sf.Buffer(self.num_channels, 1)\n",
    "            buffer.data[:, :] = np.array(params_list).reshape(self.num_channels, 1)\n",
    "            self.params[param_name][\"buffer\"] = buffer\n",
    "            buffer_player = sf.BufferPlayer(buffer, loop=True)\n",
    "            self.params[param_name][\"buffer_player\"] = buffer_player\n",
    "            smoothed = sf.Smooth(buffer_player, mix_val)\n",
    "            self.params[param_name][\"smoothed\"] = smoothed\n",
    "            # set the input of the patch to the smoothed value, except the added amplitude and panning params\n",
    "            if self.add_amplitude and param_name == \"amplitude\":\n",
    "                continue\n",
    "            if self.add_panning and param_name == \"panning\":\n",
    "                continue\n",
    "            self.patch.set_input(param_name, smoothed)\n",
    "\n",
    "        self.patch_output = self.patch.output * self.params[\"amplitude\"][\"smoothed\"] if self.add_amplitude else self.patch.output\n",
    "        self.output = Mixer(self.patch_output, self.params[\"panning\"][\"smoothed\"] * 0.5 + 0.5, out_channels=2) if self.add_panning else self.patch_output\n",
    "        \n",
    "\n",
    "    def set_input_buf(self, name, value, from_slider=False):\n",
    "        self.params[name][\"buffer\"].data[:, :] = value\n",
    "        self.params[name][\"value\"] = value.tolist() if isinstance(value, np.ndarray) else value\n",
    "        if not from_slider and self.num_channels == 1:\n",
    "            slider = find_widget_by_tag(self.ui, name)\n",
    "            slider.unobserve_all()\n",
    "            slider_value = value if self.num_channels == 1 else array2str(value)\n",
    "            self.debouncer.submit(name, lambda: self.update_slider(slider, slider_value))\n",
    "        elif not from_slider and self.num_channels > 1:\n",
    "            slider = find_widget_by_tag(self.ui, name)\n",
    "            slider.value = array2str(value)\n",
    "\n",
    "\n",
    "    def update_slider(self, slider, value):\n",
    "        slider.unobserve_all()\n",
    "        slider.value = value\n",
    "        slider.observe(\n",
    "            lambda change: self.set_input_buf(\n",
    "                    change[\"owner\"].tag, \n",
    "                    change[\"new\"],\n",
    "                    from_slider=True\n",
    "                ), \n",
    "                names=\"value\")\n",
    "        \n",
    "\n",
    "    def reset_to_default(self):\n",
    "        for param in self.params:\n",
    "            self.set_input_buf(param, np.array(self.params[param][\"default\"]).reshape(self.num_channels, 1), from_slider=False)\n",
    "\n",
    "\n",
    "    def __getitem__(self, key):\n",
    "        return self.params[key]\n",
    "    \n",
    "\n",
    "    def create_ui(self):\n",
    "        self._ui = SynthCard(\n",
    "            name=self.name,\n",
    "            id=self.id,\n",
    "            params=self.params,\n",
    "            num_channels=self.num_channels\n",
    "        )\n",
    "        self._ui.synth = self\n",
    "\n",
    "\n",
    "    @property\n",
    "    def ui(self):\n",
    "        return self._ui()\n",
    "    \n",
    "\n",
    "    def __repr__(self):\n",
    "        return f\"Synth {self.id}: {self.name}\"\n",
    "\n"
   ]
  },
  {
   "cell_type": "code",
   "execution_count": 15,
   "metadata": {},
   "outputs": [],
   "source": [
    "params = {\n",
    "    \"freq\": {\n",
    "        \"min\": 20,\n",
    "        \"max\": 20000,\n",
    "        \"unit\": \"Hz\",\n",
    "        \"scale\": \"log\",\n",
    "    },\n",
    "}"
   ]
  },
  {
   "cell_type": "code",
   "execution_count": 16,
   "metadata": {},
   "outputs": [
    {
     "data": {
      "text/plain": [
       "{'freq': {'min': 20, 'max': 20000, 'unit': 'Hz', 'scale': 'log'}}"
      ]
     },
     "execution_count": 16,
     "metadata": {},
     "output_type": "execute_result"
    }
   ],
   "source": [
    "params"
   ]
  },
  {
   "cell_type": "code",
   "execution_count": 17,
   "metadata": {},
   "outputs": [],
   "source": [
    "graph.clear()"
   ]
  },
  {
   "cell_type": "code",
   "execution_count": 18,
   "metadata": {},
   "outputs": [],
   "source": [
    "main_bus = sf.Bus(num_channels=2)\n",
    "main_bus.play()"
   ]
  },
  {
   "cell_type": "code",
   "execution_count": 19,
   "metadata": {},
   "outputs": [
    {
     "data": {
      "text/plain": [
       "'AudioGraph: 1 active node, 0 patches, 0.12% CPU usage, 0.1MB memory usage, output = -dB'"
      ]
     },
     "execution_count": 19,
     "metadata": {},
     "output_type": "execute_result"
    }
   ],
   "source": [
    "graph.status"
   ]
  },
  {
   "cell_type": "code",
   "execution_count": 20,
   "metadata": {},
   "outputs": [],
   "source": [
    "pixa_synth = Synth(my_spec, params_dict=params, name=\"Laszlo\")"
   ]
  },
  {
   "cell_type": "code",
   "execution_count": 21,
   "metadata": {},
   "outputs": [],
   "source": [
    "main_bus.add_input(pixa_synth.output)"
   ]
  },
  {
   "cell_type": "code",
   "execution_count": 23,
   "metadata": {},
   "outputs": [],
   "source": [
    "main_bus.remove_input(pixa_synth.output)"
   ]
  },
  {
   "cell_type": "code",
   "execution_count": 22,
   "metadata": {},
   "outputs": [
    {
     "data": {
      "application/vnd.jupyter.widget-view+json": {
       "model_id": "cb2a11f04d86419ba5df99f4fd76920e",
       "version_major": 2,
       "version_minor": 0
      },
      "text/plain": [
       "Box(children=(Box(children=(Label(value='Laszlo', style=LabelStyle(font_size='20px', font_weight='bold')), Lab…"
      ]
     },
     "execution_count": 22,
     "metadata": {},
     "output_type": "execute_result"
    }
   ],
   "source": [
    "pixa_synth.ui"
   ]
  },
  {
   "cell_type": "code",
   "execution_count": 24,
   "metadata": {},
   "outputs": [
    {
     "data": {
      "text/plain": [
       "1602.9869828846236"
      ]
     },
     "execution_count": 24,
     "metadata": {},
     "output_type": "execute_result"
    }
   ],
   "source": [
    "pixa_synth.params[\"freq\"][\"value\"]"
   ]
  },
  {
   "cell_type": "code",
   "execution_count": 25,
   "metadata": {},
   "outputs": [
    {
     "data": {
      "text/plain": [
       "1602.947998046875"
      ]
     },
     "execution_count": 25,
     "metadata": {},
     "output_type": "execute_result"
    }
   ],
   "source": [
    "pixa_synth.params[\"freq\"][\"smoothed\"].get_value()"
   ]
  },
  {
   "cell_type": "code",
   "execution_count": null,
   "metadata": {},
   "outputs": [],
   "source": [
    "# test redoing the graph with a different sample rate/buffer size and re-creating the synth's audio graph\n",
    "graph.destroy()\n",
    "config = sf.AudioGraphConfig()\n",
    "config.sample_rate = 48000\n",
    "config.output_buffer_size = 256\n",
    "graph = sf.AudioGraph(config=config, start=True)\n",
    "main_bus = sf.Bus(num_channels=2)\n",
    "main_bus.play()\n",
    "# pixa_synth.create_audio_graph()\n",
    "# main_bus.add_input(pixa_synth.output)\n",
    "graph.sample_rate, graph.output_buffer_size"
   ]
  },
  {
   "cell_type": "code",
   "execution_count": 26,
   "metadata": {},
   "outputs": [],
   "source": [
    "pixa_synth_multi = Synth(my_spec_multi, params_dict=params)"
   ]
  },
  {
   "cell_type": "code",
   "execution_count": 27,
   "metadata": {},
   "outputs": [
    {
     "data": {
      "application/vnd.jupyter.widget-view+json": {
       "model_id": "2c5a7f4eada04572af573a6518b7742f",
       "version_major": 2,
       "version_minor": 0
      },
      "text/plain": [
       "Box(children=(Box(children=(Label(value='PixaSynth', style=LabelStyle(font_size='20px', font_weight='bold')), …"
      ]
     },
     "execution_count": 27,
     "metadata": {},
     "output_type": "execute_result"
    }
   ],
   "source": [
    "pixa_synth_multi.ui"
   ]
  },
  {
   "cell_type": "code",
   "execution_count": 28,
   "metadata": {},
   "outputs": [],
   "source": [
    "main_bus.add_input(pixa_synth_multi.output)"
   ]
  },
  {
   "cell_type": "code",
   "execution_count": 30,
   "metadata": {},
   "outputs": [],
   "source": [
    "main_bus.remove_input(pixa_synth_multi.output)"
   ]
  },
  {
   "cell_type": "code",
   "execution_count": 29,
   "metadata": {},
   "outputs": [],
   "source": [
    "new_freqs = np.array([440, 460, 480]).reshape(3, 1)\n",
    "pixa_synth_multi.set_input_buf(\"freq\", new_freqs)"
   ]
  },
  {
   "cell_type": "code",
   "execution_count": 31,
   "metadata": {},
   "outputs": [],
   "source": [
    "class SimpleFMPatch(sf.Patch):\n",
    "    def __init__(\n",
    "            self, \n",
    "            carrier_frequency=440, \n",
    "            harmonicity_ratio=1,\n",
    "            modulation_index=1,\n",
    "            lp_cutoff=20000,\n",
    "            lp_resonance=0.5,\n",
    "            hp_cutoff=20,\n",
    "            hp_resonance=0.5,\n",
    "            ):\n",
    "        super().__init__()\n",
    "        carrier_freq = self.add_input(\"carrier_freq\", carrier_frequency)\n",
    "        harm_ratio = self.add_input(\"harm_ratio\", harmonicity_ratio)\n",
    "        mod_index = self.add_input(\"mod_index\", modulation_index)\n",
    "        lp_cutoff = self.add_input(\"lp_cutoff\", lp_cutoff)\n",
    "        lp_resonance = self.add_input(\"lp_resonance\", lp_resonance)\n",
    "        hp_cutoff = self.add_input(\"hp_cutoff\", hp_cutoff)\n",
    "        hp_resonance = self.add_input(\"hp_resonance\", hp_resonance)\n",
    "        # create the synth\n",
    "        mod_freq = carrier_freq * harm_ratio\n",
    "        mod_amp = mod_freq * mod_index\n",
    "        modulator = sf.SineOscillator(mod_freq) * mod_amp\n",
    "        carrier = sf.SineOscillator(carrier_freq + modulator)\n",
    "        # create the filters\n",
    "        lp_resonance_clipped = sf.Clip(lp_resonance, 0.0, 0.999)\n",
    "        hp_resonance_clipped = sf.Clip(hp_resonance, 0.0, 0.999)\n",
    "        lp = sf.SVFilter(\n",
    "            carrier,\n",
    "            filter_type=\"low_pass\",\n",
    "            cutoff=lp_cutoff,\n",
    "            resonance=lp_resonance_clipped\n",
    "        )\n",
    "        hp = sf.SVFilter(\n",
    "            lp,\n",
    "            filter_type=\"high_pass\",\n",
    "            cutoff=hp_cutoff,\n",
    "            resonance=hp_resonance_clipped\n",
    "        )\n",
    "        out = hp\n",
    "        self.set_output(out)"
   ]
  },
  {
   "cell_type": "code",
   "execution_count": 32,
   "metadata": {},
   "outputs": [],
   "source": [
    "carr_freqs = [440, 480, 520]\n",
    "simple_fm_patch = SimpleFMPatch(carrier_frequency=carr_freqs)\n",
    "simple_fm_patch_spec = simple_fm_patch.to_spec()"
   ]
  },
  {
   "cell_type": "code",
   "execution_count": 33,
   "metadata": {},
   "outputs": [],
   "source": [
    "fm_params = {\n",
    "    \"carrier_freq\": {\n",
    "        \"min\": 20,\n",
    "        \"max\": 20000,\n",
    "        \"unit\": \"Hz\",\n",
    "        \"scale\": \"log\",\n",
    "    },\n",
    "    \"harm_ratio\": {\n",
    "        \"min\": 0,\n",
    "        \"max\": 10,\n",
    "    },\n",
    "    \"mod_index\": {\n",
    "        \"min\": 0,\n",
    "        \"max\": 10,\n",
    "    },\n",
    "    \"lp_cutoff\": {\n",
    "        \"min\": 20,\n",
    "        \"max\": 20000,\n",
    "        \"unit\": \"Hz\",\n",
    "        \"scale\": \"log\",\n",
    "    },\n",
    "    \"lp_resonance\": {\n",
    "        \"min\": 0,\n",
    "        \"max\": 0.999,\n",
    "    },\n",
    "    \"hp_cutoff\": {\n",
    "        \"min\": 20,\n",
    "        \"max\": 20000,\n",
    "        \"unit\": \"Hz\",\n",
    "        \"scale\": \"log\",\n",
    "    },\n",
    "    \"hp_resonance\": {\n",
    "        \"min\": 0,\n",
    "        \"max\": 0.999,\n",
    "    },\n",
    "}"
   ]
  },
  {
   "cell_type": "code",
   "execution_count": 34,
   "metadata": {},
   "outputs": [],
   "source": [
    "pixa_fm = Synth(simple_fm_patch_spec, params_dict=fm_params, name=\"SimpleFM\")"
   ]
  },
  {
   "cell_type": "code",
   "execution_count": 35,
   "metadata": {},
   "outputs": [
    {
     "data": {
      "application/vnd.jupyter.widget-view+json": {
       "model_id": "b48a4dbcbdd8429b87baba4059aeaa2f",
       "version_major": 2,
       "version_minor": 0
      },
      "text/plain": [
       "Box(children=(Box(children=(Label(value='SimpleFM', style=LabelStyle(font_size='20px', font_weight='bold')), L…"
      ]
     },
     "execution_count": 35,
     "metadata": {},
     "output_type": "execute_result"
    }
   ],
   "source": [
    "pixa_fm.ui"
   ]
  },
  {
   "cell_type": "code",
   "execution_count": 41,
   "metadata": {},
   "outputs": [],
   "source": [
    "main_bus.add_input(pixa_fm.output)"
   ]
  },
  {
   "cell_type": "code",
   "execution_count": 42,
   "metadata": {},
   "outputs": [],
   "source": [
    "main_bus.remove_input(pixa_fm.output)"
   ]
  },
  {
   "cell_type": "code",
   "execution_count": 43,
   "metadata": {},
   "outputs": [
    {
     "data": {
      "text/plain": [
       "'AudioGraph: 1 active node, 0 patches, 0.11% CPU usage, 3.9MB memory usage, output = -dB'"
      ]
     },
     "execution_count": 43,
     "metadata": {},
     "output_type": "execute_result"
    }
   ],
   "source": [
    "graph.status"
   ]
  },
  {
   "cell_type": "code",
   "execution_count": 38,
   "metadata": {},
   "outputs": [],
   "source": [
    "pixa_fm.set_input_buf(\"carrier_freq\", np.array([440, 550, 660]).reshape(3, 1))\n",
    "pixa_fm.set_input_buf(\"harm_ratio\", np.array([1, 2, 3]).reshape(3, 1))\n",
    "pixa_fm.set_input_buf(\"mod_index\", np.array([1, 2, 3]).reshape(3, 1))"
   ]
  },
  {
   "cell_type": "code",
   "execution_count": 40,
   "metadata": {},
   "outputs": [],
   "source": [
    "pixa_fm.create_audio_graph()"
   ]
  },
  {
   "cell_type": "code",
   "execution_count": 44,
   "metadata": {},
   "outputs": [],
   "source": [
    "class SimpleFM(Synth):\n",
    "    def __init__(\n",
    "        self,\n",
    "        carrier_frequency=440, \n",
    "        harmonicity_ratio=1,\n",
    "        modulation_index=1,\n",
    "        lp_cutoff=20000,\n",
    "        lp_resonance=0.5,\n",
    "        hp_cutoff=20,\n",
    "        hp_resonance=0.5,\n",
    "        name=\"SimpleFM\",\n",
    "    ):\n",
    "        # create the patch spec\n",
    "        _spec = SimpleFMPatch(\n",
    "            carrier_frequency=carrier_frequency, \n",
    "            harmonicity_ratio=harmonicity_ratio,\n",
    "            modulation_index=modulation_index,\n",
    "            lp_cutoff=lp_cutoff,\n",
    "            lp_resonance=lp_resonance,\n",
    "            hp_cutoff=hp_cutoff,\n",
    "            hp_resonance=hp_resonance\n",
    "        ).to_spec()\n",
    "        # create the params dict\n",
    "        _params = {\n",
    "            \"carrier_freq\": {\n",
    "                \"min\": 20,\n",
    "                \"max\": 20000,\n",
    "                \"unit\": \"Hz\",\n",
    "                \"scale\": \"log\",\n",
    "            },\n",
    "            \"harm_ratio\": {\n",
    "                \"min\": 0,\n",
    "                \"max\": 10,\n",
    "            },\n",
    "            \"mod_index\": {\n",
    "                \"min\": 0,\n",
    "                \"max\": 10,\n",
    "            },\n",
    "            \"lp_cutoff\": {\n",
    "                \"min\": 20,\n",
    "                \"max\": 20000,\n",
    "                \"unit\": \"Hz\",\n",
    "                \"scale\": \"log\",\n",
    "            },\n",
    "            \"lp_resonance\": {\n",
    "                \"min\": 0,\n",
    "                \"max\": 0.999,\n",
    "            },\n",
    "            \"hp_cutoff\": {\n",
    "                \"min\": 20,\n",
    "                \"max\": 20000,\n",
    "                \"unit\": \"Hz\",\n",
    "                \"scale\": \"log\",\n",
    "            },\n",
    "            \"hp_resonance\": {\n",
    "                \"min\": 0,\n",
    "                \"max\": 0.999,\n",
    "            },\n",
    "        }\n",
    "        # call the parent constructor\n",
    "        super().__init__(_spec, params_dict=_params, name=name)\n",
    "    \n",
    "    def __repr__(self):\n",
    "        return f\"SimpleFM {self.id}: {self.name}\""
   ]
  },
  {
   "cell_type": "code",
   "execution_count": 45,
   "metadata": {},
   "outputs": [],
   "source": [
    "test_fm = SimpleFM(carrier_frequency=[440, 550, 660])"
   ]
  },
  {
   "cell_type": "code",
   "execution_count": 46,
   "metadata": {},
   "outputs": [
    {
     "data": {
      "application/vnd.jupyter.widget-view+json": {
       "model_id": "951af21b9cb84358931557fc02dfd849",
       "version_major": 2,
       "version_minor": 0
      },
      "text/plain": [
       "Box(children=(Box(children=(Label(value='SimpleFM', style=LabelStyle(font_size='20px', font_weight='bold')), L…"
      ]
     },
     "execution_count": 46,
     "metadata": {},
     "output_type": "execute_result"
    }
   ],
   "source": [
    "test_fm.ui"
   ]
  },
  {
   "cell_type": "code",
   "execution_count": 47,
   "metadata": {},
   "outputs": [
    {
     "data": {
      "text/plain": [
       "'AudioGraph: 1 active node, 0 patches, 0.11% CPU usage, 5.8MB memory usage, output = -dB'"
      ]
     },
     "execution_count": 47,
     "metadata": {},
     "output_type": "execute_result"
    }
   ],
   "source": [
    "graph.status"
   ]
  },
  {
   "cell_type": "code",
   "execution_count": 48,
   "metadata": {},
   "outputs": [],
   "source": [
    "main_bus.add_input(test_fm.output)"
   ]
  },
  {
   "cell_type": "code",
   "execution_count": 49,
   "metadata": {},
   "outputs": [],
   "source": [
    "main_bus.remove_input(test_fm.output)"
   ]
  },
  {
   "cell_type": "code",
   "execution_count": 50,
   "metadata": {},
   "outputs": [],
   "source": [
    "class OscillatorPatch(sf.Patch):\n",
    "    def __init__(\n",
    "            self, \n",
    "            frequency=440, \n",
    "            lp_cutoff=20000,\n",
    "            lp_resonance=0.5,\n",
    "            hp_cutoff=20,\n",
    "            hp_resonance=0.5,\n",
    "            waveform=\"sine\",\n",
    "            ):\n",
    "        super().__init__()\n",
    "        wf_types = [\"sine\", \"square\", \"saw\", \"triangle\"]\n",
    "        assert waveform in wf_types, f\"Waveform must be one of {wf_types}\"\n",
    "        frequency = self.add_input(\"frequency\", frequency)\n",
    "        lp_cutoff = self.add_input(\"lp_cutoff\", lp_cutoff)\n",
    "        lp_resonance = self.add_input(\"lp_resonance\", lp_resonance)\n",
    "        hp_cutoff = self.add_input(\"hp_cutoff\", hp_cutoff)\n",
    "        hp_resonance = self.add_input(\"hp_resonance\", hp_resonance)\n",
    "        # create the synth\n",
    "        osc_templates = [sf.SineOscillator, sf.SquareOscillator, sf.SawOscillator, sf.TriangleOscillator]\n",
    "        osc = osc_templates[wf_types.index(waveform)](frequency)\n",
    "        # create the filters\n",
    "        lp_resonance_clipped = sf.Clip(lp_resonance, 0.0, 0.999)\n",
    "        hp_resonance_clipped = sf.Clip(hp_resonance, 0.0, 0.999)\n",
    "        lp = sf.SVFilter(\n",
    "            osc,\n",
    "            filter_type=\"low_pass\",\n",
    "            cutoff=lp_cutoff,\n",
    "            resonance=lp_resonance_clipped\n",
    "        )\n",
    "        hp = sf.SVFilter(\n",
    "            lp,\n",
    "            filter_type=\"high_pass\",\n",
    "            cutoff=hp_cutoff,\n",
    "            resonance=hp_resonance_clipped\n",
    "        )\n",
    "        out = hp\n",
    "        self.set_output(out)"
   ]
  },
  {
   "cell_type": "code",
   "execution_count": 51,
   "metadata": {},
   "outputs": [],
   "source": [
    "class Oscillator(Synth):\n",
    "    def __init__(\n",
    "        self,\n",
    "        frequency=440, \n",
    "        lp_cutoff=20000,\n",
    "        lp_resonance=0.5,\n",
    "        hp_cutoff=20,\n",
    "        hp_resonance=0.5,\n",
    "        waveform=\"sine\",\n",
    "        name=\"Oscillator\",\n",
    "        ):\n",
    "        # create the patch spec\n",
    "        _spec = OscillatorPatch(\n",
    "            frequency=frequency, \n",
    "            lp_cutoff=lp_cutoff,\n",
    "            lp_resonance=lp_resonance,\n",
    "            hp_cutoff=hp_cutoff,\n",
    "            hp_resonance=hp_resonance,\n",
    "            waveform=waveform\n",
    "        ).to_spec()\n",
    "        # create the params dict\n",
    "        _params = {\n",
    "            \"frequency\": {\n",
    "                \"min\": 20,\n",
    "                \"max\": 20000,\n",
    "                \"unit\": \"Hz\",\n",
    "                \"scale\": \"log\",\n",
    "            },\n",
    "            \"lp_cutoff\": {\n",
    "                \"min\": 20,\n",
    "                \"max\": 20000,\n",
    "                \"unit\": \"Hz\",\n",
    "                \"scale\": \"log\",\n",
    "            },\n",
    "            \"lp_resonance\": {\n",
    "                \"min\": 0,\n",
    "                \"max\": 0.999,\n",
    "            },\n",
    "            \"hp_cutoff\": {\n",
    "                \"min\": 20,\n",
    "                \"max\": 20000,\n",
    "                \"unit\": \"Hz\",\n",
    "                \"scale\": \"log\",\n",
    "            },\n",
    "            \"hp_resonance\": {\n",
    "                \"min\": 0,\n",
    "                \"max\": 0.999,\n",
    "            },\n",
    "        }\n",
    "        # call the parent constructor\n",
    "        super().__init__(_spec, params_dict=_params, name=name)\n",
    "\n",
    "    def __repr__(self):\n",
    "        return f\"Oscillator {self.id}: {self.name}\""
   ]
  },
  {
   "cell_type": "code",
   "execution_count": 52,
   "metadata": {},
   "outputs": [],
   "source": [
    "test_osc = Oscillator(waveform=\"saw\", frequency=[440, 550, 660])"
   ]
  },
  {
   "cell_type": "code",
   "execution_count": 53,
   "metadata": {},
   "outputs": [
    {
     "data": {
      "application/vnd.jupyter.widget-view+json": {
       "model_id": "56613673e2c34ac283fde4642794af8a",
       "version_major": 2,
       "version_minor": 0
      },
      "text/plain": [
       "Box(children=(Box(children=(Label(value='Oscillator', style=LabelStyle(font_size='20px', font_weight='bold')),…"
      ]
     },
     "execution_count": 53,
     "metadata": {},
     "output_type": "execute_result"
    }
   ],
   "source": [
    "test_osc.ui"
   ]
  },
  {
   "cell_type": "code",
   "execution_count": 54,
   "metadata": {},
   "outputs": [],
   "source": [
    "main_bus.add_input(test_osc.output)"
   ]
  },
  {
   "cell_type": "code",
   "execution_count": 56,
   "metadata": {},
   "outputs": [],
   "source": [
    "test_osc.set_input_buf(\"frequency\", np.array([440, 550, 660]).reshape(3, 1) / 2)"
   ]
  },
  {
   "cell_type": "code",
   "execution_count": 58,
   "metadata": {},
   "outputs": [],
   "source": [
    "main_bus.remove_input(test_osc.output)"
   ]
  },
  {
   "cell_type": "code",
   "execution_count": 57,
   "metadata": {},
   "outputs": [
    {
     "data": {
      "text/plain": [
       "'AudioGraph: 36 active nodes, 0 patches, 5.61% CPU usage, 7.3MB memory usage, output = -9.3dB'"
      ]
     },
     "execution_count": 57,
     "metadata": {},
     "output_type": "execute_result"
    }
   ],
   "source": [
    "graph.status"
   ]
  },
  {
   "cell_type": "code",
   "execution_count": 59,
   "metadata": {},
   "outputs": [],
   "source": [
    "class ThereminPatch(sf.Patch):\n",
    "    def __init__(self, frequency=440):\n",
    "        super().__init__()\n",
    "        frequency = self.add_input(\"frequency\", frequency)\n",
    "        out = sf.SineOscillator(frequency)\n",
    "        self.set_output(out)"
   ]
  },
  {
   "cell_type": "code",
   "execution_count": 60,
   "metadata": {},
   "outputs": [],
   "source": [
    "class Theremin(Synth):\n",
    "    def __init__(self, frequency=440, name=\"Theremin\"):\n",
    "        # create the patch spec\n",
    "        _spec = ThereminPatch(\n",
    "            frequency=frequency, \n",
    "        ).to_spec()\n",
    "        # create the params dict\n",
    "        _params = {\n",
    "            \"frequency\": {\n",
    "                \"min\": 20,\n",
    "                \"max\": 20000,\n",
    "                \"unit\": \"Hz\",\n",
    "                \"scale\": \"log\",\n",
    "            },\n",
    "        }\n",
    "        # call the parent constructor\n",
    "        super().__init__(_spec, params_dict=_params, name=name)\n",
    "        \n",
    "    def __repr__(self):\n",
    "        return f\"Theremin {self.id}: {self.name}\""
   ]
  },
  {
   "cell_type": "code",
   "execution_count": 61,
   "metadata": {},
   "outputs": [
    {
     "data": {
      "application/vnd.jupyter.widget-view+json": {
       "model_id": "32eed5066fad44f6a16ec1c6409b7dce",
       "version_major": 2,
       "version_minor": 0
      },
      "text/plain": [
       "Box(children=(Box(children=(Label(value='Theremin', style=LabelStyle(font_size='20px', font_weight='bold')), L…"
      ]
     },
     "execution_count": 61,
     "metadata": {},
     "output_type": "execute_result"
    }
   ],
   "source": [
    "test_theremin = Theremin(frequency=[440, 550, 660])\n",
    "test_theremin.ui"
   ]
  },
  {
   "cell_type": "code",
   "execution_count": 62,
   "metadata": {},
   "outputs": [],
   "source": [
    "main_bus.add_input(test_theremin.output)"
   ]
  },
  {
   "cell_type": "code",
   "execution_count": 65,
   "metadata": {},
   "outputs": [],
   "source": [
    "test_theremin.set_input_buf(\"frequency\", np.array([440, 550, 660]).reshape(3, 1) / 4)"
   ]
  },
  {
   "cell_type": "code",
   "execution_count": 66,
   "metadata": {},
   "outputs": [],
   "source": [
    "main_bus.remove_input(test_theremin.output)"
   ]
  },
  {
   "cell_type": "code",
   "execution_count": 67,
   "metadata": {},
   "outputs": [],
   "source": [
    "class FilteredNoisePatch(sf.Patch):\n",
    "    def __init__(\n",
    "            self,\n",
    "            filter_type=\"band_pass\", # can be 'low_pass', 'band_pass', 'high_pass', 'notch', 'peak', 'low_shelf', 'high_shelf'\n",
    "            order=3,\n",
    "            cutoff=440,\n",
    "            resonance=0.5,\n",
    "            ):\n",
    "        super().__init__()\n",
    "        filter_types = [\"low_pass\", \"band_pass\", \"high_pass\", \"notch\", \"peak\", \"low_shelf\", \"high_shelf\"]\n",
    "        assert filter_type in filter_types, f\"Filter type must be one of {filter_types}\"\n",
    "        self.filter_type = filter_type\n",
    "        self.order = np.clip(order, 1, 8)\n",
    "        cutoff = self.add_input(\"cutoff\", cutoff)\n",
    "        resonance = self.add_input(\"resonance\", resonance)\n",
    "        resonance_clipped = sf.Clip(resonance, 0.0, 0.999)\n",
    "        graph = sf.AudioGraph.get_shared_graph()\n",
    "        mix_val = sf.calculate_decay_coefficient(0.05, graph.sample_rate, 0.001)\n",
    "        # create the synth\n",
    "        noise = sf.WhiteNoise()\n",
    "        # first one\n",
    "        filters = sf.SVFilter(\n",
    "            noise,\n",
    "            filter_type=self.filter_type,\n",
    "            cutoff=cutoff,\n",
    "            resonance=resonance_clipped\n",
    "        )\n",
    "        # the rest\n",
    "        for i in range(1, self.order):\n",
    "            filters = sf.SVFilter(\n",
    "                filters,\n",
    "                filter_type=self.filter_type,\n",
    "                cutoff=cutoff,\n",
    "                resonance=resonance_clipped\n",
    "            )\n",
    "        # amplitude compensation\n",
    "        filters_rms = sf.RMS(filters)\n",
    "        filters_rms_smooth = sf.Smooth(filters_rms, mix_val)\n",
    "        filters = filters / filters_rms_smooth\n",
    "        # output\n",
    "        out = filters\n",
    "        self.set_output(out * 0.707 * 0.5)"
   ]
  },
  {
   "cell_type": "code",
   "execution_count": 68,
   "metadata": {},
   "outputs": [],
   "source": [
    "class FilteredNoise(Synth):\n",
    "    def __init__(\n",
    "            self,\n",
    "            filter_type=\"band_pass\", # can be 'low_pass', 'band_pass', 'high_pass', 'notch', 'peak', 'low_shelf', 'high_shelf'\n",
    "            order=3,\n",
    "            cutoff=440,\n",
    "            resonance=0.5,\n",
    "            name=\"FilteredNoise\",\n",
    "            ):\n",
    "        # create the patch spec\n",
    "        _spec = FilteredNoisePatch(\n",
    "            filter_type=filter_type,\n",
    "            order=order,\n",
    "            cutoff=cutoff,\n",
    "            resonance=resonance,\n",
    "        ).to_spec()\n",
    "        # create the params dict\n",
    "        _params = {\n",
    "            \"cutoff\": {\n",
    "                \"min\": 20,\n",
    "                \"max\": 20000,\n",
    "                \"unit\": \"Hz\",\n",
    "                \"scale\": \"log\",\n",
    "            },\n",
    "            \"resonance\": {\n",
    "                \"min\": 0,\n",
    "                \"max\": 0.999,\n",
    "            },\n",
    "        }\n",
    "        # call the parent constructor\n",
    "        super().__init__(_spec, params_dict=_params, name=name)\n",
    "\n",
    "    def __repr__(self):\n",
    "        return f\"FilteredNoise {self.id}: {self.name}\""
   ]
  },
  {
   "cell_type": "code",
   "execution_count": 69,
   "metadata": {},
   "outputs": [
    {
     "data": {
      "application/vnd.jupyter.widget-view+json": {
       "model_id": "75ab5e57eaf34dbe920d71f30f0bfe2f",
       "version_major": 2,
       "version_minor": 0
      },
      "text/plain": [
       "Box(children=(Box(children=(Label(value='FilteredNoise', style=LabelStyle(font_size='20px', font_weight='bold'…"
      ]
     },
     "execution_count": 69,
     "metadata": {},
     "output_type": "execute_result"
    }
   ],
   "source": [
    "test_fnoise = FilteredNoise(cutoff=[440, 550, 660], resonance=0.99, order=8)\n",
    "test_fnoise.ui"
   ]
  },
  {
   "cell_type": "code",
   "execution_count": 70,
   "metadata": {},
   "outputs": [],
   "source": [
    "main_bus.add_input(test_fnoise.output)"
   ]
  },
  {
   "cell_type": "code",
   "execution_count": 71,
   "metadata": {},
   "outputs": [],
   "source": [
    "test_fnoise.set_input_buf(\"cutoff\", np.array([440, 550, 660]).reshape(3, 1) / 2)"
   ]
  },
  {
   "cell_type": "code",
   "execution_count": 72,
   "metadata": {},
   "outputs": [],
   "source": [
    "main_bus.remove_input(test_fnoise.output)"
   ]
  },
  {
   "cell_type": "code",
   "execution_count": 73,
   "metadata": {},
   "outputs": [
    {
     "data": {
      "text/plain": [
       "'AudioGraph: 1 active node, 0 patches, 0.15% CPU usage, 11.0MB memory usage, output = -dB'"
      ]
     },
     "execution_count": 73,
     "metadata": {},
     "output_type": "execute_result"
    }
   ],
   "source": [
    "graph.status"
   ]
  },
  {
   "cell_type": "markdown",
   "metadata": {},
   "source": [
    "# Test hanging bug"
   ]
  },
  {
   "cell_type": "code",
   "execution_count": null,
   "metadata": {},
   "outputs": [],
   "source": [
    "import signalflow as sf\n",
    "\n",
    "graph = sf.AudioGraph.get_shared_graph()\n",
    "if graph is not None:\n",
    "    graph.destroy()\n",
    "    graph = None\n",
    "if graph is None:\n",
    "    graph = sf.AudioGraph(start=True)\n",
    "\n",
    "node_1 = sf.SineOscillator(440)\n",
    "node_2 = sf.Constant(0.1)\n",
    "node_3 = node_1 * node_2"
   ]
  },
  {
   "cell_type": "code",
   "execution_count": null,
   "metadata": {},
   "outputs": [],
   "source": [
    "node_3.play()"
   ]
  },
  {
   "cell_type": "code",
   "execution_count": null,
   "metadata": {},
   "outputs": [],
   "source": [
    "node_3.stop()"
   ]
  },
  {
   "cell_type": "code",
   "execution_count": null,
   "metadata": {},
   "outputs": [],
   "source": [
    "node_1.play()"
   ]
  },
  {
   "cell_type": "code",
   "execution_count": null,
   "metadata": {},
   "outputs": [],
   "source": [
    "node_1.stop()"
   ]
  },
  {
   "cell_type": "code",
   "execution_count": null,
   "metadata": {},
   "outputs": [],
   "source": [
    "import signalflow as sf\n",
    "\n",
    "graph = sf.AudioGraph.get_shared_graph()\n",
    "if graph is not None:\n",
    "    graph.destroy()\n",
    "    graph = None\n",
    "if graph is None:\n",
    "    graph = sf.AudioGraph(start=True)\n",
    "\n",
    "my_bus = sf.Bus(1)\n",
    "node_1 = sf.SineOscillator(440)\n",
    "node_2 = sf.Constant(0.1)\n",
    "node_3 = node_1 * node_2\n",
    "node_4 = sf.SineOscillator(550)\n",
    "\n",
    "my_bus.play()"
   ]
  },
  {
   "cell_type": "code",
   "execution_count": null,
   "metadata": {},
   "outputs": [],
   "source": [
    "graph.status"
   ]
  },
  {
   "cell_type": "code",
   "execution_count": null,
   "metadata": {},
   "outputs": [],
   "source": [
    "graph.clear()"
   ]
  },
  {
   "cell_type": "code",
   "execution_count": null,
   "metadata": {},
   "outputs": [],
   "source": [
    "graph.stop()"
   ]
  },
  {
   "cell_type": "code",
   "execution_count": null,
   "metadata": {},
   "outputs": [],
   "source": [
    "graph.start()"
   ]
  },
  {
   "cell_type": "code",
   "execution_count": null,
   "metadata": {},
   "outputs": [],
   "source": [
    "my_bus.add_input(node_3)"
   ]
  },
  {
   "cell_type": "code",
   "execution_count": null,
   "metadata": {},
   "outputs": [],
   "source": [
    "my_bus.remove_input(node_3)"
   ]
  },
  {
   "cell_type": "code",
   "execution_count": null,
   "metadata": {},
   "outputs": [],
   "source": [
    "my_bus.add_input(node_4)"
   ]
  },
  {
   "cell_type": "code",
   "execution_count": null,
   "metadata": {},
   "outputs": [],
   "source": [
    "my_bus.remove_input(node_4)"
   ]
  },
  {
   "cell_type": "code",
   "execution_count": null,
   "metadata": {},
   "outputs": [],
   "source": [
    "my_bus.add_input(node_3)\n",
    "my_bus.remove_input(node_3)\n",
    "my_bus.add_input(node_4)\n",
    "my_bus.remove_input(node_4)"
   ]
  },
  {
   "cell_type": "code",
   "execution_count": null,
   "metadata": {},
   "outputs": [],
   "source": [
    "my_bus.add_input(node_1)"
   ]
  },
  {
   "cell_type": "code",
   "execution_count": null,
   "metadata": {},
   "outputs": [],
   "source": [
    "my_bus.remove_input(node_1)"
   ]
  }
 ],
 "metadata": {
  "kernelspec": {
   "display_name": "pixasonics",
   "language": "python",
   "name": "python3"
  },
  "language_info": {
   "codemirror_mode": {
    "name": "ipython",
    "version": 3
   },
   "file_extension": ".py",
   "mimetype": "text/x-python",
   "name": "python",
   "nbconvert_exporter": "python",
   "pygments_lexer": "ipython3",
   "version": "3.10.16"
  }
 },
 "nbformat": 4,
 "nbformat_minor": 2
}
