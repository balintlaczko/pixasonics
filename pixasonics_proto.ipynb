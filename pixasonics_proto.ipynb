{
 "cells": [
  {
   "cell_type": "markdown",
   "metadata": {},
   "source": [
    "# After refactoring..."
   ]
  },
  {
   "cell_type": "code",
   "execution_count": 1,
   "metadata": {},
   "outputs": [
    {
     "name": "stdout",
     "output_type": "stream",
     "text": [
      "[Taichi] version 1.7.3, llvm 15.0.7, commit 5ec301be, osx, python 3.10.16\n"
     ]
    },
    {
     "name": "stderr",
     "output_type": "stream",
     "text": [
      "[I 01/29/25 18:56:40.872 28131853] [shell.py:_shell_pop_print@23] Graphical python shell detected, using wrapped sys.stdout\n"
     ]
    },
    {
     "name": "stdout",
     "output_type": "stream",
     "text": [
      "[Taichi] Starting on arch=arm64\n"
     ]
    },
    {
     "data": {
      "application/vnd.jupyter.widget-view+json": {
       "model_id": "341becf909da49cea83ed07b0962fed1",
       "version_major": 2,
       "version_minor": 0
      },
      "text/plain": [
       "MultiCanvas(height=580, width=1080)"
      ]
     },
     "metadata": {},
     "output_type": "display_data"
    },
    {
     "data": {
      "application/vnd.jupyter.widget-view+json": {
       "model_id": "d3d1c81aaee54ecc94363fac49072169",
       "version_major": 2,
       "version_minor": 0
      },
      "text/plain": [
       "IntSlider(value=50, description='Probe Width', max=500, min=1)"
      ]
     },
     "metadata": {},
     "output_type": "display_data"
    },
    {
     "data": {
      "application/vnd.jupyter.widget-view+json": {
       "model_id": "724b72119928435e860cef26f770cb9c",
       "version_major": 2,
       "version_minor": 0
      },
      "text/plain": [
       "IntSlider(value=50, description='Probe Height', max=500, min=1)"
      ]
     },
     "metadata": {},
     "output_type": "display_data"
    },
    {
     "data": {
      "application/vnd.jupyter.widget-view+json": {
       "model_id": "a2ce0b44a9a148d7b764cd2c30c5e99e",
       "version_major": 2,
       "version_minor": 0
      },
      "text/plain": [
       "ToggleButton(value=False, description='Audio', icon='speaker', tooltip='Toggle audio')"
      ]
     },
     "metadata": {},
     "output_type": "display_data"
    },
    {
     "data": {
      "application/vnd.jupyter.widget-view+json": {
       "model_id": "2ab57485aa724a80ac83c155cba18020",
       "version_major": 2,
       "version_minor": 0
      },
      "text/plain": [
       "FloatSlider(value=0.0, description='Master Volume (dB)', max=0.0, min=-36.0, step=0.01)"
      ]
     },
     "metadata": {},
     "output_type": "display_data"
    },
    {
     "data": {
      "application/vnd.jupyter.widget-view+json": {
       "model_id": "5b26124be8e34c8ab71db8981db7633e",
       "version_major": 2,
       "version_minor": 0
      },
      "text/plain": [
       "Text(value='', description='MouseX:', disabled=True)"
      ]
     },
     "metadata": {},
     "output_type": "display_data"
    },
    {
     "data": {
      "application/vnd.jupyter.widget-view+json": {
       "model_id": "53ba46056d20415c9f196b8c3f0a6e65",
       "version_major": 2,
       "version_minor": 0
      },
      "text/plain": [
       "Text(value='', description='MouseY:', disabled=True)"
      ]
     },
     "metadata": {},
     "output_type": "display_data"
    },
    {
     "name": "stderr",
     "output_type": "stream",
     "text": [
      "[miniaudio] Output device: MacBook Pro Speakers (48000Hz, buffer size 480 samples, 2 channels)\n"
     ]
    },
    {
     "data": {
      "application/vnd.jupyter.widget-view+json": {
       "model_id": "0769296ca4ff4c8aad514f8d338b13bf",
       "version_major": 2,
       "version_minor": 0
      },
      "text/plain": [
       "Text(value='', description='MeanPixelValue_0_Min:', disabled=True)"
      ]
     },
     "metadata": {},
     "output_type": "display_data"
    },
    {
     "data": {
      "application/vnd.jupyter.widget-view+json": {
       "model_id": "f84e3331bfaf4548bf51f12a6ebe81fa",
       "version_major": 2,
       "version_minor": 0
      },
      "text/plain": [
       "Text(value='', description='MeanPixelValue_0_Min:', disabled=True)"
      ]
     },
     "metadata": {},
     "output_type": "display_data"
    },
    {
     "data": {
      "application/vnd.jupyter.widget-view+json": {
       "model_id": "95823ee041f94e89bb56901add0dc939",
       "version_major": 2,
       "version_minor": 0
      },
      "text/plain": [
       "Text(value='', description='MeanPixelValue_0_Last:', disabled=True)"
      ]
     },
     "metadata": {},
     "output_type": "display_data"
    },
    {
     "data": {
      "application/vnd.jupyter.widget-view+json": {
       "model_id": "4360e14faa714aaab757e587e02b46c7",
       "version_major": 2,
       "version_minor": 0
      },
      "text/plain": [
       "Button(description='Reset MeanPixelValue MinMax', style=ButtonStyle())"
      ]
     },
     "metadata": {},
     "output_type": "display_data"
    }
   ],
   "source": [
    "import taichi as ti\n",
    "import numpy as np\n",
    "\n",
    "from pixasonics.core import App, Mapper\n",
    "from pixasonics.features import MeanPixelValue\n",
    "from pixasonics.synths import Theremin\n",
    "\n",
    "# Initialize Taichi\n",
    "ti.init(arch=ti.cpu)\n",
    "\n",
    "img_path = \"/Users/balintl/Documents/GitHub/sonification/experiments/lsm_paper/figures/cellular_seq/Timepoint_001_220518-ST_C03_s1.jpg\"\n",
    "# img_path = \"test.jpg\"\n",
    "\n",
    "# Create app\n",
    "app = App()\n",
    "app.load_image(img_path) # Load image\n",
    "\n",
    "# Create objects\n",
    "mean_pix = MeanPixelValue()\n",
    "theremin = Theremin()\n",
    "pix2freq = Mapper(mean_pix, theremin[\"frequency\"], exponent=2, out_high=1000)\n",
    "\n",
    "# Add objects to app\n",
    "app.add_feature(mean_pix)\n",
    "app.add_synth(theremin)\n",
    "app.add_mapper(pix2freq)\n"
   ]
  },
  {
   "cell_type": "code",
   "execution_count": 3,
   "metadata": {},
   "outputs": [],
   "source": [
    "# test adding another mapping\n",
    "pix2amp = Mapper(mean_pix, theremin[\"amplitude\"], exponent=2)\n",
    "app.add_mapper(pix2amp)"
   ]
  },
  {
   "cell_type": "code",
   "execution_count": 4,
   "metadata": {},
   "outputs": [
    {
     "data": {
      "text/plain": [
       "[<pixasonics.core.Mapper at 0x10ef6eef0>,\n",
       " <pixasonics.core.Mapper at 0x10efe30a0>]"
      ]
     },
     "execution_count": 4,
     "metadata": {},
     "output_type": "execute_result"
    }
   ],
   "source": [
    "app.mappers"
   ]
  },
  {
   "cell_type": "code",
   "execution_count": 8,
   "metadata": {},
   "outputs": [
    {
     "data": {
      "text/plain": [
       "np.float32(0.57557815)"
      ]
     },
     "execution_count": 8,
     "metadata": {},
     "output_type": "execute_result"
    }
   ],
   "source": [
    "theremin[\"amplitude\"][\"buffer\"].data[0][0]"
   ]
  },
  {
   "cell_type": "code",
   "execution_count": 5,
   "metadata": {},
   "outputs": [
    {
     "name": "stdout",
     "output_type": "stream",
     "text": [
      " * audioout\n",
      "   input0:\n",
      "    * multiply\n",
      "      input0:\n",
      "       * bus\n",
      "         input0:\n",
      "          * stereo-panner\n",
      "            input:\n",
      "             * multiply\n",
      "               input0:\n",
      "                * sine\n",
      "                  frequency:\n",
      "                   * smooth\n",
      "                     input:\n",
      "                      * buffer-player\n",
      "                        loop: 1.000000\n",
      "                        rate: 1.000000\n",
      "                     smooth: 0.999425\n",
      "               input1:\n",
      "                * smooth\n",
      "                  input:\n",
      "                   * buffer-player\n",
      "                     loop: 1.000000\n",
      "                     rate: 1.000000\n",
      "                  smooth: 0.999425\n",
      "            pan: 0.000000\n",
      "      input1:\n",
      "       * smooth\n",
      "         input:\n",
      "          * multiply\n",
      "            input0:\n",
      "             * decibels-to-amplitude\n",
      "               input: 0.000000\n",
      "            input1:\n",
      "             * buffer-player\n",
      "               loop: 1.000000\n",
      "               rate: 1.000000\n",
      "         smooth: 0.999425\n",
      "\n"
     ]
    }
   ],
   "source": [
    "import signalflow as sf\n",
    "graph = sf.AudioGraph.get_shared_graph()\n",
    "print(graph.structure)"
   ]
  },
  {
   "cell_type": "code",
   "execution_count": 4,
   "metadata": {},
   "outputs": [],
   "source": [
    "# generate a test image and save to disk\n",
    "import numpy as np\n",
    "from PIL import Image\n",
    "\n",
    "img = np.zeros((256, 256, 3), dtype=np.uint8)\n",
    "\n",
    "for i in range(256):\n",
    "    for j in range(256):\n",
    "        img[i, j] = [i, j, 0]\n",
    "\n",
    "img = Image.fromarray(img)\n",
    "img.save(\"test.jpg\")"
   ]
  },
  {
   "cell_type": "code",
   "execution_count": null,
   "metadata": {},
   "outputs": [],
   "source": []
  }
 ],
 "metadata": {
  "kernelspec": {
   "display_name": "pixasonics",
   "language": "python",
   "name": "python3"
  },
  "language_info": {
   "codemirror_mode": {
    "name": "ipython",
    "version": 3
   },
   "file_extension": ".py",
   "mimetype": "text/x-python",
   "name": "python",
   "nbconvert_exporter": "python",
   "pygments_lexer": "ipython3",
   "version": "3.10.16"
  }
 },
 "nbformat": 4,
 "nbformat_minor": 2
}
