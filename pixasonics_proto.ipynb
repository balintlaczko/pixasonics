{
 "cells": [
  {
   "cell_type": "markdown",
   "metadata": {},
   "source": [
    "# After refactoring..."
   ]
  },
  {
   "cell_type": "code",
   "execution_count": null,
   "metadata": {},
   "outputs": [],
   "source": [
    "import signalflow as sf\n",
    "from pixasonics.core import App, Mapper\n",
    "from pixasonics.features import MeanPixelValue\n",
    "from pixasonics.synths import Theremin\n",
    "\n",
    "img_path = \"images/cellular_dataset/Timepoint_001_220518-ST_C03_s1.jpg\"\n",
    "\n",
    "# Create app\n",
    "app = App()\n",
    "app.load_image(img_path) # Load image\n",
    "\n",
    "# Create objects\n",
    "mean_pix = MeanPixelValue()\n",
    "theremin = Theremin()\n",
    "pix2freq = Mapper(mean_pix, theremin[\"frequency\"], exponent=2, out_high=1000)\n",
    "\n",
    "# Add objects to app\n",
    "app.attach_feature(mean_pix)\n",
    "app.attach_synth(theremin)\n",
    "app.attach_mapper(pix2freq)\n"
   ]
  },
  {
   "cell_type": "code",
   "execution_count": null,
   "metadata": {},
   "outputs": [],
   "source": [
    "pix2freq.ui"
   ]
  },
  {
   "cell_type": "code",
   "execution_count": null,
   "metadata": {},
   "outputs": [],
   "source": [
    "# test adding another mapping: mean pixel value to amplitude with an exponential curve\n",
    "pix2amp = Mapper(mean_pix, theremin[\"amplitude\"], exponent=2)\n",
    "app.attach_mapper(pix2amp)\n",
    "pix2amp.ui"
   ]
  },
  {
   "cell_type": "code",
   "execution_count": 4,
   "metadata": {},
   "outputs": [],
   "source": [
    "pix2pan = Mapper(mean_pix, theremin[\"panning\"])\n",
    "app.attach_mapper(pix2pan)"
   ]
  },
  {
   "cell_type": "code",
   "execution_count": null,
   "metadata": {},
   "outputs": [],
   "source": [
    "app.mappers"
   ]
  },
  {
   "cell_type": "code",
   "execution_count": null,
   "metadata": {},
   "outputs": [],
   "source": [
    "# remove a mapper\n",
    "app.detach_mapper(pix2amp)\n",
    "app.mappers"
   ]
  },
  {
   "cell_type": "code",
   "execution_count": null,
   "metadata": {},
   "outputs": [],
   "source": [
    "# remove old frequency mapping and add a new one with different scaling\n",
    "app.detach_mapper(pix2freq)\n",
    "pix2freq = Mapper(mean_pix, theremin[\"frequency\"], exponent=2, out_low=100, out_high=2000)\n",
    "app.attach_mapper(pix2freq)\n",
    "app.mappers"
   ]
  },
  {
   "cell_type": "code",
   "execution_count": null,
   "metadata": {},
   "outputs": [],
   "source": [
    "graph = sf.AudioGraph.get_shared_graph()\n",
    "print(graph.structure)\n",
    "print(graph.status)"
   ]
  },
  {
   "cell_type": "markdown",
   "metadata": {},
   "source": [
    "# Import widget stuff"
   ]
  },
  {
   "cell_type": "code",
   "execution_count": 1,
   "metadata": {},
   "outputs": [],
   "source": [
    "from ipywidgets import ToggleButton, Button, ButtonStyle, Layout, jslink, IntText, IntSlider, FloatSlider, GridBox, GridspecLayout, Box, VBox, Label, Accordion"
   ]
  },
  {
   "cell_type": "markdown",
   "metadata": {},
   "source": [
    "# Docs Examples"
   ]
  },
  {
   "cell_type": "code",
   "execution_count": 10,
   "metadata": {},
   "outputs": [],
   "source": [
    "def create_expanded_button(description, button_style):\n",
    "    return Button(description=description, button_style=button_style, layout=Layout(height='auto', width='auto'))"
   ]
  },
  {
   "cell_type": "code",
   "execution_count": null,
   "metadata": {},
   "outputs": [],
   "source": [
    "grid = GridspecLayout(4, 3, height='300px')\n",
    "grid[:3, 1:] = create_expanded_button('One', 'success')\n",
    "grid[:, 0] = create_expanded_button('Two', 'info')\n",
    "grid[3, 1] = create_expanded_button('Three', 'warning')\n",
    "grid[3, 2] = create_expanded_button('Four', 'danger')\n",
    "grid"
   ]
  },
  {
   "cell_type": "code",
   "execution_count": null,
   "metadata": {},
   "outputs": [],
   "source": [
    "item_layout = Layout(height='100px', min_width='40px')\n",
    "items = [Button(layout=item_layout, description=str(i), button_style='warning') for i in range(40)]\n",
    "box_layout = Layout(overflow='scroll hidden',\n",
    "                    border='3px solid black',\n",
    "                    width='500px',\n",
    "                    height='',\n",
    "                    flex_flow='row',\n",
    "                    display='flex')\n",
    "carousel = Box(children=items, layout=box_layout)\n",
    "VBox([Label('Scroll horizontally:'), carousel])"
   ]
  },
  {
   "cell_type": "code",
   "execution_count": null,
   "metadata": {},
   "outputs": [],
   "source": [
    "header  = Button(description='Header',\n",
    "                 layout=Layout(width='auto', grid_area='header'),\n",
    "                 style=ButtonStyle(button_color='lightblue'))\n",
    "main    = Button(description='Main',\n",
    "                 layout=Layout(width='auto', grid_area='main'),\n",
    "                 style=ButtonStyle(button_color='moccasin'))\n",
    "sidebar = Button(description='Sidebar',\n",
    "                 layout=Layout(width='auto', grid_area='sidebar'),\n",
    "                 style=ButtonStyle(button_color='salmon'))\n",
    "footer  = Button(description='Footer',\n",
    "                 layout=Layout(width='auto', grid_area='footer'),\n",
    "                 style=ButtonStyle(button_color='olive'))\n",
    "\n",
    "GridBox(children=[header, main, sidebar, footer],\n",
    "        layout=Layout(\n",
    "            width='50%',\n",
    "            grid_template_rows='auto auto auto',\n",
    "            grid_template_columns='25% 25% 25% 25%',\n",
    "            grid_template_areas='''\n",
    "            \"header header header header\"\n",
    "            \"main main . sidebar \"\n",
    "            \"footer footer footer footer\"\n",
    "            ''')\n",
    "       )"
   ]
  },
  {
   "cell_type": "code",
   "execution_count": null,
   "metadata": {},
   "outputs": [],
   "source": [
    "GridBox(children=[Button(layout=Layout(width='auto', height='auto'),\n",
    "                         style=ButtonStyle(button_color='darkseagreen')) for i in range(9)\n",
    "                 ],\n",
    "        layout=Layout(\n",
    "            width='50%',\n",
    "            grid_template_columns='100px 50px 100px',\n",
    "            grid_template_rows='80px auto 80px', \n",
    "            grid_gap='5px 10px')\n",
    "       )"
   ]
  },
  {
   "cell_type": "markdown",
   "metadata": {},
   "source": [
    "# Mapper card proto"
   ]
  },
  {
   "cell_type": "code",
   "execution_count": null,
   "metadata": {},
   "outputs": [],
   "source": [
    "mapper_label = Label(value=\"Mapper\", style=dict(\n",
    "    font_weight='bold',\n",
    "    font_size='2em'))\n",
    "mapper_id = Label(value=\"# ID\", style=dict(\n",
    "    font_weight='bold',\n",
    "    font_size='1em',\n",
    "    text_color='gray'))\n",
    "\n",
    "top_row = Box([mapper_label, mapper_id], layout=Layout(justify_content='space-between'))\n",
    "\n",
    "from_label = Label(value=\"From:\")\n",
    "from_value = Label(value=\"MeanPixelValue\")\n",
    "from_row = Box([from_label, from_value], layout=Layout(justify_content='space-between'))\n",
    "\n",
    "to_label = Label(value=\"To:\")\n",
    "to_value = Label(value=\"Theremin Frequency\")\n",
    "to_row = Box([to_label, to_value], layout=Layout(justify_content='space-between'))\n",
    "\n",
    "detach_btn = Button(description=\"Detach\", button_style='danger', icon='unlink')\n",
    "detach_btn.on_click(lambda x: print(\"Detaching mapper\"))\n",
    "detach_row = Box([detach_btn], layout=Layout(justify_content='flex-end'))\n",
    "\n",
    "mapper_card = GridBox(children=[top_row, from_row, to_row, detach_row],\n",
    "                        layout=Layout(\n",
    "                            width='auto', \n",
    "                            grid_template_columns='auto', \n",
    "                            grid_template_rows='2fr 1.5fr 1.5fr 1fr',\n",
    "                            max_width='300px',\n",
    "                            min_height='200px',\n",
    "                            border='2px solid black',\n",
    "                            padding='5px',\n",
    "                            margin='5px'))\n",
    "\n",
    "mapper_card\n"
   ]
  },
  {
   "cell_type": "markdown",
   "metadata": {},
   "source": [
    "# Carousel proto"
   ]
  },
  {
   "cell_type": "code",
   "execution_count": null,
   "metadata": {},
   "outputs": [],
   "source": [
    "# Create a vertical carousel of mapper cards\n",
    "mapper_cards = [mapper_card for i in range(10)]\n",
    "mapper_carousel = Box(children=mapper_cards, layout=Layout(overflow='scroll',\n",
    "                                                            border='3px solid black',\n",
    "                                                            padding='5px',\n",
    "                                                            width='auto',\n",
    "                                                            max_width='300px',\n",
    "                                                            max_height='500px',\n",
    "                                                            flex_flow='column',\n",
    "                                                            display='flex'))\n",
    "mapper_carousel"
   ]
  },
  {
   "cell_type": "code",
   "execution_count": null,
   "metadata": {},
   "outputs": [],
   "source": [
    "# access the children of the carousel\n",
    "mapper_carousel.children\n",
    "\n",
    "# remove a card\n",
    "mapper_carousel.children = mapper_carousel.children[:-1]\n",
    "\n",
    "mapper_carousel"
   ]
  },
  {
   "cell_type": "markdown",
   "metadata": {},
   "source": [
    "# Probe settings ui proto"
   ]
  },
  {
   "cell_type": "code",
   "execution_count": null,
   "metadata": {},
   "outputs": [],
   "source": [
    "probe_w_label = Label(value=\"Probe Width:\")\n",
    "probe_w_slider = IntSlider(value=50, min=1, max=500, step=1)\n",
    "probe_w_box = Box(\n",
    "    [probe_w_label, probe_w_slider], \n",
    "    layout=Layout(\n",
    "        justify_content='space-around', \n",
    "        align_items='flex-start', \n",
    "        flex_flow='column',\n",
    "        padding='5px'))\n",
    "\n",
    "probe_h_label = Label(value=\"Probe Height:\")\n",
    "probe_h_slider = IntSlider(value=50, min=1, max=500, step=1)\n",
    "probe_h_box = Box(\n",
    "    [probe_h_label, probe_h_slider], \n",
    "    layout=Layout(\n",
    "        justify_content='space-around', \n",
    "        align_items='flex-start', \n",
    "        flex_flow='column',\n",
    "        padding='5px'))\n",
    "\n",
    "probe_box = Box(\n",
    "    [probe_w_box, probe_h_box], \n",
    "    layout=Layout(\n",
    "        justify_content='space-around', \n",
    "        align_items='flex-start', \n",
    "        flex_flow='column',\n",
    "        border='2px solid black',\n",
    "        padding='5px',\n",
    "        margin='5px'))\n",
    "\n",
    "probe_box"
   ]
  },
  {
   "cell_type": "markdown",
   "metadata": {},
   "source": [
    "# Audio settings proto"
   ]
  },
  {
   "cell_type": "code",
   "execution_count": null,
   "metadata": {},
   "outputs": [],
   "source": [
    "audio_switch = ToggleButton(\n",
    "    value=False,\n",
    "    description='Audio',\n",
    "    tooltip='Enable/disable audio processing',\n",
    "    icon='volume-up',\n",
    "    layout=Layout(\n",
    "        width='auto', \n",
    "        max_width='100px',\n",
    "        height='auto')\n",
    ")\n",
    "\n",
    "master_volume_label = Label(value=\"Master Volume (dB):\")\n",
    "\n",
    "master_volume_slider = FloatSlider(\n",
    "    value=0,\n",
    "    min=-36,\n",
    "    max=0,\n",
    "    step=0.01,\n",
    "    orientation='horizontal',\n",
    "    layout=Layout(width='100%', height='auto')\n",
    ")\n",
    "\n",
    "master_volume_box = Box(\n",
    "    [master_volume_label, master_volume_slider],\n",
    "    layout=Layout(\n",
    "        justify_content='space-around', \n",
    "        align_items='flex-start', \n",
    "        flex_flow='column',\n",
    "        padding='5px'))\n",
    "\n",
    "audio_controls = GridBox(\n",
    "    children=[audio_switch, master_volume_box],\n",
    "    layout=Layout(\n",
    "        width='auto', \n",
    "        grid_template_columns='auto auto', \n",
    "        grid_template_rows='auto',\n",
    "        border='2px solid black',\n",
    "        padding='5px',\n",
    "        margin='5px'))\n",
    "\n",
    "audio_controls\n"
   ]
  },
  {
   "cell_type": "markdown",
   "metadata": {},
   "source": []
  },
  {
   "cell_type": "markdown",
   "metadata": {},
   "source": [
    "# App layout proto"
   ]
  },
  {
   "cell_type": "code",
   "execution_count": null,
   "metadata": {},
   "outputs": [],
   "source": [
    "app_canvas_dummy = Button(description=\"App Canvas\", layout=Layout(width='500px', height='500px'))\n",
    "\n",
    "app_settings = Accordion(\n",
    "    children=[probe_box, audio_controls, mapper_carousel, mapper_carousel, mapper_carousel],\n",
    "    titles=('Probe', 'Audio', \"Features\", \"Synths\", \"Mappers\"),\n",
    "    layout=Layout(width='400px', min_width='300px', max_width='400px'))\n",
    "\n",
    "app_settings_container = Box(\n",
    "    [app_settings], \n",
    "    layout=Layout(\n",
    "        overflow='scroll',\n",
    "        border='3px solid black',\n",
    "        padding='5px',\n",
    "        max_height='500px',))\n",
    "\n",
    "app_ui = Box(\n",
    "    [app_canvas_dummy, app_settings_container], \n",
    "    layout=Layout(\n",
    "        width='auto', \n",
    "        height='auto', \n",
    "        justify_content='space-around'))\n",
    "\n",
    "app_ui"
   ]
  },
  {
   "cell_type": "code",
   "execution_count": 1,
   "metadata": {},
   "outputs": [
    {
     "data": {
      "application/vnd.jupyter.widget-view+json": {
       "model_id": "c4aa1460a8a841919f75ad5654e51497",
       "version_major": 2,
       "version_minor": 0
      },
      "text/plain": [
       "Box(children=(Box(layout=Layout(height='500px', width='500px')), Box(children=(Accordion(children=(Box(childre…"
      ]
     },
     "execution_count": 1,
     "metadata": {},
     "output_type": "execute_result"
    }
   ],
   "source": [
    "from ipywidgets import ToggleButton, Button, ButtonStyle, Layout, jslink, IntText, IntSlider, FloatSlider, GridBox, GridspecLayout, Box, VBox, Label, Accordion\n",
    "from pixasonics.ui import AppUI, ProbeSettings, AudioSettings\n",
    "\n",
    "probe_settings = ProbeSettings()\n",
    "audio_settings = AudioSettings()\n",
    "\n",
    "app_ui = AppUI(\n",
    "    probe_settings,\n",
    "    audio_settings\n",
    "    )\n",
    "\n",
    "app_ui()"
   ]
  },
  {
   "cell_type": "code",
   "execution_count": 2,
   "metadata": {},
   "outputs": [],
   "source": [
    "# add a new canvas\n",
    "test_canvas = Button(description=\"Test Canvas\", layout=Layout(width='500px', height='500px'))\n",
    "app_ui.box.children[0].children = [test_canvas]"
   ]
  },
  {
   "cell_type": "code",
   "execution_count": 5,
   "metadata": {},
   "outputs": [],
   "source": [
    "# add buttons to the features carousel\n",
    "features_carousel = app_ui.box.children[1].children[0].children[2]\n",
    "features_carousel.children = list(features_carousel.children) + [Button(description=f\"Feature {i}\") for i in range(10)]"
   ]
  },
  {
   "cell_type": "code",
   "execution_count": 4,
   "metadata": {},
   "outputs": [],
   "source": [
    "# delete all buttons from the features carousel\n",
    "features_carousel.children = []"
   ]
  },
  {
   "cell_type": "code",
   "execution_count": 6,
   "metadata": {},
   "outputs": [],
   "source": [
    "# function to delete the nth element from the features carousel\n",
    "def delete_nth(n):\n",
    "    features_carousel.children = features_carousel.children[:n] + features_carousel.children[n+1:]"
   ]
  },
  {
   "cell_type": "code",
   "execution_count": 7,
   "metadata": {},
   "outputs": [],
   "source": [
    "delete_nth(3)"
   ]
  },
  {
   "cell_type": "code",
   "execution_count": 8,
   "metadata": {},
   "outputs": [],
   "source": [
    "# function to delete an element with a matching description\n",
    "def delete_by_description(description):\n",
    "    for i, child in enumerate(features_carousel.children):\n",
    "        if child.description == description:\n",
    "            delete_nth(i)\n",
    "            break"
   ]
  },
  {
   "cell_type": "code",
   "execution_count": 9,
   "metadata": {},
   "outputs": [],
   "source": [
    "delete_by_description(\"Feature 5\")"
   ]
  },
  {
   "cell_type": "code",
   "execution_count": 10,
   "metadata": {},
   "outputs": [],
   "source": [
    "# override the probe w slider callback\n",
    "# WRONG WAY\n",
    "def probe_w_slider_callback(change):\n",
    "    print(f\"Probe Width: {change.new}\")\n",
    "\n",
    "app_ui.probe_settings.w_slider_callback = probe_w_slider_callback"
   ]
  },
  {
   "cell_type": "code",
   "execution_count": null,
   "metadata": {},
   "outputs": [],
   "source": [
    "# CORRECT WAY\n",
    "def probe_w_slider_callback(change):\n",
    "    print(f\"Probe Width: {change.new}\")\n",
    "\n",
    "probe_w_slider = app_ui.children"
   ]
  },
  {
   "cell_type": "code",
   "execution_count": 11,
   "metadata": {},
   "outputs": [],
   "source": [
    "def find_widget_by_description_recursive(container, widget_type, description):\n",
    "    \"\"\"\n",
    "    Recursively search through a container for a widget of a specific type with a specific description.\n",
    "\n",
    "    Args:\n",
    "        container: A widget container (e.g., VBox, HBox).\n",
    "        widget_type: The type of widget to search for (e.g., widgets.Button).\n",
    "        description: The description of the widget to search for.\n",
    "\n",
    "    Returns:\n",
    "        The widget if found, otherwise None.\n",
    "    \"\"\"\n",
    "    # Check if the container itself is a widget of the desired type\n",
    "    if isinstance(container, widget_type) and getattr(container, 'description', '') == description:\n",
    "        return container\n",
    "\n",
    "    # If the container has children, search recursively\n",
    "    if hasattr(container, 'children'):\n",
    "        for child in container.children:\n",
    "            found_widget = find_widget_by_description_recursive(child, widget_type, description)\n",
    "            if found_widget:\n",
    "                return found_widget\n",
    "\n",
    "    # If no match is found, return None\n",
    "    return None"
   ]
  },
  {
   "cell_type": "code",
   "execution_count": 13,
   "metadata": {},
   "outputs": [
    {
     "data": {
      "text/plain": [
       "(Box(children=(Button(description='Test Canvas', layout=Layout(height='500px', width='500px'), style=ButtonStyle()),), layout=Layout(height='500px', width='500px')),\n",
       " Box(children=(Accordion(children=(Box(children=(Box(children=(Label(value='Probe Width:'), IntSlider(value=334, max=500, min=1)), layout=Layout(align_items='flex-start', flex_flow='column', justify_content='space-around', padding='5px')), Box(children=(Label(value='Probe Height:'), IntSlider(value=50, max=500, min=1)), layout=Layout(align_items='flex-start', flex_flow='column', justify_content='space-around', padding='5px'))), layout=Layout(align_items='flex-start', flex_flow='column', justify_content='space-around')), GridBox(children=(ToggleButton(value=False, description='Audio', icon='volume-up', layout=Layout(height='auto', max_width='100px', width='auto'), tooltip='Enable/disable audio processing'), Box(children=(Label(value='Master Volume (dB):'), FloatSlider(value=0.0, layout=Layout(height='auto', width='100%'), max=0.0, min=-36.0, step=0.01)), layout=Layout(align_items='flex-start', flex_flow='column', justify_content='space-around', padding='5px'))), layout=Layout(grid_template_columns='auto auto', grid_template_rows='auto', width='auto')), VBox(children=(Button(description='Feature 0', style=ButtonStyle()), Button(description='Feature 1', style=ButtonStyle()), Button(description='Feature 2', style=ButtonStyle()), Button(description='Feature 4', style=ButtonStyle()), Button(description='Feature 6', style=ButtonStyle()), Button(description='Feature 7', style=ButtonStyle()), Button(description='Feature 8', style=ButtonStyle()), Button(description='Feature 9', style=ButtonStyle()))), VBox(), VBox()), layout=Layout(max_width='400px', min_width='300px', width='400px'), selected_index=0, titles=('Probe', 'Audio', 'Features', 'Synths', 'Mappers')),), layout=Layout(max_height='500px', overflow='scroll', padding='5px')))"
      ]
     },
     "execution_count": 13,
     "metadata": {},
     "output_type": "execute_result"
    }
   ],
   "source": [
    "app_ui.box.children"
   ]
  },
  {
   "cell_type": "code",
   "execution_count": 14,
   "metadata": {},
   "outputs": [],
   "source": [
    "# create an IntSlider with a custom property\n",
    "slider = IntSlider(value=50, min=0, max=100, step=1, description=\"Test Slider\", custom_prop=\"Test\")"
   ]
  },
  {
   "cell_type": "code",
   "execution_count": 15,
   "metadata": {},
   "outputs": [],
   "source": [
    "vbox = VBox([slider])"
   ]
  },
  {
   "cell_type": "code",
   "execution_count": 16,
   "metadata": {},
   "outputs": [
    {
     "ename": "AttributeError",
     "evalue": "'IntSlider' object has no attribute 'custom_prop'",
     "output_type": "error",
     "traceback": [
      "\u001b[0;31m---------------------------------------------------------------------------\u001b[0m",
      "\u001b[0;31mAttributeError\u001b[0m                            Traceback (most recent call last)",
      "Cell \u001b[0;32mIn[16], line 1\u001b[0m\n\u001b[0;32m----> 1\u001b[0m \u001b[43mvbox\u001b[49m\u001b[38;5;241;43m.\u001b[39;49m\u001b[43mchildren\u001b[49m\u001b[43m[\u001b[49m\u001b[38;5;241;43m0\u001b[39;49m\u001b[43m]\u001b[49m\u001b[38;5;241;43m.\u001b[39;49m\u001b[43mcustom_prop\u001b[49m\n",
      "\u001b[0;31mAttributeError\u001b[0m: 'IntSlider' object has no attribute 'custom_prop'"
     ]
    }
   ],
   "source": [
    "vbox.children[0].custom_prop"
   ]
  },
  {
   "cell_type": "code",
   "execution_count": 17,
   "metadata": {},
   "outputs": [
    {
     "name": "stdout",
     "output_type": "stream",
     "text": [
      "Found widget with tag: button-2\n"
     ]
    }
   ],
   "source": [
    "import ipywidgets as widgets\n",
    "\n",
    "# Function to create a button with a custom tag\n",
    "def create_button_with_tag(tag):\n",
    "    button = widgets.Button(description=f\"Button {tag}\")\n",
    "    button.tag = tag  # Add a custom property\n",
    "    return button\n",
    "\n",
    "# Example usage: create buttons with tags\n",
    "button1 = create_button_with_tag(tag='button-1')\n",
    "button2 = create_button_with_tag(tag='button-2')\n",
    "nested_box = widgets.VBox([button2])\n",
    "main_container = widgets.VBox([button1, nested_box])\n",
    "\n",
    "# Function to search recursively by tag\n",
    "def find_widget_by_tag_recursive(container, tag):\n",
    "    \"\"\"\n",
    "    Recursively search through a container for a widget with a specific custom tag.\n",
    "\n",
    "    Args:\n",
    "        container: A widget container (e.g., VBox, HBox).\n",
    "        tag: The custom tag to search for.\n",
    "\n",
    "    Returns:\n",
    "        The widget if found, otherwise None.\n",
    "    \"\"\"\n",
    "    # Check if the container itself has the tag\n",
    "    if hasattr(container, 'tag') and container.tag == tag:\n",
    "        return container\n",
    "\n",
    "    # If the container has children, search recursively\n",
    "    if hasattr(container, 'children'):\n",
    "        for child in container.children:\n",
    "            found_widget = find_widget_by_tag_recursive(child, tag)\n",
    "            if found_widget:\n",
    "                return found_widget\n",
    "\n",
    "    # If no match is found, return None\n",
    "    return None\n",
    "\n",
    "# Search for the button with the tag 'button-2'\n",
    "result = find_widget_by_tag_recursive(main_container, 'button-2')\n",
    "if result:\n",
    "    print(f'Found widget with tag: {result.tag}')\n",
    "else:\n",
    "    print('Widget not found')\n"
   ]
  },
  {
   "cell_type": "code",
   "execution_count": null,
   "metadata": {},
   "outputs": [],
   "source": []
  }
 ],
 "metadata": {
  "kernelspec": {
   "display_name": "pixasonics",
   "language": "python",
   "name": "python3"
  },
  "language_info": {
   "codemirror_mode": {
    "name": "ipython",
    "version": 3
   },
   "file_extension": ".py",
   "mimetype": "text/x-python",
   "name": "python",
   "nbconvert_exporter": "python",
   "pygments_lexer": "ipython3",
   "version": "3.10.16"
  }
 },
 "nbformat": 4,
 "nbformat_minor": 2
}
