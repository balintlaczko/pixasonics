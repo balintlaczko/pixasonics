{
 "cells": [
  {
   "cell_type": "code",
   "execution_count": null,
   "metadata": {},
   "outputs": [],
   "source": [
    "import numpy as np\n",
    "import signalflow as sf\n",
    "from IPython.display import Audio, display\n",
    "from pixasonics.core import App, Mapper\n",
    "from pixasonics.features import MeanPixelValue\n",
    "from pixasonics.synths import Theremin\n",
    "\n",
    "# Create app\n",
    "app = App()"
   ]
  },
  {
   "cell_type": "code",
   "execution_count": 2,
   "metadata": {},
   "outputs": [],
   "source": [
    "# load an image\n",
    "img_path = \"images/cellular_dataset/Timepoint_005_220518-ST_C03_s1.jpg\"\n",
    "# img_path = \"images/test.jpg\"\n",
    "img = app.load_image(img_path)"
   ]
  },
  {
   "cell_type": "code",
   "execution_count": null,
   "metadata": {},
   "outputs": [],
   "source": [
    "# Create objects\n",
    "# mean_pix = MeanPixelValue()\n",
    "mean_pix = MeanPixelValue(channels=2) # test RGB\n",
    "# theremin = Theremin()\n",
    "theremin = Theremin(np.linspace(220, 440, 64).tolist(), panning=[-1, 1]) # test multichannel\n",
    "pix2freq = Mapper(mean_pix, theremin[\"frequency\"], exponent=2, out_high=1000)"
   ]
  },
  {
   "cell_type": "code",
   "execution_count": null,
   "metadata": {},
   "outputs": [],
   "source": [
    "app.features"
   ]
  },
  {
   "cell_type": "code",
   "execution_count": null,
   "metadata": {},
   "outputs": [],
   "source": [
    "app.attach_feature(mean_pix)\n",
    "app.features"
   ]
  },
  {
   "cell_type": "code",
   "execution_count": null,
   "metadata": {},
   "outputs": [],
   "source": [
    "app.synths"
   ]
  },
  {
   "cell_type": "code",
   "execution_count": null,
   "metadata": {},
   "outputs": [],
   "source": [
    "app.attach_synth(theremin)\n",
    "app.synths"
   ]
  },
  {
   "cell_type": "code",
   "execution_count": null,
   "metadata": {},
   "outputs": [],
   "source": [
    "app.mappers"
   ]
  },
  {
   "cell_type": "code",
   "execution_count": null,
   "metadata": {},
   "outputs": [],
   "source": [
    "app.attach_mapper(pix2freq)\n",
    "app.mappers"
   ]
  },
  {
   "cell_type": "code",
   "execution_count": null,
   "metadata": {},
   "outputs": [],
   "source": [
    "app.detach_mapper(pix2freq)\n",
    "app.mappers"
   ]
  },
  {
   "cell_type": "code",
   "execution_count": null,
   "metadata": {},
   "outputs": [],
   "source": [
    "# test adding another mapping: mean pixel value to amplitude with an exponential curve\n",
    "pix2amp = Mapper(mean_pix, theremin[\"amplitude\"], exponent=2)\n",
    "app.attach_mapper(pix2amp)"
   ]
  },
  {
   "cell_type": "code",
   "execution_count": null,
   "metadata": {},
   "outputs": [],
   "source": [
    "pix2pan = Mapper(mean_pix, theremin[\"panning\"])\n",
    "app.attach_mapper(pix2pan)"
   ]
  },
  {
   "cell_type": "code",
   "execution_count": null,
   "metadata": {},
   "outputs": [],
   "source": [
    "# detach a mapper\n",
    "app.detach_mapper(pix2amp)\n",
    "app.mappers"
   ]
  },
  {
   "cell_type": "code",
   "execution_count": null,
   "metadata": {},
   "outputs": [],
   "source": [
    "# detach old frequency mapping and add a new one with different scaling\n",
    "app.detach_mapper(pix2freq)\n",
    "pix2freq = Mapper(mean_pix, theremin[\"frequency\"], exponent=2, out_low=100, out_high=2000)\n",
    "app.attach_mapper(pix2freq)\n",
    "app.mappers"
   ]
  },
  {
   "cell_type": "code",
   "execution_count": null,
   "metadata": {},
   "outputs": [],
   "source": [
    "graph = sf.AudioGraph.get_shared_graph()\n",
    "print(graph.structure)\n",
    "print(graph.status)"
   ]
  },
  {
   "cell_type": "markdown",
   "metadata": {},
   "source": [
    "# NRT prototyping"
   ]
  },
  {
   "cell_type": "code",
   "execution_count": 6,
   "metadata": {},
   "outputs": [],
   "source": [
    "import signalflow as sf\n",
    "from IPython.display import Audio, display\n",
    "import numpy as np"
   ]
  },
  {
   "cell_type": "markdown",
   "metadata": {},
   "source": [
    "## Example from signalflow docs"
   ]
  },
  {
   "cell_type": "code",
   "execution_count": 2,
   "metadata": {},
   "outputs": [],
   "source": [
    "# Create an AudioGraph with a dummy output device\n",
    "graph = sf.AudioGraph(output_device=sf.AudioOut_Dummy(2))\n",
    "\n",
    "# Create a buffer that will be used to store the audio output\n",
    "buffer = sf.Buffer(2, graph.sample_rate * 4)\n",
    "\n",
    "# Create a synthesis graph to render\n",
    "freq = sf.SawLFO(1, 200, 400)\n",
    "sine = sf.SineOscillator([freq, freq+10])\n",
    "graph.play(sine)\n",
    "\n",
    "# Render to the buffer. Non-real-time, so happens instantaneously.\n",
    "# Note that the graph renders as many samples as needed to fill the buffer.\n",
    "graph.render_to_buffer(buffer)\n",
    "\n",
    "# Write the buffer contents to a file\n",
    "buffer.save(\"output.wav\")\n",
    "\n",
    "# Finally, tear down the buffer\n",
    "graph.destroy()"
   ]
  },
  {
   "cell_type": "code",
   "execution_count": null,
   "metadata": {},
   "outputs": [],
   "source": [
    "display(Audio(\"output.wav\"))"
   ]
  },
  {
   "cell_type": "code",
   "execution_count": 15,
   "metadata": {},
   "outputs": [],
   "source": [
    "# Create an AudioGraph with a dummy output device\n",
    "graph = sf.AudioGraph(output_device=sf.AudioOut_Dummy(2))\n",
    "\n",
    "# Create a synthesis graph to render\n",
    "freqs = [220, 220, 440, 440, 880, 880, 220, 220]\n",
    "times = [2, 1, 2, 1, 2, 1, 3]\n",
    "\n",
    "# Create a buffer that will be used to store the audio output\n",
    "buffer = sf.Buffer(2, graph.sample_rate * int(sum(times)))\n",
    "\n",
    "freq = sf.Envelope(freqs, times)\n",
    "sine = sf.SineOscillator([freq, freq])\n",
    "graph.play(sine)\n",
    "\n",
    "# Render to the buffer. Non-real-time, so happens instantaneously.\n",
    "# Note that the graph renders as many samples as needed to fill the buffer.\n",
    "graph.render_to_buffer(buffer)\n",
    "\n",
    "# Write the buffer contents to a file\n",
    "buffer.save(\"output_2.wav\")\n",
    "\n",
    "# Finally, tear down the buffer\n",
    "graph.destroy()\n",
    "\n",
    "# Load the audio file into a widget for playback\n",
    "display(Audio(\"output_2.wav\"))"
   ]
  },
  {
   "cell_type": "code",
   "execution_count": null,
   "metadata": {},
   "outputs": [],
   "source": [
    "graph = sf.AudioGraph()\n",
    "\n",
    "test_buf = sf.Buffer(1, 48000)\n",
    "test_player = sf.BufferPlayer(test_buf, loop=True)\n",
    "\n",
    "graph.play(test_player)\n",
    "\n",
    "new_buf = sf.Buffer(1, 48000)\n",
    "new_buf.data[0, :] = np.linspace(0, 1, 48000)\n",
    "test_player.set_buffer(\"buffer\", new_buf)"
   ]
  },
  {
   "cell_type": "code",
   "execution_count": 54,
   "metadata": {},
   "outputs": [],
   "source": [
    "graph.stop(test_player)"
   ]
  },
  {
   "cell_type": "code",
   "execution_count": null,
   "metadata": {},
   "outputs": [],
   "source": [
    "graph.sample_rate"
   ]
  },
  {
   "cell_type": "code",
   "execution_count": 46,
   "metadata": {},
   "outputs": [],
   "source": [
    "# test if a param buffer could be changed after the theremin is created\n",
    "new_buf_sr = 10\n",
    "new_freq_buffer = sf.Buffer(1, new_buf_sr)\n",
    "new_freq_buffer.sample_rate = new_buf_sr\n",
    "new_freq_buffer.data[0, :] = np.linspace(100, 1000, new_buf_sr)"
   ]
  },
  {
   "cell_type": "code",
   "execution_count": null,
   "metadata": {},
   "outputs": [],
   "source": [
    "new_freq_buffer.sample_rate"
   ]
  },
  {
   "cell_type": "code",
   "execution_count": null,
   "metadata": {},
   "outputs": [],
   "source": [
    "new_freq_buffer.data"
   ]
  },
  {
   "cell_type": "code",
   "execution_count": null,
   "metadata": {},
   "outputs": [],
   "source": [
    "new_freq_buffer.sample_rate = 16000\n",
    "new_freq_buffer.sample_rate, new_freq_buffer.duration"
   ]
  },
  {
   "cell_type": "code",
   "execution_count": 49,
   "metadata": {},
   "outputs": [],
   "source": [
    "theremin.frequency_value.set_buffer(\"buffer\", new_freq_buffer)"
   ]
  },
  {
   "cell_type": "code",
   "execution_count": 50,
   "metadata": {},
   "outputs": [],
   "source": [
    "theremin.frequency_value.set_buffer(\"buffer\", theremin.frequency_buffer)"
   ]
  },
  {
   "cell_type": "code",
   "execution_count": null,
   "metadata": {},
   "outputs": [],
   "source": [
    "# horizontal scan test\n",
    "duration = 5\n",
    "my_timeline = [\n",
    "    (0, {\n",
    "        \"probe_width\": 1,\n",
    "        \"probe_height\": 500,\n",
    "        \"probe_x\": 0,\n",
    "        \"probe_y\": 0\n",
    "    }),\n",
    "    (duration, {\n",
    "        \"probe_x\": 499\n",
    "    })\n",
    "]\n",
    "\n",
    "target_filename = \"nrt_test_horizontal_scan.wav\"\n",
    "\n",
    "app.render_timeline_to_file(my_timeline, target_filename)\n",
    "\n",
    "display(Audio(target_filename))"
   ]
  },
  {
   "cell_type": "code",
   "execution_count": null,
   "metadata": {},
   "outputs": [],
   "source": [
    "# vertical scan test\n",
    "duration = 5\n",
    "my_timeline = [\n",
    "    (0, {\n",
    "        \"probe_width\": 500,\n",
    "        \"probe_height\": 1,\n",
    "        \"probe_x\": 0,\n",
    "        \"probe_y\": 0\n",
    "    }),\n",
    "    (duration, {\n",
    "        \"probe_y\": 499\n",
    "    })\n",
    "]\n",
    "\n",
    "target_filename = \"nrt_test_vertical_scan.wav\"\n",
    "\n",
    "app.render_timeline_to_file(my_timeline, target_filename)\n",
    "\n",
    "display(Audio(target_filename))"
   ]
  },
  {
   "cell_type": "markdown",
   "metadata": {},
   "source": [
    "# SynthGroup proto"
   ]
  },
  {
   "cell_type": "code",
   "execution_count": 1,
   "metadata": {},
   "outputs": [],
   "source": [
    "import numpy as np\n",
    "import signalflow as sf"
   ]
  },
  {
   "cell_type": "code",
   "execution_count": null,
   "metadata": {},
   "outputs": [],
   "source": [
    "# create a graph\n",
    "graph = sf.AudioGraph.get_shared_graph()\n",
    "if graph is None:\n",
    "    graph = sf.AudioGraph()\n",
    "else:\n",
    "    graph.destroy()\n",
    "    graph = sf.AudioGraph()\n",
    "graph.status"
   ]
  },
  {
   "cell_type": "code",
   "execution_count": 3,
   "metadata": {},
   "outputs": [],
   "source": [
    "# create a patch with a sine oscillator and a frequency input\n",
    "class SineTest(sf.Patch):\n",
    "    def __init__(self, frequency=440):\n",
    "        super().__init__()\n",
    "        frequency = self.add_input(\"frequency\", frequency)\n",
    "        sine = sf.SineOscillator(frequency)\n",
    "        stereo = sf.StereoPanner(sine, pan=0)\n",
    "        self.set_output(stereo)"
   ]
  },
  {
   "cell_type": "code",
   "execution_count": 18,
   "metadata": {},
   "outputs": [],
   "source": [
    "# create an instance\n",
    "sine_test = SineTest()\n",
    "graph.play(sine_test)"
   ]
  },
  {
   "cell_type": "code",
   "execution_count": 8,
   "metadata": {},
   "outputs": [],
   "source": [
    "# create another instance\n",
    "sine_test2 = SineTest()\n",
    "graph.play(sine_test2)"
   ]
  },
  {
   "cell_type": "code",
   "execution_count": 9,
   "metadata": {},
   "outputs": [],
   "source": [
    "# test setting the frequency\n",
    "sine_test.set_input(\"frequency\", 220)"
   ]
  },
  {
   "cell_type": "code",
   "execution_count": 19,
   "metadata": {},
   "outputs": [],
   "source": [
    "graph.stop(sine_test)\n",
    "graph.stop(sine_test2)"
   ]
  },
  {
   "cell_type": "code",
   "execution_count": 28,
   "metadata": {},
   "outputs": [],
   "source": [
    "# create a patch that should have instances with different frequencies\n",
    "class SineTestGroup(sf.Patch):\n",
    "    def __init__(self, frequencies=[440, 440]):\n",
    "        super().__init__()\n",
    "        frequencies = self.add_input(\"frequencies\", frequencies)\n",
    "        sine = sf.SineOscillator(frequencies)\n",
    "        mono = sf.ChannelMixer(1, sine)\n",
    "        stereo = sf.StereoPanner(mono, pan=0)\n",
    "        self.set_output(stereo)"
   ]
  },
  {
   "cell_type": "code",
   "execution_count": null,
   "metadata": {},
   "outputs": [],
   "source": [
    "# create an instance\n",
    "fundamental_freq = 220\n",
    "freqs = [fundamental_freq * i for i in range(1, 5)]\n",
    "print(freqs)\n",
    "sine_test_group = SineTestGroup(freqs)\n",
    "graph.play(sine_test_group)"
   ]
  },
  {
   "cell_type": "code",
   "execution_count": 30,
   "metadata": {},
   "outputs": [],
   "source": [
    "graph.stop(sine_test_group)"
   ]
  },
  {
   "cell_type": "code",
   "execution_count": 38,
   "metadata": {},
   "outputs": [],
   "source": [
    "# try the same but with input buffers\n",
    "class SineTestGroup2(sf.Patch):\n",
    "    def __init__(self, frequencies=[440, 440]):\n",
    "        super().__init__()\n",
    "        num_voices = len(frequencies)\n",
    "        self.frequency_buffer = sf.Buffer(num_voices, 1)\n",
    "        frequency_array = np.array(frequencies).reshape(num_voices, 1)\n",
    "        self.frequency_buffer.data[:, :] = frequency_array\n",
    "        self.frequency_reader = sf.BufferPlayer(self.frequency_buffer, loop=True)\n",
    "        sine = sf.SineOscillator(self.frequency_reader)\n",
    "        mono = sf.ChannelMixer(1, sine)\n",
    "        stereo = sf.StereoPanner(mono, pan=0)\n",
    "        self.set_output(stereo)"
   ]
  },
  {
   "cell_type": "code",
   "execution_count": null,
   "metadata": {},
   "outputs": [],
   "source": [
    "# create an instance\n",
    "fundamental_freq = 220\n",
    "freqs = [fundamental_freq * i for i in range(1, 10)]\n",
    "print(freqs)\n",
    "sine_test_group2 = SineTestGroup2(freqs)\n",
    "graph.play(sine_test_group2)"
   ]
  },
  {
   "cell_type": "code",
   "execution_count": 53,
   "metadata": {},
   "outputs": [],
   "source": [
    "# try to modify the param buffer\n",
    "sine_test_group2.frequency_buffer.data[0, :] = 230"
   ]
  },
  {
   "cell_type": "code",
   "execution_count": 54,
   "metadata": {},
   "outputs": [],
   "source": [
    "graph.stop(sine_test_group2)"
   ]
  },
  {
   "cell_type": "code",
   "execution_count": 78,
   "metadata": {},
   "outputs": [],
   "source": [
    "sine1 = sf.SineOscillator(220)\n",
    "sine2 = sf.SineOscillator(330)\n",
    "\n",
    "pansig1 = sf.SineOscillator(0.1)\n",
    "pansig2 = sf.SineOscillator(0.11)\n",
    "\n",
    "multisine = [sine1, sine2]\n",
    "multipansig = [pansig1, pansig2]\n",
    "\n",
    "panner = [sf.StereoPanner(sine, pan) for sine, pan in zip(multisine, multipansig)]\n",
    "\n",
    "bus = sf.Bus(2)\n",
    "\n",
    "for p in panner:\n",
    "    bus.add_input(p)\n",
    "\n",
    "# print(panner)\n",
    "\n",
    "out = bus / len(panner)\n",
    "\n",
    "graph.play(bus)"
   ]
  },
  {
   "cell_type": "code",
   "execution_count": 21,
   "metadata": {},
   "outputs": [],
   "source": [
    "multisine = sf.SineOscillator([220, 300, 402])\n",
    "multipansig = sf.SineOscillator([0.1, 0.11, 0.12])\n",
    "\n",
    "n = multisine.num_output_channels\n",
    "panner = [sf.StereoPanner(multisine[i] / n, multipansig[i]) for i in range(n)]\n",
    "\n",
    "bus = sf.Bus(2)\n",
    "\n",
    "for p in panner:\n",
    "    bus.add_input(p)\n",
    "\n",
    "graph.play(bus)"
   ]
  },
  {
   "cell_type": "code",
   "execution_count": 8,
   "metadata": {},
   "outputs": [],
   "source": [
    "m = 16 # number of output channels in the mixer\n",
    "multisine = sf.SineOscillator([220, 300, 402])\n",
    "multipansig = (sf.SineOscillator([0.1, 0.11, 0.12]) + 1) / 2 * (m-1) # scale [-1, 1] to [0, m-1]\n",
    "\n",
    "n = multisine.num_output_channels\n",
    "panner = [sf.ChannelPanner(m, multisine[i] / n, multipansig[i]) for i in range(n)]\n",
    "\n",
    "bus = sf.Bus(m)\n",
    "\n",
    "for p in panner:\n",
    "    bus.add_input(p)\n",
    "\n",
    "# mix down to stereo for listening\n",
    "out_stereo = sf.ChannelMixer(2, bus)\n",
    "\n",
    "graph.play(out_stereo)"
   ]
  },
  {
   "cell_type": "code",
   "execution_count": 15,
   "metadata": {},
   "outputs": [],
   "source": [
    "graph.start()"
   ]
  },
  {
   "cell_type": "code",
   "execution_count": 11,
   "metadata": {},
   "outputs": [],
   "source": [
    "graph.stop(bus)"
   ]
  },
  {
   "cell_type": "code",
   "execution_count": 7,
   "metadata": {},
   "outputs": [],
   "source": [
    "graph.stop(out_stereo)"
   ]
  },
  {
   "cell_type": "code",
   "execution_count": 17,
   "metadata": {},
   "outputs": [],
   "source": [
    "graph.stop()"
   ]
  },
  {
   "cell_type": "code",
   "execution_count": null,
   "metadata": {},
   "outputs": [],
   "source": [
    "print(len(panner))"
   ]
  },
  {
   "cell_type": "code",
   "execution_count": 8,
   "metadata": {},
   "outputs": [],
   "source": [
    "class Mixer(sf.Patch):\n",
    "    def __init__(self, input_sig, pan_sig, num_channels=2):\n",
    "        super().__init__()\n",
    "        assert input_sig.num_output_channels == pan_sig.num_output_channels\n",
    "        n = input_sig.num_output_channels\n",
    "        panner = [sf.ChannelPanner(num_channels, input_sig[i] / n, pan_sig[i]) for i in range(n)]\n",
    "        _sum = sf.Sum(panner)\n",
    "        self.set_output(_sum)"
   ]
  },
  {
   "cell_type": "code",
   "execution_count": 9,
   "metadata": {},
   "outputs": [],
   "source": [
    "# test the mixer\n",
    "m = 16\n",
    "multisine = sf.SineOscillator([220, 300, 402])\n",
    "multipansig = (sf.SineOscillator([0.1, 0.11, 0.12]) + 1) / 2 * (m-1) # scale [-1, 1] to [0, m-1]\n",
    "mix_multi = Mixer(multisine, multipansig, num_channels=m)\n",
    "mix_stereo = sf.ChannelMixer(2, mix_multi)\n",
    "\n",
    "graph.play(mix_stereo)"
   ]
  },
  {
   "cell_type": "code",
   "execution_count": 11,
   "metadata": {},
   "outputs": [],
   "source": [
    "graph.stop(mix_stereo)"
   ]
  },
  {
   "cell_type": "code",
   "execution_count": null,
   "metadata": {},
   "outputs": [],
   "source": [
    "mix_multi.state"
   ]
  },
  {
   "cell_type": "code",
   "execution_count": 14,
   "metadata": {},
   "outputs": [],
   "source": [
    "class HupMixer(sf.Patch):\n",
    "    def __init__(self, input_sig, num_channels=5):\n",
    "        super().__init__()\n",
    "        n = input_sig.num_output_channels # e.g. 2\n",
    "        output_x = np.linspace(0, n-1, num_channels) # e.g. [0, 0.25, 0.5, 0.75, 1]\n",
    "        upmixed_list = []\n",
    "        for i in range(num_channels - 1):\n",
    "            output_i = output_x[i]\n",
    "            a = input_sig[int(output_i)]\n",
    "            b = input_sig[int(output_i) + 1]\n",
    "            frac = float(output_i - int(output_i))\n",
    "            interp = sf.WetDry(a, b, sf.Constant(frac))\n",
    "            upmixed_list.append(interp)\n",
    "        # add the last channel\n",
    "        upmixed_list.append(input_sig[n-1])\n",
    "        _out = sf.ChannelArray(upmixed_list)\n",
    "        self.set_output(_out)"
   ]
  },
  {
   "cell_type": "code",
   "execution_count": 17,
   "metadata": {},
   "outputs": [],
   "source": [
    "class UpMixer(sf.Patch):\n",
    "    def __init__(self, input_sig, out_channels=5):\n",
    "        super().__init__()\n",
    "        n = input_sig.num_output_channels # e.g. 2\n",
    "        output_x = np.linspace(0, n-1, out_channels) # e.g. [0, 0.25, 0.5, 0.75, 1]\n",
    "        output_y = output_x * (out_channels - 1) # e.g. [0, 1, 2, 3, 4]\n",
    "        upmixed_list = [sf.WetDry(input_sig[int(output_i)], input_sig[int(output_i) + 1], float(output_i - int(output_i))) for output_i in output_x[:-1]]\n",
    "        upmixed_list.append(input_sig[n-1])\n",
    "        expanded_list = [sf.ChannelPanner(out_channels, upmixed_list[i], float(output_y[i])) for i in range(out_channels)]\n",
    "        _out = sf.Sum(expanded_list)\n",
    "        self.set_output(_out)"
   ]
  },
  {
   "cell_type": "code",
   "execution_count": 14,
   "metadata": {},
   "outputs": [],
   "source": [
    "test_in = sf.SineOscillator([220, 300])\n",
    "wtf = UpMixer(test_in, out_channels=5)\n",
    "wtf_stereo = sf.ChannelMixer(2, wtf)\n",
    "graph.play(wtf_stereo)"
   ]
  },
  {
   "cell_type": "code",
   "execution_count": null,
   "metadata": {},
   "outputs": [],
   "source": [
    "wtf.state"
   ]
  },
  {
   "cell_type": "code",
   "execution_count": 15,
   "metadata": {},
   "outputs": [],
   "source": [
    "graph.stop(wtf)"
   ]
  },
  {
   "cell_type": "code",
   "execution_count": null,
   "metadata": {},
   "outputs": [],
   "source": []
  },
  {
   "cell_type": "code",
   "execution_count": null,
   "metadata": {},
   "outputs": [],
   "source": [
    "b = sf.Buffer(3, 1)\n",
    "b.data[:, :] = np.ones_like(b.data) * np.linspace(0, 1, 3).reshape(3, 1) # [0, 0.5, 1]\n",
    "b_player = sf.BufferPlayer(b, loop=True)\n",
    "b_upmixed = UpMixer(b_player, out_channels=5)\n",
    "# b_upmixed = sf.ChannelMixer(5, b_player, True)\n",
    "mixdown = sf.ChannelMixer(2, b_upmixed)\n",
    "graph.play(mixdown)"
   ]
  },
  {
   "cell_type": "code",
   "execution_count": 20,
   "metadata": {},
   "outputs": [],
   "source": [
    "graph.stop(mixdown)"
   ]
  },
  {
   "cell_type": "code",
   "execution_count": null,
   "metadata": {},
   "outputs": [],
   "source": [
    "b_upmixed.state"
   ]
  },
  {
   "cell_type": "code",
   "execution_count": 8,
   "metadata": {},
   "outputs": [],
   "source": [
    "one = sf.Constant(1)\n",
    "two = sf.Constant(2)\n",
    "\n",
    "interp = sf.WetDry(one, two, 0.5) # 1.5"
   ]
  },
  {
   "cell_type": "code",
   "execution_count": 12,
   "metadata": {},
   "outputs": [],
   "source": [
    "interp.stop()"
   ]
  },
  {
   "cell_type": "code",
   "execution_count": null,
   "metadata": {},
   "outputs": [],
   "source": [
    "interp.output_buffer[0, -1]"
   ]
  },
  {
   "cell_type": "code",
   "execution_count": 3,
   "metadata": {},
   "outputs": [],
   "source": [
    "# test multiplication with different channels\n",
    "a = sf.Buffer(5, 1)\n",
    "a.data[:, :] = np.ones_like(a.data)\n",
    "a_player = sf.BufferPlayer(a, loop=True)\n",
    "\n",
    "b = sf.Buffer(3, 1)\n",
    "b.data[:, :] = np.ones_like(b.data) * np.linspace(0, 1, 3).reshape(3, 1) # [0, 0.5, 1]\n",
    "b_player = sf.BufferPlayer(b, loop=True)\n",
    "\n",
    "c = a_player * b_player # it will tile b to [0, 0.5, 1, 0, 0.5]\n",
    "\n",
    "d = sf.ChannelMixer(2, c)\n",
    "\n",
    "graph.play(d)\n"
   ]
  },
  {
   "cell_type": "code",
   "execution_count": 6,
   "metadata": {},
   "outputs": [],
   "source": [
    "graph.stop(d)"
   ]
  },
  {
   "cell_type": "code",
   "execution_count": null,
   "metadata": {},
   "outputs": [],
   "source": [
    "# try to resample instead of tiling\n",
    "a = sf.Buffer(5, 1)\n",
    "a.data[:, :] = np.ones_like(a.data)\n",
    "a_player = sf.BufferPlayer(a, loop=True)\n",
    "\n",
    "b = sf.Buffer(3, 1)\n",
    "b.data[:, :] = np.ones_like(b.data) * np.linspace(0, 1, 3).reshape(3, 1) # [0, 0.5, 1]\n",
    "b_player = sf.BufferPlayer(b, loop=True)\n",
    "\n",
    "b_upmixed = Mixer(b_player, [], num_channels=5)\n",
    "\n",
    "c = a_player * b_player # it will tile b to [0, 0.5, 1, 0, 0.5]\n",
    "\n",
    "d = sf.ChannelMixer(2, c)\n",
    "\n",
    "graph.play(d)"
   ]
  },
  {
   "cell_type": "code",
   "execution_count": null,
   "metadata": {},
   "outputs": [],
   "source": [
    "c.num_output_channels"
   ]
  },
  {
   "cell_type": "code",
   "execution_count": null,
   "metadata": {},
   "outputs": [],
   "source": [
    "c.output_buffer[:, -1]"
   ]
  },
  {
   "cell_type": "code",
   "execution_count": null,
   "metadata": {},
   "outputs": [],
   "source": [
    "a.data"
   ]
  },
  {
   "cell_type": "code",
   "execution_count": null,
   "metadata": {},
   "outputs": [],
   "source": []
  },
  {
   "cell_type": "code",
   "execution_count": null,
   "metadata": {},
   "outputs": [],
   "source": [
    "b.data"
   ]
  },
  {
   "cell_type": "code",
   "execution_count": 23,
   "metadata": {},
   "outputs": [],
   "source": [
    "def resize_interp(\n",
    "    input: np.ndarray,\n",
    "    size: int,\n",
    ") -> np.ndarray:\n",
    "    \"\"\"\n",
    "    Resize an array. Uses linear interpolation.\n",
    "\n",
    "    Args:\n",
    "        input (np.ndarray): Array to resize.\n",
    "        size (int): The new size of the array.\n",
    "\n",
    "    Returns:\n",
    "        np.ndarray: The resized array.\n",
    "    \"\"\"\n",
    "    # create x axis for input\n",
    "    input_x = np.arange(0, len(input))\n",
    "    # create array with sampling indices\n",
    "    output_x = np.linspace(0, len(input_x)-1, size)\n",
    "    # interpolate\n",
    "    return np.interp(output_x, input_x, input)"
   ]
  },
  {
   "cell_type": "code",
   "execution_count": null,
   "metadata": {},
   "outputs": [],
   "source": [
    "a = resize_interp([0, 5, 2], 11)\n",
    "# convert to list\n",
    "a.tolist()\n"
   ]
  },
  {
   "cell_type": "code",
   "execution_count": 31,
   "metadata": {},
   "outputs": [],
   "source": [
    "# helper function to broadcast and interpolate all param lists to the same length\n",
    "def broadcast_params(*param_lists):\n",
    "    # if an input list is just a single value, convert it to a list\n",
    "    param_lists = [p if isinstance(p, list) else [p] for p in param_lists]\n",
    "    max_len = max([len(p) for p in param_lists])\n",
    "    broadcasted_params = []\n",
    "    for plist in param_lists:\n",
    "        if len(plist) < max_len:\n",
    "            # interpolate\n",
    "            plist = resize_interp(plist, max_len).tolist()\n",
    "        broadcasted_params.append(plist)\n",
    "    return broadcasted_params"
   ]
  },
  {
   "cell_type": "code",
   "execution_count": null,
   "metadata": {},
   "outputs": [],
   "source": [
    "test_freqs = [220, 330, 440]\n",
    "test_freqs = 220\n",
    "test_pans = 0.1\n",
    "test_amps = [0.5, 0.7, 0.9, 1.0]\n",
    "test_amps = 0.7\n",
    "\n",
    "new_freqs, new_pans, new_amps = broadcast_params(test_freqs, test_pans, test_amps)\n",
    "\n",
    "new_freqs, new_pans, new_amps"
   ]
  },
  {
   "cell_type": "code",
   "execution_count": 35,
   "metadata": {},
   "outputs": [],
   "source": [
    "testy = sf.SineOscillator([220])\n",
    "stereo = sf.StereoPanner(testy, 0)\n",
    "graph.play(stereo)"
   ]
  },
  {
   "cell_type": "code",
   "execution_count": 36,
   "metadata": {},
   "outputs": [],
   "source": [
    "graph.stop(stereo)"
   ]
  },
  {
   "cell_type": "code",
   "execution_count": 37,
   "metadata": {},
   "outputs": [],
   "source": [
    "test_list = [220, 330, 440]\n",
    "testbuf = sf.Buffer(len(test_list), 1)\n",
    "testbuf.data[:, :] = np.array(test_list).reshape(len(test_list), 1)"
   ]
  },
  {
   "cell_type": "code",
   "execution_count": null,
   "metadata": {},
   "outputs": [],
   "source": [
    "import numpy as np\n",
    "\n",
    "a = np.random.rand(50, 50, 3)\n",
    "a.shape"
   ]
  },
  {
   "cell_type": "code",
   "execution_count": null,
   "metadata": {},
   "outputs": [],
   "source": [
    "b = np.mean(a, axis=(0, 1))\n",
    "b.shape"
   ]
  },
  {
   "cell_type": "code",
   "execution_count": null,
   "metadata": {},
   "outputs": [],
   "source": [
    "a = np.random.rand(3)\n",
    "b = np.random.rand(3)\n",
    "\n",
    "a if a == b else b"
   ]
  },
  {
   "cell_type": "code",
   "execution_count": null,
   "metadata": {},
   "outputs": [],
   "source": [
    "if a.all() == b.all():\n",
    "    print(\"yes\")"
   ]
  },
  {
   "cell_type": "code",
   "execution_count": null,
   "metadata": {},
   "outputs": [],
   "source": [
    "a = np.zeros((2, 100))\n",
    "b = np.ones((2, 1))\n",
    "\n",
    "a[:, 0] = b[:, 0]"
   ]
  },
  {
   "cell_type": "code",
   "execution_count": null,
   "metadata": {},
   "outputs": [],
   "source": [
    "a"
   ]
  },
  {
   "cell_type": "code",
   "execution_count": null,
   "metadata": {},
   "outputs": [],
   "source": []
  }
 ],
 "metadata": {
  "kernelspec": {
   "display_name": "Python 3 (ipykernel)",
   "language": "python",
   "name": "python3"
  },
  "language_info": {
   "codemirror_mode": {
    "name": "ipython",
    "version": 3
   },
   "file_extension": ".py",
   "mimetype": "text/x-python",
   "name": "python",
   "nbconvert_exporter": "python",
   "pygments_lexer": "ipython3",
   "version": "3.10.16"
  }
 },
 "nbformat": 4,
 "nbformat_minor": 4
}
