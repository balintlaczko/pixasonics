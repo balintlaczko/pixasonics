{
 "cells": [
  {
   "cell_type": "markdown",
   "metadata": {},
   "source": [
    "# After refactoring..."
   ]
  },
  {
   "cell_type": "code",
   "execution_count": 2,
   "metadata": {},
   "outputs": [
    {
     "data": {
      "application/vnd.jupyter.widget-view+json": {
       "model_id": "cdce621f2f8b423cae2617a2395ae4df",
       "version_major": 2,
       "version_minor": 0
      },
      "text/plain": [
       "MultiCanvas(height=580, width=1080)"
      ]
     },
     "metadata": {},
     "output_type": "display_data"
    },
    {
     "data": {
      "application/vnd.jupyter.widget-view+json": {
       "model_id": "c0b625a5083b48ec8b1298d1333a480e",
       "version_major": 2,
       "version_minor": 0
      },
      "text/plain": [
       "IntSlider(value=50, description='Probe Width', layout=Layout(width='400px'), max=500, min=1, style=SliderStyle…"
      ]
     },
     "metadata": {},
     "output_type": "display_data"
    },
    {
     "data": {
      "application/vnd.jupyter.widget-view+json": {
       "model_id": "c2be22dfccef4c97a88876c304d1b89b",
       "version_major": 2,
       "version_minor": 0
      },
      "text/plain": [
       "IntSlider(value=50, description='Probe Height', layout=Layout(width='400px'), max=500, min=1, style=SliderStyl…"
      ]
     },
     "metadata": {},
     "output_type": "display_data"
    },
    {
     "data": {
      "application/vnd.jupyter.widget-view+json": {
       "model_id": "f61ed285c12c4f7cb8d026a777290555",
       "version_major": 2,
       "version_minor": 0
      },
      "text/plain": [
       "ToggleButton(value=False, description='Audio', layout=Layout(width='auto'), style=ToggleButtonStyle(text_color…"
      ]
     },
     "metadata": {},
     "output_type": "display_data"
    },
    {
     "data": {
      "application/vnd.jupyter.widget-view+json": {
       "model_id": "dfcc66c6f3ac434ba87e7e5d7baabe5a",
       "version_major": 2,
       "version_minor": 0
      },
      "text/plain": [
       "FloatSlider(value=0.0, description='Master Volume (dB)', layout=Layout(width='400px'), max=0.0, min=-36.0, ste…"
      ]
     },
     "metadata": {},
     "output_type": "display_data"
    },
    {
     "data": {
      "application/vnd.jupyter.widget-view+json": {
       "model_id": "739fe29d66b74181bd2736138fb8e9cc",
       "version_major": 2,
       "version_minor": 0
      },
      "text/plain": [
       "Text(value='', description='MouseX:', disabled=True)"
      ]
     },
     "metadata": {},
     "output_type": "display_data"
    },
    {
     "data": {
      "application/vnd.jupyter.widget-view+json": {
       "model_id": "d297b2faeb074a98a4fe28bb00b7ae58",
       "version_major": 2,
       "version_minor": 0
      },
      "text/plain": [
       "Text(value='', description='MouseY:', disabled=True)"
      ]
     },
     "metadata": {},
     "output_type": "display_data"
    },
    {
     "name": "stderr",
     "output_type": "stream",
     "text": [
      "[miniaudio] Output device: External Headphones (48000Hz, buffer size 480 samples, 2 channels)\n"
     ]
    },
    {
     "data": {
      "application/vnd.jupyter.widget-view+json": {
       "model_id": "5077bbea56064c6a8873e9dfd636c995",
       "version_major": 2,
       "version_minor": 0
      },
      "text/plain": [
       "Text(value='', description='MeanPixelValue_0_Min:', disabled=True, style=TextStyle(description_width='auto'))"
      ]
     },
     "metadata": {},
     "output_type": "display_data"
    },
    {
     "data": {
      "application/vnd.jupyter.widget-view+json": {
       "model_id": "7678952f21ca411095dd3648e901706f",
       "version_major": 2,
       "version_minor": 0
      },
      "text/plain": [
       "Text(value='', description='MeanPixelValue_0_Max:', disabled=True, style=TextStyle(description_width='auto'))"
      ]
     },
     "metadata": {},
     "output_type": "display_data"
    },
    {
     "data": {
      "application/vnd.jupyter.widget-view+json": {
       "model_id": "8a3cb09861734d8eae3a573b7ba667f9",
       "version_major": 2,
       "version_minor": 0
      },
      "text/plain": [
       "Text(value='', description='MeanPixelValue_0_Last:', disabled=True, style=TextStyle(description_width='auto'))"
      ]
     },
     "metadata": {},
     "output_type": "display_data"
    },
    {
     "data": {
      "application/vnd.jupyter.widget-view+json": {
       "model_id": "bd0f0a2871b84dbe8c01b55c3ef8e8cf",
       "version_major": 2,
       "version_minor": 0
      },
      "text/plain": [
       "Button(description='Reset MeanPixelValue MinMax', layout=Layout(height='40px', width='auto'), style=ButtonStyl…"
      ]
     },
     "metadata": {},
     "output_type": "display_data"
    },
    {
     "data": {
      "application/vnd.jupyter.widget-view+json": {
       "model_id": "30e30069e0604b11a8d87b363abf5a43",
       "version_major": 2,
       "version_minor": 0
      },
      "text/plain": [
       "Label(value='Mapper: MeanPixelValue ==> Theremin Frequency')"
      ]
     },
     "metadata": {},
     "output_type": "display_data"
    }
   ],
   "source": [
    "import signalflow as sf\n",
    "from pixasonics.core import App, Mapper\n",
    "from pixasonics.features import MeanPixelValue\n",
    "from pixasonics.synths import Theremin\n",
    "\n",
    "img_path = \"images/cellular_dataset/Timepoint_001_220518-ST_C03_s1.jpg\"\n",
    "\n",
    "# Create app\n",
    "app = App()\n",
    "app.load_image(img_path) # Load image\n",
    "\n",
    "# Create objects\n",
    "mean_pix = MeanPixelValue()\n",
    "theremin = Theremin()\n",
    "pix2freq = Mapper(mean_pix, theremin[\"frequency\"], exponent=2, out_high=1000)\n",
    "\n",
    "# Add objects to app\n",
    "app.add_feature(mean_pix)\n",
    "app.add_synth(theremin)\n",
    "app.add_mapper(pix2freq)\n"
   ]
  },
  {
   "cell_type": "code",
   "execution_count": 11,
   "metadata": {},
   "outputs": [
    {
     "data": {
      "application/vnd.jupyter.widget-view+json": {
       "model_id": "1f3f8042677f47fdb323ecf3d4a6d08a",
       "version_major": 2,
       "version_minor": 0
      },
      "text/plain": [
       "Label(value='Mapper: MeanPixelValue ==> Theremin Amplitude')"
      ]
     },
     "metadata": {},
     "output_type": "display_data"
    }
   ],
   "source": [
    "# test adding another mapping: mean pixel value to amplitude with an exponential curve\n",
    "pix2amp = Mapper(mean_pix, theremin[\"amplitude\"], exponent=2)\n",
    "app.add_mapper(pix2amp)"
   ]
  },
  {
   "cell_type": "code",
   "execution_count": 12,
   "metadata": {},
   "outputs": [
    {
     "data": {
      "application/vnd.jupyter.widget-view+json": {
       "model_id": "5d209184f6cf42679e6d15ddf3f6c04a",
       "version_major": 2,
       "version_minor": 0
      },
      "text/plain": [
       "Label(value='Mapper: MeanPixelValue ==> Theremin Panning')"
      ]
     },
     "metadata": {},
     "output_type": "display_data"
    }
   ],
   "source": [
    "pix2pan = Mapper(mean_pix, theremin[\"panning\"])\n",
    "app.add_mapper(pix2pan)"
   ]
  },
  {
   "cell_type": "code",
   "execution_count": 13,
   "metadata": {},
   "outputs": [
    {
     "data": {
      "text/plain": [
       "[Mapper: MeanPixelValue ==> Theremin Frequency,\n",
       " Mapper: MeanPixelValue ==> Theremin Amplitude,\n",
       " Mapper: MeanPixelValue ==> Theremin Panning]"
      ]
     },
     "execution_count": 13,
     "metadata": {},
     "output_type": "execute_result"
    }
   ],
   "source": [
    "app.mappers"
   ]
  },
  {
   "cell_type": "code",
   "execution_count": 14,
   "metadata": {},
   "outputs": [
    {
     "data": {
      "text/plain": [
       "[Mapper: MeanPixelValue ==> Theremin Frequency,\n",
       " Mapper: MeanPixelValue ==> Theremin Panning]"
      ]
     },
     "execution_count": 14,
     "metadata": {},
     "output_type": "execute_result"
    }
   ],
   "source": [
    "# remove a mapper\n",
    "app.remove_mapper(pix2amp)\n",
    "app.mappers"
   ]
  },
  {
   "cell_type": "code",
   "execution_count": 15,
   "metadata": {},
   "outputs": [
    {
     "data": {
      "application/vnd.jupyter.widget-view+json": {
       "model_id": "b69eeb3fb1c64ff48205be6bd311bf80",
       "version_major": 2,
       "version_minor": 0
      },
      "text/plain": [
       "Label(value='Mapper: MeanPixelValue ==> Theremin Frequency')"
      ]
     },
     "metadata": {},
     "output_type": "display_data"
    },
    {
     "data": {
      "text/plain": [
       "[Mapper: MeanPixelValue ==> Theremin Panning,\n",
       " Mapper: MeanPixelValue ==> Theremin Frequency]"
      ]
     },
     "execution_count": 15,
     "metadata": {},
     "output_type": "execute_result"
    }
   ],
   "source": [
    "# remove old frequency mapping and add a new one with different scaling\n",
    "app.remove_mapper(pix2freq)\n",
    "pix2freq = Mapper(mean_pix, theremin[\"frequency\"], exponent=2, out_low=100, out_high=2000)\n",
    "app.add_mapper(pix2freq)\n",
    "app.mappers"
   ]
  },
  {
   "cell_type": "code",
   "execution_count": 16,
   "metadata": {},
   "outputs": [
    {
     "name": "stdout",
     "output_type": "stream",
     "text": [
      " * audioout\n",
      "   input0:\n",
      "    * multiply\n",
      "      input0:\n",
      "       * bus\n",
      "         input0:\n",
      "          * stereo-panner\n",
      "            input:\n",
      "             * multiply\n",
      "               input0:\n",
      "                * sine\n",
      "                  frequency:\n",
      "                   * smooth\n",
      "                     input:\n",
      "                      * buffer-player\n",
      "                        loop: 1.000000\n",
      "                        rate: 1.000000\n",
      "                     smooth: 0.999425\n",
      "               input1:\n",
      "                * smooth\n",
      "                  input:\n",
      "                   * buffer-player\n",
      "                     loop: 1.000000\n",
      "                     rate: 1.000000\n",
      "                  smooth: 0.999425\n",
      "            pan:\n",
      "             * smooth\n",
      "               input:\n",
      "                * buffer-player\n",
      "                  loop: 1.000000\n",
      "                  rate: 1.000000\n",
      "               smooth: 0.999425\n",
      "      input1:\n",
      "       * smooth\n",
      "         input:\n",
      "          * multiply\n",
      "            input0:\n",
      "             * decibels-to-amplitude\n",
      "               input: 0.000000\n",
      "            input1:\n",
      "             * buffer-player\n",
      "               loop: 1.000000\n",
      "               rate: 1.000000\n",
      "         smooth: 0.999425\n",
      "   input1:\n",
      "    * multiply\n",
      "      input0:\n",
      "       * bus\n",
      "         input0:\n",
      "          * stereo-panner\n",
      "            input:\n",
      "             * multiply\n",
      "               input0:\n",
      "                * sine\n",
      "                  frequency:\n",
      "                   * smooth\n",
      "                     input:\n",
      "                      * buffer-player\n",
      "                        loop: 1.000000\n",
      "                        rate: 1.000000\n",
      "                     smooth: 0.999425\n",
      "               input1:\n",
      "                * smooth\n",
      "                  input:\n",
      "                   * buffer-player\n",
      "                     loop: 1.000000\n",
      "                     rate: 1.000000\n",
      "                  smooth: 0.999425\n",
      "            pan:\n",
      "             * smooth\n",
      "               input:\n",
      "                * buffer-player\n",
      "                  loop: 1.000000\n",
      "                  rate: 1.000000\n",
      "               smooth: 0.999425\n",
      "      input1:\n",
      "       * smooth\n",
      "         input:\n",
      "          * multiply\n",
      "            input0:\n",
      "             * decibels-to-amplitude\n",
      "               input: 0.000000\n",
      "            input1:\n",
      "             * buffer-player\n",
      "               loop: 1.000000\n",
      "               rate: 1.000000\n",
      "         smooth: 0.999425\n",
      "\n",
      "AudioGraph: 15 active nodes, 0 patches, 1.46% CPU usage, 0.9MB memory usage, output = -dB\n"
     ]
    }
   ],
   "source": [
    "graph = sf.AudioGraph.get_shared_graph()\n",
    "print(graph.structure)\n",
    "print(graph.status)"
   ]
  },
  {
   "cell_type": "code",
   "execution_count": null,
   "metadata": {},
   "outputs": [],
   "source": []
  }
 ],
 "metadata": {
  "kernelspec": {
   "display_name": "pixasonics",
   "language": "python",
   "name": "python3"
  },
  "language_info": {
   "codemirror_mode": {
    "name": "ipython",
    "version": 3
   },
   "file_extension": ".py",
   "mimetype": "text/x-python",
   "name": "python",
   "nbconvert_exporter": "python",
   "pygments_lexer": "ipython3",
   "version": "3.10.16"
  }
 },
 "nbformat": 4,
 "nbformat_minor": 2
}
