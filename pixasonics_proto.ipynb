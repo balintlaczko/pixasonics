{
 "cells": [
  {
   "cell_type": "markdown",
   "metadata": {},
   "source": [
    "# After refactoring..."
   ]
  },
  {
   "cell_type": "code",
   "execution_count": null,
   "metadata": {},
   "outputs": [],
   "source": [
    "import signalflow as sf\n",
    "from pixasonics.core import App, Mapper\n",
    "from pixasonics.features import MeanPixelValue\n",
    "from pixasonics.synths import Theremin\n",
    "\n",
    "# Create app\n",
    "app = App()"
   ]
  },
  {
   "cell_type": "code",
   "execution_count": 2,
   "metadata": {},
   "outputs": [],
   "source": [
    "# load an image\n",
    "img_path = \"images/cellular_dataset/Timepoint_001_220518-ST_C03_s1.jpg\"\n",
    "img = app.load_image(img_path)"
   ]
  },
  {
   "cell_type": "code",
   "execution_count": 3,
   "metadata": {},
   "outputs": [],
   "source": [
    "# Create objects\n",
    "mean_pix = MeanPixelValue()\n",
    "theremin = Theremin()\n",
    "pix2freq = Mapper(mean_pix, theremin[\"frequency\"], exponent=2, out_high=1000)"
   ]
  },
  {
   "cell_type": "code",
   "execution_count": null,
   "metadata": {},
   "outputs": [],
   "source": [
    "app.features"
   ]
  },
  {
   "cell_type": "code",
   "execution_count": null,
   "metadata": {},
   "outputs": [],
   "source": [
    "app.attach_feature(mean_pix)\n",
    "app.features"
   ]
  },
  {
   "cell_type": "code",
   "execution_count": null,
   "metadata": {},
   "outputs": [],
   "source": [
    "app.synths"
   ]
  },
  {
   "cell_type": "code",
   "execution_count": null,
   "metadata": {},
   "outputs": [],
   "source": [
    "app.attach_synth(theremin)\n",
    "app.synths"
   ]
  },
  {
   "cell_type": "code",
   "execution_count": null,
   "metadata": {},
   "outputs": [],
   "source": [
    "app.mappers"
   ]
  },
  {
   "cell_type": "code",
   "execution_count": null,
   "metadata": {},
   "outputs": [],
   "source": [
    "app.attach_mapper(pix2freq)\n",
    "app.mappers"
   ]
  },
  {
   "cell_type": "code",
   "execution_count": null,
   "metadata": {},
   "outputs": [],
   "source": [
    "app.detach_mapper(pix2freq)\n",
    "app.mappers"
   ]
  },
  {
   "cell_type": "code",
   "execution_count": null,
   "metadata": {},
   "outputs": [],
   "source": [
    "# test adding another mapping: mean pixel value to amplitude with an exponential curve\n",
    "pix2amp = Mapper(mean_pix, theremin[\"amplitude\"], exponent=2)\n",
    "app.attach_mapper(pix2amp)"
   ]
  },
  {
   "cell_type": "code",
   "execution_count": null,
   "metadata": {},
   "outputs": [],
   "source": [
    "pix2pan = Mapper(mean_pix, theremin[\"panning\"])\n",
    "app.attach_mapper(pix2pan)"
   ]
  },
  {
   "cell_type": "code",
   "execution_count": null,
   "metadata": {},
   "outputs": [],
   "source": [
    "# detach a mapper\n",
    "app.detach_mapper(pix2amp)\n",
    "app.mappers"
   ]
  },
  {
   "cell_type": "code",
   "execution_count": null,
   "metadata": {},
   "outputs": [],
   "source": [
    "# detach old frequency mapping and add a new one with different scaling\n",
    "app.detach_mapper(pix2freq)\n",
    "pix2freq = Mapper(mean_pix, theremin[\"frequency\"], exponent=2, out_low=100, out_high=2000)\n",
    "app.attach_mapper(pix2freq)\n",
    "app.mappers"
   ]
  },
  {
   "cell_type": "code",
   "execution_count": null,
   "metadata": {},
   "outputs": [],
   "source": [
    "graph = sf.AudioGraph.get_shared_graph()\n",
    "print(graph.structure)\n",
    "print(graph.status)"
   ]
  },
  {
   "cell_type": "markdown",
   "metadata": {},
   "source": [
    "# Import widget stuff"
   ]
  },
  {
   "cell_type": "code",
   "execution_count": 16,
   "metadata": {},
   "outputs": [],
   "source": [
    "from ipywidgets import ToggleButton, Button, ButtonStyle, Layout, jslink, IntText, IntSlider, FloatSlider, GridBox, GridspecLayout, Box, VBox, Label, Accordion"
   ]
  },
  {
   "cell_type": "markdown",
   "metadata": {},
   "source": [
    "# Mapper card proto"
   ]
  },
  {
   "cell_type": "code",
   "execution_count": null,
   "metadata": {},
   "outputs": [],
   "source": [
    "mapper_label = Label(value=\"Mapper\", style=dict(\n",
    "    font_weight='bold',\n",
    "    font_size='2em'))\n",
    "mapper_id = Label(value=\"# ID\", style=dict(\n",
    "    font_weight='bold',\n",
    "    font_size='1em',\n",
    "    text_color='gray'))\n",
    "\n",
    "top_row = Box([mapper_label, mapper_id], layout=Layout(justify_content='space-between'))\n",
    "\n",
    "from_label = Label(value=\"From:\")\n",
    "from_value = Label(value=\"MeanPixelValue\")\n",
    "from_row = Box([from_label, from_value], layout=Layout(justify_content='space-between'))\n",
    "\n",
    "to_label = Label(value=\"To:\")\n",
    "to_value = Label(value=\"Theremin Frequency\")\n",
    "to_row = Box([to_label, to_value], layout=Layout(justify_content='space-between'))\n",
    "\n",
    "detach_btn = Button(\n",
    "    description=\"Detach\", \n",
    "    button_style='danger', \n",
    "    icon='unlink',\n",
    "    layout=Layout(max_width='80px'))\n",
    "detach_btn.on_click(lambda x: print(\"Detaching mapper\"))\n",
    "detach_row = Box([detach_btn], layout=Layout(justify_content='flex-end'))\n",
    "\n",
    "mapper_card = GridBox(children=[top_row, from_row, to_row, detach_row],\n",
    "                        layout=Layout(\n",
    "                            width='auto', \n",
    "                            grid_template_columns='auto', \n",
    "                            grid_template_rows='1fr 0.8fr 1.6fr 1fr',\n",
    "                            max_width='260px',\n",
    "                            min_height='140px',\n",
    "                            border='1px solid black',\n",
    "                            padding='5px',\n",
    "                            margin='5px'))\n",
    "\n",
    "mapper_card\n"
   ]
  },
  {
   "cell_type": "markdown",
   "metadata": {},
   "source": [
    "# Feature card proto"
   ]
  },
  {
   "cell_type": "code",
   "execution_count": null,
   "metadata": {},
   "outputs": [],
   "source": [
    "from ipywidgets import Label, Layout, Box, VBox, GridBox, Button, IntSlider, FloatSlider, ToggleButton, Accordion, Text\n",
    "import numpy as np\n",
    "\n",
    "class FeatureCard():\n",
    "    def __init__(\n",
    "            self,\n",
    "            name: str = \"Feature\", \n",
    "            id: str = \"# ID\", \n",
    "            min: str = \"(str(min array))\",\n",
    "            max: str = \"(str(max array))\",\n",
    "            value: str = \"(str(value array))\",\n",
    "    ):\n",
    "        self.name = name\n",
    "        self.id = id\n",
    "        self.min = min\n",
    "        self.max = max\n",
    "        self.value = value\n",
    "        self.app = None\n",
    "        self.feature = None\n",
    "        self.create_ui()\n",
    "\n",
    "    def __call__(self):\n",
    "        return self.card\n",
    "\n",
    "    def detach_callback(self, b):\n",
    "        print(\"FeatureCard: detaching feature\", self.id)\n",
    "        if self.app is not None and self.feature is not None:\n",
    "            self.app.detach_feature(self.feature)\n",
    "\n",
    "    def reset_callback(self, b):\n",
    "        print(\"FeatureCard: resetting min max\", self.id)\n",
    "        if self.feature is not None:\n",
    "            self.feature.reset_min_max()\n",
    "\n",
    "    def create_ui(self):\n",
    "        feature_label = Label(\n",
    "            value=self.name, \n",
    "            style=dict(\n",
    "                font_weight='bold',\n",
    "                font_size='20px'))\n",
    "        \n",
    "        feature_id = Label(\n",
    "            value=self.id, \n",
    "            style=dict(\n",
    "                font_weight='bold',\n",
    "                font_size='10px',\n",
    "                text_color='gray'))\n",
    "\n",
    "        top_block = Box(\n",
    "            [feature_label, feature_id], \n",
    "            layout=Layout(\n",
    "                justify_content='space-between',\n",
    "                align_items='flex-start',\n",
    "                flex_flow='row',\n",
    "                width='100%'))\n",
    "\n",
    "        min_label = Label(value=\"Min:\")\n",
    "        min_value = Text(\n",
    "            value=self.min,\n",
    "            placeholder='(min array)',\n",
    "            description='',\n",
    "            disabled=True,\n",
    "            layout=Layout(width='80%')\n",
    "        )\n",
    "        min_value.tag = \"min\"\n",
    "        min_block = Box(\n",
    "            [min_label, min_value], \n",
    "            layout=Layout(\n",
    "                justify_content='space-between',\n",
    "                flex_flow='row',\n",
    "                width='100%'))\n",
    "        \n",
    "        max_label = Label(value=\"Max:\")\n",
    "        max_value = Text(\n",
    "            value=self.max,\n",
    "            placeholder='(max array)',\n",
    "            description='',\n",
    "            disabled=True,\n",
    "            layout=Layout(width='80%')\n",
    "        )\n",
    "        max_value.tag = f\"max\"\n",
    "        max_block = Box(\n",
    "            [max_label, max_value], \n",
    "            layout=Layout(\n",
    "                justify_content='space-between',\n",
    "                flex_flow='row',\n",
    "                width='100%'))\n",
    "        \n",
    "        value_label = Label(value=\"Value:\")\n",
    "        value_value = Text(\n",
    "            value=self.value,\n",
    "            placeholder='(value array)',\n",
    "            description='',\n",
    "            disabled=True,\n",
    "            layout=Layout(width='80%')\n",
    "        )\n",
    "        value_value.tag = f\"value\"\n",
    "        value_block = Box(\n",
    "            [value_label, value_value], \n",
    "            layout=Layout(\n",
    "                justify_content='space-between',\n",
    "                flex_flow='row',\n",
    "                width='100%'))\n",
    "\n",
    "\n",
    "        reset_btn = Button(\n",
    "            description=\"Reset\", \n",
    "            button_style='warning', \n",
    "            icon='refresh',\n",
    "            layout=Layout(max_width='80px'))\n",
    "        reset_btn.on_click(self.reset_callback)\n",
    "\n",
    "        detach_btn = Button(\n",
    "            description=\"Detach\", \n",
    "            button_style='danger', \n",
    "            icon='unlink',\n",
    "            layout=Layout(max_width='80px'))\n",
    "        detach_btn.on_click(self.detach_callback)\n",
    "        \n",
    "        btn_row = Box(\n",
    "            [reset_btn, detach_btn], \n",
    "            layout=Layout(\n",
    "                width='100%',\n",
    "                justify_content='space-between'))\n",
    "\n",
    "        self.card = Box(\n",
    "            children=[top_block, min_block, max_block, value_block, btn_row],\n",
    "            layout=Layout(\n",
    "                width='auto', \n",
    "                # grid_template_columns='auto', \n",
    "                # grid_template_rows='1fr, 1fr, 1fr 1fr 1fr 1fr',\n",
    "                flex_flow='column',\n",
    "                align_items='flex-start',\n",
    "                justify_content='flex-start',\n",
    "                max_width='260px',\n",
    "                min_height='100px',\n",
    "                border='1px solid black',\n",
    "                padding='5px',\n",
    "                margin='5px'))\n",
    "        self.card.tag = f\"feature_{self.id}\"\n",
    "\n",
    "test_min_array = str(np.random.rand(10))\n",
    "print(test_min_array)\n",
    "test_max_array = str(np.random.rand(10))\n",
    "print(test_max_array)\n",
    "test_value_array = str(np.random.rand(10))\n",
    "print(test_value_array)\n",
    "feature_card = FeatureCard(\"Mean Value\", \"mean_pix\", test_min_array, test_max_array, test_value_array)\n",
    "feature_card()"
   ]
  },
  {
   "cell_type": "markdown",
   "metadata": {},
   "source": [
    "# Carousel proto"
   ]
  },
  {
   "cell_type": "code",
   "execution_count": null,
   "metadata": {},
   "outputs": [],
   "source": [
    "# Create a vertical carousel of mapper cards\n",
    "mapper_cards = [mapper_card for i in range(10)]\n",
    "mapper_carousel = Box(children=mapper_cards, layout=Layout(overflow='scroll',\n",
    "                                                            border='3px solid black',\n",
    "                                                            padding='5px',\n",
    "                                                            width='auto',\n",
    "                                                            max_width='300px',\n",
    "                                                            max_height='500px',\n",
    "                                                            flex_flow='column',\n",
    "                                                            display='flex'))\n",
    "mapper_carousel"
   ]
  },
  {
   "cell_type": "code",
   "execution_count": null,
   "metadata": {},
   "outputs": [],
   "source": [
    "# access the children of the carousel\n",
    "mapper_carousel.children\n",
    "\n",
    "# remove a card\n",
    "mapper_carousel.children = mapper_carousel.children[:-1]\n",
    "\n",
    "mapper_carousel"
   ]
  },
  {
   "cell_type": "markdown",
   "metadata": {},
   "source": [
    "# App layout proto"
   ]
  },
  {
   "cell_type": "code",
   "execution_count": null,
   "metadata": {},
   "outputs": [],
   "source": [
    "from ipywidgets import ToggleButton, Button, ButtonStyle, Layout, jslink, IntText, IntSlider, FloatSlider, GridBox, GridspecLayout, Box, VBox, Label, Accordion\n",
    "from pixasonics.ui import AppUI, ProbeSettings, AudioSettings, Model, find_widget_by_tag\n",
    "\n",
    "probe_settings = ProbeSettings()\n",
    "audio_settings = AudioSettings()\n",
    "\n",
    "app_ui = AppUI(\n",
    "    probe_settings,\n",
    "    audio_settings\n",
    "    )\n",
    "\n",
    "app_ui()"
   ]
  },
  {
   "cell_type": "code",
   "execution_count": 22,
   "metadata": {},
   "outputs": [],
   "source": [
    "# add a new canvas\n",
    "test_canvas = Button(description=\"Test Canvas\", layout=Layout(width='500px', height='500px'))\n",
    "app_ui.box.children[0].children = [test_canvas]"
   ]
  },
  {
   "cell_type": "code",
   "execution_count": 23,
   "metadata": {},
   "outputs": [],
   "source": [
    "# add a new canvas the new way\n",
    "test_canvas = Button(description=\"Test Canvas\", layout=Layout(width='500px', height='500px'))\n",
    "app_canvas = find_widget_by_tag(app_ui.box, \"app_canvas\")\n",
    "app_canvas.children = [test_canvas]"
   ]
  },
  {
   "cell_type": "code",
   "execution_count": 24,
   "metadata": {},
   "outputs": [],
   "source": [
    "# add buttons to the features carousel\n",
    "features_carousel = app_ui.box.children[1].children[0].children[2]\n",
    "features_carousel.children = list(features_carousel.children) + [Button(description=f\"Feature {i}\") for i in range(10)]"
   ]
  },
  {
   "cell_type": "code",
   "execution_count": 25,
   "metadata": {},
   "outputs": [],
   "source": [
    "# add buttons the new way\n",
    "test_buttons = [Button(description=f\"Feature {i}\") for i in range(10)]\n",
    "features_carousel = find_widget_by_tag(app_ui.box, \"features_carousel\")\n",
    "features_carousel.children = list(features_carousel.children) + test_buttons"
   ]
  },
  {
   "cell_type": "code",
   "execution_count": 26,
   "metadata": {},
   "outputs": [],
   "source": [
    "# delete all buttons from the features carousel\n",
    "features_carousel.children = []"
   ]
  }
 ],
 "metadata": {
  "kernelspec": {
   "display_name": "pixasonics",
   "language": "python",
   "name": "python3"
  },
  "language_info": {
   "codemirror_mode": {
    "name": "ipython",
    "version": 3
   },
   "file_extension": ".py",
   "mimetype": "text/x-python",
   "name": "python",
   "nbconvert_exporter": "python",
   "pygments_lexer": "ipython3",
   "version": "3.10.16"
  }
 },
 "nbformat": 4,
 "nbformat_minor": 4
}
