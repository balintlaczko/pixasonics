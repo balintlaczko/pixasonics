{
 "cells": [
  {
   "cell_type": "markdown",
   "metadata": {},
   "source": [
    "# After refactoring..."
   ]
  },
  {
   "cell_type": "code",
   "execution_count": 1,
   "metadata": {},
   "outputs": [
    {
     "name": "stdout",
     "output_type": "stream",
     "text": [
      "[Taichi] version 1.7.3, llvm 15.0.7, commit 5ec301be, osx, python 3.10.16\n"
     ]
    },
    {
     "name": "stderr",
     "output_type": "stream",
     "text": [
      "[I 01/29/25 17:59:38.377 28086057] [shell.py:_shell_pop_print@23] Graphical python shell detected, using wrapped sys.stdout\n"
     ]
    },
    {
     "name": "stdout",
     "output_type": "stream",
     "text": [
      "[Taichi] Starting on arch=arm64\n"
     ]
    },
    {
     "data": {
      "application/vnd.jupyter.widget-view+json": {
       "model_id": "d231e457e7f840ccacf93144e8817cf0",
       "version_major": 2,
       "version_minor": 0
      },
      "text/plain": [
       "Canvas(height=580, width=1080)"
      ]
     },
     "metadata": {},
     "output_type": "display_data"
    },
    {
     "data": {
      "application/vnd.jupyter.widget-view+json": {
       "model_id": "54f14c295c304964a041f27fb2978f7b",
       "version_major": 2,
       "version_minor": 0
      },
      "text/plain": [
       "IntSlider(value=50, description='Probe Width', max=500, min=1)"
      ]
     },
     "metadata": {},
     "output_type": "display_data"
    },
    {
     "data": {
      "application/vnd.jupyter.widget-view+json": {
       "model_id": "bf25ee4590c9474ab386966d02bde77f",
       "version_major": 2,
       "version_minor": 0
      },
      "text/plain": [
       "IntSlider(value=50, description='Probe Height', max=500, min=1)"
      ]
     },
     "metadata": {},
     "output_type": "display_data"
    },
    {
     "data": {
      "application/vnd.jupyter.widget-view+json": {
       "model_id": "67b1c7c4ebbf41488afd2bd1bd203185",
       "version_major": 2,
       "version_minor": 0
      },
      "text/plain": [
       "ToggleButton(value=False, description='Audio', icon='speaker', tooltip='Toggle audio')"
      ]
     },
     "metadata": {},
     "output_type": "display_data"
    },
    {
     "data": {
      "application/vnd.jupyter.widget-view+json": {
       "model_id": "a66026b072124789b06b0961d440980a",
       "version_major": 2,
       "version_minor": 0
      },
      "text/plain": [
       "FloatSlider(value=0.0, description='Master Volume (dB)', max=0.0, min=-36.0, step=0.01)"
      ]
     },
     "metadata": {},
     "output_type": "display_data"
    },
    {
     "data": {
      "application/vnd.jupyter.widget-view+json": {
       "model_id": "670ce1de479a44b6904098cdfb6e15ba",
       "version_major": 2,
       "version_minor": 0
      },
      "text/plain": [
       "Text(value='', description='MouseX:', disabled=True)"
      ]
     },
     "metadata": {},
     "output_type": "display_data"
    },
    {
     "data": {
      "application/vnd.jupyter.widget-view+json": {
       "model_id": "ded8222800bc4b7aa7bf60455bf3735b",
       "version_major": 2,
       "version_minor": 0
      },
      "text/plain": [
       "Text(value='', description='MouseY:', disabled=True)"
      ]
     },
     "metadata": {},
     "output_type": "display_data"
    },
    {
     "name": "stderr",
     "output_type": "stream",
     "text": [
      "[miniaudio] Output device: MacBook Pro Speakers (48000Hz, buffer size 480 samples, 2 channels)\n"
     ]
    },
    {
     "data": {
      "application/vnd.jupyter.widget-view+json": {
       "model_id": "825df57686914ddea5d8372c000734f4",
       "version_major": 2,
       "version_minor": 0
      },
      "text/plain": [
       "Text(value='', description='MeanPixelValue_0_Min:', disabled=True)"
      ]
     },
     "metadata": {},
     "output_type": "display_data"
    },
    {
     "data": {
      "application/vnd.jupyter.widget-view+json": {
       "model_id": "236336142c144182b4da6d10cb99e0ca",
       "version_major": 2,
       "version_minor": 0
      },
      "text/plain": [
       "Text(value='', description='MeanPixelValue_0_Min:', disabled=True)"
      ]
     },
     "metadata": {},
     "output_type": "display_data"
    },
    {
     "data": {
      "application/vnd.jupyter.widget-view+json": {
       "model_id": "5456c8ad7be2479a9b68aa2ba56b6c63",
       "version_major": 2,
       "version_minor": 0
      },
      "text/plain": [
       "Text(value='', description='MeanPixelValue_0_Last:', disabled=True)"
      ]
     },
     "metadata": {},
     "output_type": "display_data"
    },
    {
     "data": {
      "application/vnd.jupyter.widget-view+json": {
       "model_id": "32f0868ecad248c8bd740a673ca45891",
       "version_major": 2,
       "version_minor": 0
      },
      "text/plain": [
       "Button(description='Reset MeanPixelValue MinMax', style=ButtonStyle())"
      ]
     },
     "metadata": {},
     "output_type": "display_data"
    }
   ],
   "source": [
    "import taichi as ti\n",
    "import numpy as np\n",
    "\n",
    "from pixasonics.core import App, Mapper\n",
    "from pixasonics.features import MeanPixelValue\n",
    "from pixasonics.synths import Theremin\n",
    "\n",
    "# Initialize Taichi\n",
    "ti.init(arch=ti.cpu)\n",
    "\n",
    "# img_path = \"/Users/balintl/Documents/GitHub/sonification/experiments/lsm_paper/figures/cellular_seq/Timepoint_001_220518-ST_C03_s1.jpg\"\n",
    "img_path = \"test.jpg\"\n",
    "\n",
    "# Create app\n",
    "app = App()\n",
    "app.load_image(img_path) # Load image\n",
    "\n",
    "# Create objects\n",
    "mean_pix = MeanPixelValue()\n",
    "theremin = Theremin()\n",
    "pix2freq = Mapper(mean_pix, theremin[\"frequency\"], exponent=2, out_high=1000)\n",
    "\n",
    "# Add objects to app\n",
    "app.add_feature(mean_pix)\n",
    "app.add_synth(theremin)\n",
    "app.add_mapper(pix2freq)\n"
   ]
  },
  {
   "cell_type": "code",
   "execution_count": 3,
   "metadata": {},
   "outputs": [],
   "source": [
    "# test adding another mapping\n",
    "pix2amp = Mapper(mean_pix, theremin[\"amplitude\"], exponent=2)\n",
    "app.add_mapper(pix2amp)"
   ]
  },
  {
   "cell_type": "code",
   "execution_count": 4,
   "metadata": {},
   "outputs": [
    {
     "data": {
      "text/plain": [
       "[<pixasonics.core.Mapper at 0x10ef6eef0>,\n",
       " <pixasonics.core.Mapper at 0x10efe30a0>]"
      ]
     },
     "execution_count": 4,
     "metadata": {},
     "output_type": "execute_result"
    }
   ],
   "source": [
    "app.mappers"
   ]
  },
  {
   "cell_type": "code",
   "execution_count": 8,
   "metadata": {},
   "outputs": [
    {
     "data": {
      "text/plain": [
       "np.float32(0.57557815)"
      ]
     },
     "execution_count": 8,
     "metadata": {},
     "output_type": "execute_result"
    }
   ],
   "source": [
    "theremin[\"amplitude\"][\"buffer\"].data[0][0]"
   ]
  },
  {
   "cell_type": "code",
   "execution_count": 5,
   "metadata": {},
   "outputs": [
    {
     "name": "stdout",
     "output_type": "stream",
     "text": [
      " * audioout\n",
      "   input0:\n",
      "    * multiply\n",
      "      input0:\n",
      "       * bus\n",
      "         input0:\n",
      "          * stereo-panner\n",
      "            input:\n",
      "             * multiply\n",
      "               input0:\n",
      "                * sine\n",
      "                  frequency:\n",
      "                   * smooth\n",
      "                     input:\n",
      "                      * buffer-player\n",
      "                        loop: 1.000000\n",
      "                        rate: 1.000000\n",
      "                     smooth: 0.999425\n",
      "               input1:\n",
      "                * smooth\n",
      "                  input:\n",
      "                   * buffer-player\n",
      "                     loop: 1.000000\n",
      "                     rate: 1.000000\n",
      "                  smooth: 0.999425\n",
      "            pan: 0.000000\n",
      "      input1:\n",
      "       * smooth\n",
      "         input:\n",
      "          * multiply\n",
      "            input0:\n",
      "             * decibels-to-amplitude\n",
      "               input: 0.000000\n",
      "            input1:\n",
      "             * buffer-player\n",
      "               loop: 1.000000\n",
      "               rate: 1.000000\n",
      "         smooth: 0.999425\n",
      "\n"
     ]
    }
   ],
   "source": [
    "import signalflow as sf\n",
    "graph = sf.AudioGraph.get_shared_graph()\n",
    "print(graph.structure)"
   ]
  },
  {
   "cell_type": "code",
   "execution_count": 4,
   "metadata": {},
   "outputs": [],
   "source": [
    "# generate a test image and save to disk\n",
    "import numpy as np\n",
    "from PIL import Image\n",
    "\n",
    "img = np.zeros((256, 256, 3), dtype=np.uint8)\n",
    "\n",
    "for i in range(256):\n",
    "    for j in range(256):\n",
    "        img[i, j] = [i, j, 0]\n",
    "\n",
    "img = Image.fromarray(img)\n",
    "img.save(\"test.jpg\")"
   ]
  },
  {
   "cell_type": "code",
   "execution_count": null,
   "metadata": {},
   "outputs": [],
   "source": []
  }
 ],
 "metadata": {
  "kernelspec": {
   "display_name": "pixasonics",
   "language": "python",
   "name": "python3"
  },
  "language_info": {
   "codemirror_mode": {
    "name": "ipython",
    "version": 3
   },
   "file_extension": ".py",
   "mimetype": "text/x-python",
   "name": "python",
   "nbconvert_exporter": "python",
   "pygments_lexer": "ipython3",
   "version": "3.10.16"
  }
 },
 "nbformat": 4,
 "nbformat_minor": 2
}
