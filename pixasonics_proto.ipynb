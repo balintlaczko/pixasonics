{
 "cells": [
  {
   "cell_type": "code",
   "execution_count": null,
   "metadata": {},
   "outputs": [],
   "source": [
    "import numpy as np\n",
    "import signalflow as sf\n",
    "from IPython.display import Audio, display\n",
    "from pixasonics.core import App, Mapper\n",
    "from pixasonics.features import MeanPixelValue\n",
    "from pixasonics.synths import Theremin\n",
    "\n",
    "# Create app\n",
    "app = App()"
   ]
  },
  {
   "cell_type": "code",
   "execution_count": 2,
   "metadata": {},
   "outputs": [],
   "source": [
    "# load an image\n",
    "img_path = \"images/cellular_dataset/Timepoint_005_220518-ST_C03_s1.jpg\"\n",
    "# img_path = \"images/test.jpg\"\n",
    "img = app.load_image(img_path)"
   ]
  },
  {
   "cell_type": "code",
   "execution_count": null,
   "metadata": {},
   "outputs": [],
   "source": [
    "# Create objects\n",
    "mean_pix = MeanPixelValue()\n",
    "# mean_pix = MeanPixelValue(channels=2) # test RGB\n",
    "theremin = Theremin()\n",
    "# theremin = Theremin(np.linspace(220, 440, 64).tolist(), panning=[-1, 1]) # test multichannel\n",
    "pix2freq = Mapper(mean_pix, theremin[\"frequency\"], exponent=2, out_high=1000)"
   ]
  },
  {
   "cell_type": "code",
   "execution_count": null,
   "metadata": {},
   "outputs": [],
   "source": [
    "app.features"
   ]
  },
  {
   "cell_type": "code",
   "execution_count": null,
   "metadata": {},
   "outputs": [],
   "source": [
    "app.attach_feature(mean_pix)\n",
    "app.features"
   ]
  },
  {
   "cell_type": "code",
   "execution_count": null,
   "metadata": {},
   "outputs": [],
   "source": [
    "app.synths"
   ]
  },
  {
   "cell_type": "code",
   "execution_count": null,
   "metadata": {},
   "outputs": [],
   "source": [
    "app.attach_synth(theremin)\n",
    "app.synths"
   ]
  },
  {
   "cell_type": "code",
   "execution_count": null,
   "metadata": {},
   "outputs": [],
   "source": [
    "app.mappers"
   ]
  },
  {
   "cell_type": "code",
   "execution_count": null,
   "metadata": {},
   "outputs": [],
   "source": [
    "app.attach_mapper(pix2freq)\n",
    "app.mappers"
   ]
  },
  {
   "cell_type": "code",
   "execution_count": null,
   "metadata": {},
   "outputs": [],
   "source": [
    "app.detach_mapper(pix2freq)\n",
    "app.mappers"
   ]
  },
  {
   "cell_type": "code",
   "execution_count": null,
   "metadata": {},
   "outputs": [],
   "source": [
    "# test adding another mapping: mean pixel value to amplitude with an exponential curve\n",
    "pix2amp = Mapper(mean_pix, theremin[\"amplitude\"], exponent=2)\n",
    "app.attach_mapper(pix2amp)"
   ]
  },
  {
   "cell_type": "code",
   "execution_count": null,
   "metadata": {},
   "outputs": [],
   "source": [
    "pix2pan = Mapper(mean_pix, theremin[\"panning\"])\n",
    "app.attach_mapper(pix2pan)"
   ]
  },
  {
   "cell_type": "code",
   "execution_count": null,
   "metadata": {},
   "outputs": [],
   "source": [
    "# detach a mapper\n",
    "app.detach_mapper(pix2amp)\n",
    "app.mappers"
   ]
  },
  {
   "cell_type": "code",
   "execution_count": null,
   "metadata": {},
   "outputs": [],
   "source": [
    "# detach old frequency mapping and add a new one with different scaling\n",
    "app.detach_mapper(pix2freq)\n",
    "pix2freq = Mapper(mean_pix, theremin[\"frequency\"], exponent=2, out_low=100, out_high=2000)\n",
    "app.attach_mapper(pix2freq)\n",
    "app.mappers"
   ]
  },
  {
   "cell_type": "code",
   "execution_count": null,
   "metadata": {},
   "outputs": [],
   "source": [
    "graph = sf.AudioGraph.get_shared_graph()\n",
    "print(graph.structure)\n",
    "print(graph.status)"
   ]
  },
  {
   "cell_type": "markdown",
   "metadata": {},
   "source": [
    "# Non-Real-Time Rendering"
   ]
  },
  {
   "cell_type": "code",
   "execution_count": null,
   "metadata": {},
   "outputs": [],
   "source": [
    "# example: horizontal scan\n",
    "duration = 5\n",
    "my_timeline = [\n",
    "    (0, {\n",
    "        \"probe_width\": 1,\n",
    "        \"probe_height\": 500,\n",
    "        \"probe_x\": 0,\n",
    "        \"probe_y\": 0\n",
    "    }),\n",
    "    (duration, {\n",
    "        \"probe_x\": 499\n",
    "    })\n",
    "]\n",
    "\n",
    "target_filename = \"horizontal_scan.wav\"\n",
    "\n",
    "app.render_timeline_to_file(my_timeline, target_filename)\n",
    "\n",
    "display(Audio(target_filename))"
   ]
  },
  {
   "cell_type": "code",
   "execution_count": null,
   "metadata": {},
   "outputs": [],
   "source": [
    "# example: vertical scan\n",
    "duration = 5\n",
    "my_timeline = [\n",
    "    (0, {\n",
    "        \"probe_width\": 500,\n",
    "        \"probe_height\": 1,\n",
    "        \"probe_x\": 0,\n",
    "        \"probe_y\": 0\n",
    "    }),\n",
    "    (duration, {\n",
    "        \"probe_y\": 499\n",
    "    })\n",
    "]\n",
    "\n",
    "target_filename = \"vertical_scan.wav\"\n",
    "\n",
    "app.render_timeline_to_file(my_timeline, target_filename)\n",
    "\n",
    "display(Audio(target_filename))"
   ]
  },
  {
   "cell_type": "markdown",
   "metadata": {},
   "source": [
    "# Envelope system proto"
   ]
  },
  {
   "cell_type": "code",
   "execution_count": 1,
   "metadata": {},
   "outputs": [],
   "source": [
    "import numpy as np\n",
    "import signalflow as sf\n",
    "import time\n",
    "import random"
   ]
  },
  {
   "cell_type": "code",
   "execution_count": null,
   "metadata": {},
   "outputs": [],
   "source": [
    "# create a graph\n",
    "graph = sf.AudioGraph.get_shared_graph()\n",
    "if graph is not None:\n",
    "    graph.destroy()\n",
    "config = sf.AudioGraphConfig()\n",
    "config.output_buffer_size = 480\n",
    "graph = sf.AudioGraph(config)\n",
    "graph.status"
   ]
  },
  {
   "cell_type": "code",
   "execution_count": 3,
   "metadata": {},
   "outputs": [],
   "source": [
    "sine = sf.SineOscillator(440)\n",
    "env = sf.ADSREnvelope(\n",
    "    attack=0.01,\n",
    "    sustain=0.8,\n",
    "    release=0.5,\n",
    "    gate=0\n",
    ")\n",
    "out = sine * env\n",
    "\n",
    "graph.play(out)"
   ]
  },
  {
   "cell_type": "code",
   "execution_count": 4,
   "metadata": {},
   "outputs": [],
   "source": [
    "env.set_input(\"gate\", 1)"
   ]
  },
  {
   "cell_type": "code",
   "execution_count": 5,
   "metadata": {},
   "outputs": [],
   "source": [
    "env.set_input(\"gate\", 0)"
   ]
  },
  {
   "cell_type": "code",
   "execution_count": 3,
   "metadata": {},
   "outputs": [],
   "source": [
    "class SineSynth(sf.Patch):\n",
    "    def __init__(self):\n",
    "        super().__init__()\n",
    "        frequency = self.add_input(\"frequency\", 440)\n",
    "        gate = self.add_input(\"gate\", 0)\n",
    "        amp = self.add_input(\"amplitude\", 0.5)\n",
    "        pan = self.add_input(\"panning\", 0)\n",
    "        release = self.add_input(\"release\", 0.5)\n",
    "        sine = sf.SineOscillator(frequency)\n",
    "        env = sf.ADSREnvelope(\n",
    "            attack=0.01,\n",
    "            decay=0.1,\n",
    "            sustain=0.5,\n",
    "            release=release,\n",
    "            gate=gate\n",
    "        )\n",
    "        stereo = sf.StereoPanner(sine * env * amp, pan=pan)\n",
    "        self.set_output(stereo)"
   ]
  },
  {
   "cell_type": "code",
   "execution_count": 130,
   "metadata": {},
   "outputs": [],
   "source": [
    "class SineSynth2(sf.Patch):\n",
    "    def __init__(self):\n",
    "        super().__init__()\n",
    "        frequency = self.add_input(\"frequency\", 440)\n",
    "        amp = self.add_input(\"amplitude\", 0.5)\n",
    "        pan = self.add_input(\"panning\", 0)\n",
    "        release = self.add_input(\"release\", 0.5)\n",
    "        sine = sf.SineOscillator(frequency)\n",
    "        env = sf.ASREnvelope(\n",
    "            attack=0.01,\n",
    "            sustain=0.5,\n",
    "            release=release,\n",
    "            curve=2,\n",
    "            clock=0\n",
    "        )\n",
    "        stereo = sf.StereoPanner(sine * env * amp, pan=pan)\n",
    "        self.set_trigger_node(env)\n",
    "        self.set_output(stereo)"
   ]
  },
  {
   "cell_type": "code",
   "execution_count": 131,
   "metadata": {},
   "outputs": [],
   "source": [
    "my_synth = SineSynth2()\n",
    "# my_synth.auto_free = True\n",
    "graph.play(my_synth)\n"
   ]
  },
  {
   "cell_type": "code",
   "execution_count": 133,
   "metadata": {},
   "outputs": [],
   "source": [
    "my_synth.trigger()"
   ]
  },
  {
   "cell_type": "code",
   "execution_count": 17,
   "metadata": {},
   "outputs": [],
   "source": [
    "my_synth.set_input(\"gate\", 1)"
   ]
  },
  {
   "cell_type": "code",
   "execution_count": 18,
   "metadata": {},
   "outputs": [],
   "source": [
    "my_synth.set_input(\"gate\", 0)"
   ]
  },
  {
   "cell_type": "code",
   "execution_count": 19,
   "metadata": {},
   "outputs": [],
   "source": [
    "graph.stop(my_synth)"
   ]
  },
  {
   "cell_type": "code",
   "execution_count": null,
   "metadata": {},
   "outputs": [],
   "source": [
    "graph.status"
   ]
  },
  {
   "cell_type": "code",
   "execution_count": 21,
   "metadata": {},
   "outputs": [],
   "source": [
    "graph.clear()"
   ]
  },
  {
   "cell_type": "code",
   "execution_count": 30,
   "metadata": {},
   "outputs": [],
   "source": [
    "patch = SineSynth2()\n",
    "spec = patch.to_spec()"
   ]
  },
  {
   "cell_type": "code",
   "execution_count": 35,
   "metadata": {},
   "outputs": [],
   "source": [
    "n_hits = 100\n",
    "for i in range(n_hits):\n",
    "    voice = SineSynth2()\n",
    "    voice.auto_free = True\n",
    "    voice.set_input(\"frequency\", random.uniform(220, 880))\n",
    "    voice.set_input(\"amplitude\", random.uniform(0.01, 0.02))\n",
    "    voice.set_input(\"panning\", random.uniform(-1, 1))\n",
    "    voice.set_input(\"release\", random.uniform(0.01, 0.1))\n",
    "    voice.play()\n",
    "    voice.trigger()\n",
    "    time.sleep(0.1)"
   ]
  },
  {
   "cell_type": "markdown",
   "metadata": {},
   "source": [
    "# Linear Smoothing Proto"
   ]
  },
  {
   "cell_type": "code",
   "execution_count": 9,
   "metadata": {},
   "outputs": [],
   "source": [
    "class LinearSmooth(sf.Patch):\n",
    "    def __init__(self, input_sig, smooth_time=0.1):\n",
    "        super().__init__()\n",
    "        graph = sf.AudioGraph.get_shared_graph()\n",
    "        samps = graph.sample_rate * smooth_time\n",
    "        steps = samps / graph.output_buffer_size\n",
    "        steps = sf.If(steps < 1, 1, steps)\n",
    "\n",
    "        current_value_buf = sf.Buffer(1, graph.output_buffer_size)\n",
    "        current_value = sf.FeedbackBufferReader(current_value_buf)\n",
    "\n",
    "        history_buf = sf.Buffer(1, graph.output_buffer_size)\n",
    "        history = sf.FeedbackBufferReader(history_buf)\n",
    "\n",
    "        change = input_sig != history\n",
    "        target = sf.SampleAndHold(input_sig, change)\n",
    "        diff = sf.SampleAndHold(target - current_value, change)\n",
    "\n",
    "        increment = diff / steps\n",
    "\n",
    "        out = sf.If(sf.Abs(target - current_value) < sf.Abs(increment), target, current_value + increment)\n",
    "        graph.add_node(sf.HistoryBufferWriter(current_value_buf, out))\n",
    "        graph.add_node(sf.HistoryBufferWriter(history_buf, input_sig))\n",
    "        self.set_output(out)"
   ]
  },
  {
   "cell_type": "code",
   "execution_count": null,
   "metadata": {},
   "outputs": [],
   "source": [
    "# test it\n",
    "freq = sf.Constant(440)\n",
    "interp_time = sf.Constant(0.1)\n",
    "test_ramp = LinearSmooth(freq, interp_time)\n",
    "sine = sf.SineOscillator(test_ramp)"
   ]
  },
  {
   "cell_type": "code",
   "execution_count": null,
   "metadata": {},
   "outputs": [],
   "source": [
    "graph.play(sine)"
   ]
  },
  {
   "cell_type": "code",
   "execution_count": null,
   "metadata": {},
   "outputs": [],
   "source": [
    "graph.output_buffer_size"
   ]
  },
  {
   "cell_type": "code",
   "execution_count": 27,
   "metadata": {},
   "outputs": [],
   "source": [
    "freq.set_value(220)"
   ]
  },
  {
   "cell_type": "code",
   "execution_count": 26,
   "metadata": {},
   "outputs": [],
   "source": [
    "freq.set_value(880)"
   ]
  },
  {
   "cell_type": "code",
   "execution_count": 24,
   "metadata": {},
   "outputs": [],
   "source": [
    "interp_time.set_value(0.1)"
   ]
  },
  {
   "cell_type": "code",
   "execution_count": 134,
   "metadata": {},
   "outputs": [],
   "source": [
    "graph.stop(sine)"
   ]
  },
  {
   "cell_type": "code",
   "execution_count": 6,
   "metadata": {},
   "outputs": [],
   "source": [
    "graph.clear()"
   ]
  },
  {
   "cell_type": "code",
   "execution_count": null,
   "metadata": {},
   "outputs": [],
   "source": [
    "graph.status"
   ]
  },
  {
   "cell_type": "markdown",
   "metadata": {},
   "source": [
    "# Envelope UI proto"
   ]
  },
  {
   "cell_type": "code",
   "execution_count": 43,
   "metadata": {},
   "outputs": [],
   "source": [
    "from ipycanvas import Canvas, hold_canvas\n",
    "from ipywidgets import Label, Layout, Box, VBox, HBox, GridBox, Button, IntSlider, FloatSlider, FloatLogSlider, ToggleButton, Accordion, Text, BoundedFloatText, FloatText\n",
    "from IPython.display import display\n",
    "from pixasonics.ui import find_widget_by_tag, Model"
   ]
  },
  {
   "cell_type": "code",
   "execution_count": 44,
   "metadata": {},
   "outputs": [],
   "source": [
    "class ADSRCanvas():\n",
    "    def __init__(self, width=200, height=100, parent_ui=None):\n",
    "        self.width = width\n",
    "        self.height = height\n",
    "        self.parent_ui = parent_ui\n",
    "        self.canvas = Canvas(width=width, height=height)\n",
    "        self.draw()\n",
    "\n",
    "    def __call__(self):\n",
    "        return self.canvas\n",
    "\n",
    "    @property\n",
    "    def attack(self):\n",
    "        return self.parent_ui.attack if self.parent_ui is not None else 1\n",
    "\n",
    "    @property\n",
    "    def decay(self):\n",
    "        return self.parent_ui.decay if self.parent_ui is not None else 1\n",
    "\n",
    "    @property\n",
    "    def sustain(self):\n",
    "        return self.parent_ui.sustain if self.parent_ui is not None else 1\n",
    "\n",
    "    @property\n",
    "    def release(self):\n",
    "        return self.parent_ui.release if self.parent_ui is not None else 1\n",
    "\n",
    "    def draw(self):\n",
    "        total_length = self.attack + self.decay + self.release\n",
    "        length_coeff = self.width / total_length\n",
    "        with hold_canvas(self.canvas):\n",
    "            self.canvas.clear()\n",
    "            self.canvas.stroke_style = \"black\"\n",
    "            self.canvas.line_width = 2\n",
    "            self.canvas.begin_path()\n",
    "            # move to the bottom left corner\n",
    "            self.canvas.move_to(0, self.height)\n",
    "            # draw the attack\n",
    "            self.canvas.line_to(self.attack * length_coeff, 0)\n",
    "            # draw the decay\n",
    "            self.canvas.line_to((self.attack + self.decay) * length_coeff, (1 - self.sustain) * self.height)\n",
    "            # draw the release\n",
    "            self.canvas.line_to(self.width, self.height)\n",
    "            self.canvas.stroke()\n",
    "            # put a red circle at each break-point\n",
    "            self.canvas.stroke_style = \"red\"\n",
    "            # at attack point\n",
    "            self.canvas.stroke_circle(0, self.height, 3)\n",
    "            # at decay point\n",
    "            self.canvas.stroke_circle(self.attack * length_coeff, 0, 3)\n",
    "            # at sustain point\n",
    "            self.canvas.stroke_circle((self.attack + self.decay) * length_coeff, (1 - self.sustain) * self.height, 3)\n",
    "            # at release point\n",
    "            self.canvas.stroke_circle(self.width, self.height, 3)\n"
   ]
  },
  {
   "cell_type": "code",
   "execution_count": null,
   "metadata": {},
   "outputs": [],
   "source": [
    "my_adsr = ADSRCanvas()\n",
    "my_adsr()"
   ]
  },
  {
   "cell_type": "code",
   "execution_count": null,
   "metadata": {},
   "outputs": [],
   "source": [
    "params = {\n",
    "    \"attack\": {\n",
    "        \"min\": 0.001,\n",
    "        \"max\": 3600,\n",
    "        \"default\": 0.01,\n",
    "        \"step\" : 0.01,\n",
    "        \"param_name\": \"attack\"\n",
    "    },\n",
    "    \"decay\": {\n",
    "        \"min\": 0.001,\n",
    "        \"max\": 3600,\n",
    "        \"default\": 0.01,\n",
    "        \"step\" : 0.01,\n",
    "        \"param_name\": \"decay\"\n",
    "    },\n",
    "    \"sustain\": {\n",
    "        \"min\": 0,\n",
    "        \"max\": 1,\n",
    "        \"default\": 0.5,\n",
    "        \"step\": 0.1,\n",
    "        \"param_name\": \"sustain\"\n",
    "    },\n",
    "    \"release\": {\n",
    "        \"min\": 0.001,\n",
    "        \"max\": 3600,\n",
    "        \"default\": 0.1,\n",
    "        \"step\" : 0.1,\n",
    "        \"param_name\": \"release\"\n",
    "    }\n",
    "}\n",
    "\n",
    "class EnvelopeCard():\n",
    "    def __init__(\n",
    "            self,\n",
    "            name: str = \"Envelope\", \n",
    "            id: str = \"# ID\",\n",
    "            params: dict = {},\n",
    "    ):\n",
    "        self.name = name\n",
    "        self.id = id\n",
    "        self.params = params\n",
    "        self.app = None\n",
    "        self.envelope = None\n",
    "\n",
    "        # private attributes\n",
    "        self._attack = Model(params[\"attack\"][\"default\"])\n",
    "        self._decay = Model(params[\"decay\"][\"default\"])\n",
    "        self._sustain = Model(params[\"sustain\"][\"default\"])\n",
    "        self._release = Model(params[\"release\"][\"default\"])\n",
    "\n",
    "        self.create_ui()\n",
    "        self.update()\n",
    "\n",
    "    @property\n",
    "    def attack(self):\n",
    "        return self._attack.value\n",
    "    \n",
    "    @attack.setter\n",
    "    def attack(self, value):\n",
    "        self._attack.value = value\n",
    "        self.update()\n",
    "\n",
    "    @property\n",
    "    def decay(self):\n",
    "        return self._decay.value\n",
    "    \n",
    "    @decay.setter\n",
    "    def decay(self, value):\n",
    "        self._decay.value = value\n",
    "        self.update()\n",
    "\n",
    "    @property\n",
    "    def sustain(self):\n",
    "        return self._sustain.value\n",
    "\n",
    "    @sustain.setter\n",
    "    def sustain(self, value):\n",
    "        self._sustain.value = value\n",
    "        self.update()\n",
    "\n",
    "    @property\n",
    "    def release(self):\n",
    "        return self._release.value\n",
    "    \n",
    "    @release.setter\n",
    "    def release(self, value):\n",
    "        self._release.value = value\n",
    "        self.update()\n",
    "\n",
    "    def update_duration(self):\n",
    "        duration = find_widget_by_tag(self.card, \"duration\")\n",
    "        duration.value = round(self.attack + self.decay + self.release, 4)\n",
    "\n",
    "    def update(self):\n",
    "        if self.envelope is not None:\n",
    "            self.envelope.set_param_from_ui(\"attack\", self.attack)\n",
    "            self.envelope.set_param_from_ui(\"decay\", self.decay)\n",
    "            self.envelope.set_param_from_ui(\"sustain\", self.sustain)\n",
    "            self.envelope.set_param_from_ui(\"release\", self.release)\n",
    "        self.update_duration()\n",
    "        self.canvas.draw()\n",
    "\n",
    "    def __call__(self):\n",
    "        return self.card\n",
    "    \n",
    "    def create_ui(self):\n",
    "        self.create_card()\n",
    "        self.bind_models()\n",
    "\n",
    "    def bind_models(self):\n",
    "        attack = find_widget_by_tag(self.card, \"attack\")\n",
    "        self._attack.bind_widget(attack, extra_callback=self.update)\n",
    "\n",
    "        decay = find_widget_by_tag(self.card, \"decay\")\n",
    "        self._decay.bind_widget(decay, extra_callback=self.update)\n",
    "\n",
    "        sustain = find_widget_by_tag(self.card, \"sustain\")\n",
    "        self._sustain.bind_widget(sustain, extra_callback=self.update)\n",
    "\n",
    "        release = find_widget_by_tag(self.card, \"release\")\n",
    "        self._release.bind_widget(release, extra_callback=self.update)\n",
    "\n",
    "    \n",
    "    def create_card(self):\n",
    "        envelope_label = Label(\n",
    "            value=self.name, \n",
    "            style=dict(\n",
    "                font_weight='bold',\n",
    "                font_size='20px'))\n",
    "\n",
    "        envelope_id = Label(\n",
    "            value=\"#\" + self.id, \n",
    "            style=dict(\n",
    "                font_weight='bold',\n",
    "                font_size='10px',\n",
    "                text_color='gray'))\n",
    "\n",
    "        top_block = Box(\n",
    "            [envelope_label, envelope_id], \n",
    "            layout=Layout(justify_content='space-between'))\n",
    "\n",
    "        param_boxes = []\n",
    "        for param, param_dict in params.items():\n",
    "            value = param_dict[\"default\"]\n",
    "            param_label = Label(value=param.capitalize())\n",
    "            param_numbox = BoundedFloatText(\n",
    "                value=value,\n",
    "                step=param_dict[\"step\"],\n",
    "                min=param_dict[\"min\"],\n",
    "                max=param_dict[\"max\"],\n",
    "                layout=Layout(width='90%'))\n",
    "            param_numbox.tag = param\n",
    "            param_box = VBox(\n",
    "                [param_label, param_numbox], \n",
    "                layout=Layout(\n",
    "                    justify_content='space-between',\n",
    "                    height='100%'\n",
    "                    )\n",
    "            )\n",
    "            param_boxes.append(param_box)\n",
    "        params_display = HBox(\n",
    "            param_boxes,\n",
    "            layout=Layout(\n",
    "                justify_content='space-between',\n",
    "                width='100%'\n",
    "            )\n",
    "        )\n",
    "        self.canvas = ADSRCanvas(400, 200, self)\n",
    "        self.canvas.tag = \"canvas\"\n",
    "        canvas_wrapper = VBox(\n",
    "            [self.canvas()],\n",
    "            layout=Layout(\n",
    "                justify_content='center',\n",
    "                width='100%',\n",
    "                padding='4px'\n",
    "            )\n",
    "        )\n",
    "\n",
    "        duration_label = Label(value=\"Duration:\")\n",
    "        duration_value = FloatText(\n",
    "            value=0,\n",
    "            disabled=True,\n",
    "            layout=Layout(width='auto'))\n",
    "        duration_value.tag = \"duration\"\n",
    "        duration_box = HBox(\n",
    "            [duration_label, duration_value], \n",
    "            layout=Layout(\n",
    "                justify_content='flex-start',\n",
    "                width='100%'\n",
    "            )\n",
    "        )\n",
    "\n",
    "        self.card = VBox(\n",
    "            [top_block, params_display, canvas_wrapper, duration_box],\n",
    "            layout=Layout(\n",
    "                justify_content='space-between',\n",
    "                border='1px solid black',\n",
    "                min_width='280px',\n",
    "                max_width='500px',\n",
    "                min_height='240px',\n",
    "                max_height='400px',\n",
    "                margin='5px',\n",
    "                padding='5px'\n",
    "            )\n",
    "        )\n",
    "\n",
    "test_card = EnvelopeCard(\"Envelope\", \"001\", params)\n",
    "display(test_card())"
   ]
  },
  {
   "cell_type": "code",
   "execution_count": 47,
   "metadata": {},
   "outputs": [],
   "source": [
    "test_card.attack = 0.01\n",
    "test_card.decay = 0.01\n",
    "test_card.sustain = 0.8\n",
    "test_card.release = 2"
   ]
  },
  {
   "cell_type": "code",
   "execution_count": 48,
   "metadata": {},
   "outputs": [],
   "source": [
    "import signalflow as sf"
   ]
  },
  {
   "cell_type": "code",
   "execution_count": 134,
   "metadata": {},
   "outputs": [],
   "source": [
    "class Envelope(sf.Patch):\n",
    "    def __init__(self):\n",
    "        super().__init__()\n",
    "        self.params = {\n",
    "            \"attack\": {\n",
    "                \"min\": 0.001,\n",
    "                \"max\": 3600,\n",
    "                \"default\": 0.01,\n",
    "                \"step\" : 0.01,\n",
    "                \"param_name\": \"attack\"\n",
    "            },\n",
    "            \"decay\": {\n",
    "                \"min\": 0.001,\n",
    "                \"max\": 3600,\n",
    "                \"default\": 0.01,\n",
    "                \"step\" : 0.01,\n",
    "                \"param_name\": \"decay\"\n",
    "            },\n",
    "            \"sustain\": {\n",
    "                \"min\": 0,\n",
    "                \"max\": 1,\n",
    "                \"default\": 0.5,\n",
    "                \"step\": 0.1,\n",
    "                \"param_name\": \"sustain\"\n",
    "            },\n",
    "            \"release\": {\n",
    "                \"min\": 0.001,\n",
    "                \"max\": 3600,\n",
    "                \"default\": 0.1,\n",
    "                \"step\" : 0.1,\n",
    "                \"param_name\": \"release\"\n",
    "            }\n",
    "        }\n",
    "        for param in self.params.keys():\n",
    "            self.params[param][\"value\"] = self.params[param][\"default\"]\n",
    "\n",
    "        gate = self.add_input(\"gate\", 0)\n",
    "        attack = self.add_input(\"attack\", self.params[\"attack\"][\"default\"])\n",
    "        decay = self.add_input(\"decay\", self.params[\"decay\"][\"default\"])\n",
    "        sustain = self.add_input(\"sustain\", self.params[\"sustain\"][\"default\"])\n",
    "        release = self.add_input(\"release\", self.params[\"release\"][\"default\"])\n",
    "\n",
    "        adsr = sf.ADSREnvelope(\n",
    "            attack=attack,\n",
    "            decay=decay,\n",
    "            sustain=sustain,\n",
    "            release=release,\n",
    "            gate=gate\n",
    "        )\n",
    "\n",
    "        asr = sf.ASREnvelope(\n",
    "            attack=attack,\n",
    "            sustain=sustain,\n",
    "            release=release,\n",
    "            clock=0\n",
    "        )\n",
    "\n",
    "        self.set_trigger_node(asr)\n",
    "        self.set_output(adsr + asr)\n",
    "\n",
    "        # self.set_output(self.adsr)\n",
    "\n",
    "        self.id = str(id(self))\n",
    "        self.create_ui()\n",
    "\n",
    "    def on(self):\n",
    "        self.set_input(\"gate\", 1)\n",
    "\n",
    "    def off(self):\n",
    "        self.set_input(\"gate\", 0)\n",
    "\n",
    "    def __getitem__(self, key):\n",
    "        return self.params[key]\n",
    "    \n",
    "    def create_ui(self):\n",
    "        self._ui = EnvelopeCard(\"Envelope\", self.id, self.params)\n",
    "        self._ui.envelope = self\n",
    "\n",
    "    @property\n",
    "    def ui(self):\n",
    "        return self._ui()\n",
    "    \n",
    "    def set_param_from_ui(self, param_name, value):\n",
    "        self.params[param_name][\"value\"] = value\n",
    "        self.set_input(param_name, value)\n",
    "    \n",
    "    @property\n",
    "    def attack(self):\n",
    "        return self.params[\"attack\"][\"value\"]\n",
    "    \n",
    "    @attack.setter\n",
    "    def attack(self, value):\n",
    "        self.params[\"attack\"][\"value\"] = value\n",
    "        self.set_input(\"attack\", value)\n",
    "        self._ui.attack = value\n",
    "\n",
    "    @property\n",
    "    def decay(self):\n",
    "        return self.params[\"decay\"][\"value\"]\n",
    "    \n",
    "    @decay.setter\n",
    "    def decay(self, value):\n",
    "        self.params[\"decay\"][\"value\"] = value\n",
    "        self.set_input(\"decay\", value)\n",
    "        self._ui.decay = value\n",
    "\n",
    "    @property\n",
    "    def sustain(self):\n",
    "        return self.params[\"sustain\"][\"value\"]\n",
    "    \n",
    "    @sustain.setter\n",
    "    def sustain(self, value):\n",
    "        self.params[\"sustain\"][\"value\"] = value\n",
    "        self.set_input(\"sustain\", value)\n",
    "        self._ui.sustain = value\n",
    "\n",
    "    @property\n",
    "    def release(self):\n",
    "        return self.params[\"release\"][\"value\"]\n",
    "    \n",
    "    @release.setter\n",
    "    def release(self, value):\n",
    "        self.params[\"release\"][\"value\"] = value\n",
    "        self.set_input(\"release\", value)\n",
    "        self._ui.release = value"
   ]
  },
  {
   "cell_type": "code",
   "execution_count": 135,
   "metadata": {},
   "outputs": [],
   "source": [
    "my_env = Envelope()"
   ]
  },
  {
   "cell_type": "code",
   "execution_count": null,
   "metadata": {},
   "outputs": [],
   "source": [
    "my_env.ui"
   ]
  },
  {
   "cell_type": "code",
   "execution_count": 55,
   "metadata": {},
   "outputs": [],
   "source": [
    "my_env.sustain = 0.1"
   ]
  },
  {
   "cell_type": "code",
   "execution_count": null,
   "metadata": {},
   "outputs": [],
   "source": [
    "my_env.attack, my_env.decay, my_env.sustain, my_env.release"
   ]
  },
  {
   "cell_type": "code",
   "execution_count": 139,
   "metadata": {},
   "outputs": [],
   "source": [
    "testsine = sf.SineOscillator(440)\n",
    "testenv = Envelope()\n",
    "test_bus = sf.Bus(1)\n",
    "test_bus.add_input(testenv.output)\n",
    "out = testsine * test_bus\n",
    "\n",
    "graph.play(out)"
   ]
  },
  {
   "cell_type": "code",
   "execution_count": 151,
   "metadata": {},
   "outputs": [],
   "source": [
    "testenv.on()"
   ]
  },
  {
   "cell_type": "code",
   "execution_count": 152,
   "metadata": {},
   "outputs": [],
   "source": [
    "testenv.off()"
   ]
  },
  {
   "cell_type": "code",
   "execution_count": 149,
   "metadata": {},
   "outputs": [],
   "source": [
    "testenv.trigger()"
   ]
  },
  {
   "cell_type": "code",
   "execution_count": 109,
   "metadata": {},
   "outputs": [],
   "source": [
    "graph.stop(out)"
   ]
  },
  {
   "cell_type": "code",
   "execution_count": 137,
   "metadata": {},
   "outputs": [],
   "source": [
    "graph.clear()"
   ]
  },
  {
   "cell_type": "code",
   "execution_count": null,
   "metadata": {},
   "outputs": [],
   "source": [
    "graph.status"
   ]
  },
  {
   "cell_type": "code",
   "execution_count": null,
   "metadata": {},
   "outputs": [],
   "source": []
  }
 ],
 "metadata": {
  "kernelspec": {
   "display_name": "Python 3 (ipykernel)",
   "language": "python",
   "name": "python3"
  },
  "language_info": {
   "codemirror_mode": {
    "name": "ipython",
    "version": 3
   },
   "file_extension": ".py",
   "mimetype": "text/x-python",
   "name": "python",
   "nbconvert_exporter": "python",
   "pygments_lexer": "ipython3",
   "version": "3.10.16"
  }
 },
 "nbformat": 4,
 "nbformat_minor": 4
}
