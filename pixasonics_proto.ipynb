{
 "cells": [
  {
   "cell_type": "code",
   "execution_count": 130,
   "metadata": {},
   "outputs": [
    {
     "name": "stdout",
     "output_type": "stream",
     "text": [
      "[Taichi] Starting on arch=arm64\n"
     ]
    },
    {
     "data": {
      "application/vnd.jupyter.widget-view+json": {
       "model_id": "960d287ba217429b88595dd66a165ed8",
       "version_major": 2,
       "version_minor": 0
      },
      "text/plain": [
       "Canvas(height=580, width=1080)"
      ]
     },
     "metadata": {},
     "output_type": "display_data"
    },
    {
     "data": {
      "application/vnd.jupyter.widget-view+json": {
       "model_id": "af0128e11d1744babd9f112240cdef1a",
       "version_major": 2,
       "version_minor": 0
      },
      "text/plain": [
       "IntSlider(value=50, description='Probe Width', max=500, min=1)"
      ]
     },
     "metadata": {},
     "output_type": "display_data"
    },
    {
     "data": {
      "application/vnd.jupyter.widget-view+json": {
       "model_id": "3e0647a20ac1440bbc398101565497fd",
       "version_major": 2,
       "version_minor": 0
      },
      "text/plain": [
       "IntSlider(value=50, description='Probe Height', max=500, min=1)"
      ]
     },
     "metadata": {},
     "output_type": "display_data"
    },
    {
     "data": {
      "application/vnd.jupyter.widget-view+json": {
       "model_id": "a7e16548c4c941f391c3ca9e475ec42a",
       "version_major": 2,
       "version_minor": 0
      },
      "text/plain": [
       "ToggleButton(value=False, description='Audio', icon='speaker', tooltip='Toggle audio')"
      ]
     },
     "metadata": {},
     "output_type": "display_data"
    },
    {
     "data": {
      "application/vnd.jupyter.widget-view+json": {
       "model_id": "274105d3e5d841afbaa51c601886f319",
       "version_major": 2,
       "version_minor": 0
      },
      "text/plain": [
       "FloatSlider(value=0.0, description='Master Volume (dB)', max=0.0, min=-36.0, step=0.01)"
      ]
     },
     "metadata": {},
     "output_type": "display_data"
    },
    {
     "data": {
      "application/vnd.jupyter.widget-view+json": {
       "model_id": "ea4e51cb69b64d899f615b17518465db",
       "version_major": 2,
       "version_minor": 0
      },
      "text/plain": [
       "Text(value='', description='MouseX:', disabled=True)"
      ]
     },
     "metadata": {},
     "output_type": "display_data"
    },
    {
     "data": {
      "application/vnd.jupyter.widget-view+json": {
       "model_id": "81c041e1588b4df5b32e462b92843b40",
       "version_major": 2,
       "version_minor": 0
      },
      "text/plain": [
       "Text(value='', description='MouseY:', disabled=True)"
      ]
     },
     "metadata": {},
     "output_type": "display_data"
    },
    {
     "name": "stderr",
     "output_type": "stream",
     "text": [
      "AudioGraph: The global audio graph has already been created. To create a new graph, call .destroy() first.\n"
     ]
    },
    {
     "data": {
      "application/vnd.jupyter.widget-view+json": {
       "model_id": "cfaa34196f4c472ab34c8ed99e3e193d",
       "version_major": 2,
       "version_minor": 0
      },
      "text/plain": [
       "Text(value='', description='MeanPixelValue_0_Min:', disabled=True)"
      ]
     },
     "metadata": {},
     "output_type": "display_data"
    },
    {
     "data": {
      "application/vnd.jupyter.widget-view+json": {
       "model_id": "6041e0bfcbde4c7bbd286baf09775f68",
       "version_major": 2,
       "version_minor": 0
      },
      "text/plain": [
       "Text(value='', description='MeanPixelValue_0_Min:', disabled=True)"
      ]
     },
     "metadata": {},
     "output_type": "display_data"
    },
    {
     "data": {
      "application/vnd.jupyter.widget-view+json": {
       "model_id": "54ebcd21ee7b4228a08477c432886b8a",
       "version_major": 2,
       "version_minor": 0
      },
      "text/plain": [
       "Text(value='', description='MeanPixelValue_0_Last:', disabled=True)"
      ]
     },
     "metadata": {},
     "output_type": "display_data"
    },
    {
     "data": {
      "application/vnd.jupyter.widget-view+json": {
       "model_id": "19d2425e00d8466ba3bc9e0f9ea8e917",
       "version_major": 2,
       "version_minor": 0
      },
      "text/plain": [
       "Button(description='Reset MeanPixelValue MinMax', style=ButtonStyle())"
      ]
     },
     "metadata": {},
     "output_type": "display_data"
    }
   ],
   "source": [
    "import taichi as ti\n",
    "from ipycanvas import Canvas\n",
    "from IPython.display import display\n",
    "import ipywidgets as widgets\n",
    "import time\n",
    "import numpy as np\n",
    "import signalflow as sf\n",
    "from PIL import Image\n",
    "\n",
    "# Initialize Taichi\n",
    "ti.init(arch=ti.cpu)\n",
    "\n",
    "################################################## Global Vars ##################################################\n",
    "# 🌍\n",
    "\n",
    "\n",
    "n = 500  # Image size (n x n)\n",
    "img_path = \"/Users/balintl/Documents/GitHub/sonification/experiments/lsm_paper/figures/cellular_seq/Timepoint_001_220518-ST_C03_s1.jpg\"\n",
    "padding = 40 # Padding around the image\n",
    "refresh_interval = 1 / 60  # Minimum time between redraws (in seconds)\n",
    "\n",
    "\n",
    "################################################## Data ##################################################\n",
    "# 📊\n",
    "\n",
    "\n",
    "image = ti.Vector.field(3, dtype=float, shape=(n, n))  # RGB field for colors\n",
    "bg = ti.Vector.field(3, dtype=float, shape=(n, n))  # Background image\n",
    "probe = ti.Vector.field(3, dtype=float, shape=(n, n))  # probe\n",
    "\n",
    "# Cursor position and mouse state\n",
    "cursor_pos = ti.Vector.field(2, dtype=int, shape=())\n",
    "mouse_pressed = ti.field(dtype=int, shape=())  # 1 if mouse button is pressed, 0 otherwise\n",
    "probe_size = ti.field(dtype=int, shape=(2))  # Size of the probe (normalized)\n",
    "probe_stroke = 1  # Stroke width for the probe\n",
    "\n",
    "# read a background image into a numpy array\n",
    "img = Image.open(img_path)\n",
    "img = img.resize((n, n))\n",
    "img_data = np.array(img)\n",
    "img_data_norm = img_data / 255.0  # Normalize to [0, 1]\n",
    "bg.from_numpy(img_data_norm)\n",
    "bg_np = img_data\n",
    "\n",
    "\n",
    "################################################## Kernels ##################################################\n",
    "# 💪\n",
    "\n",
    "\n",
    "@ti.kernel\n",
    "def draw_image():\n",
    "    \"\"\"Render the image and the probe over it.\"\"\"\n",
    "    center_x, center_y = cursor_pos[None]\n",
    "    probe_w = probe_size[0]\n",
    "    probe_h = probe_size[1]\n",
    "    color = ti.Vector([1.0, 0.0, 0.0]) if mouse_pressed[None] else ti.Vector([1.0, 1.0, 1.0])  # Red or white\n",
    "\n",
    "    for i, j in image:\n",
    "        dist_x = abs(i - center_x)\n",
    "        dist_y = abs(j - center_y)\n",
    "        if dist_x <= probe_w//2 and dist_y <= probe_h//2 and (dist_x >= probe_w//2 - probe_stroke or dist_y >= probe_h//2 - probe_stroke):\n",
    "                image[i, j] = color  # Probe color\n",
    "        else:\n",
    "            image[i, j] = bg[i, j]  # Background image\n",
    "\n",
    "\n",
    "@ti.kernel\n",
    "def draw_probe():\n",
    "    \"\"\"Render the probe contents.\"\"\"\n",
    "    center_x, center_y = cursor_pos[None]\n",
    "    probe_w = probe_size[0]\n",
    "    probe_h = probe_size[1]\n",
    "\n",
    "    for i, j in probe:\n",
    "        if i < probe_w and j < probe_h:\n",
    "            # get bg under square\n",
    "            bg_x = i + center_x - (probe_w // 2)\n",
    "            bg_y = j + center_y - (probe_h // 2)\n",
    "            probe[i, j] = bg[bg_x, bg_y]\n",
    "        else:\n",
    "            probe[i, j] = ti.Vector([1.0, 1.0, 1.0]) # White\n",
    "\n",
    "\n",
    "################################################## GUI ##################################################\n",
    "# 🖥️\n",
    "\n",
    "\n",
    "# Create a canvas\n",
    "canvas = Canvas(width=n*2 + padding*2, height=n + padding*2)\n",
    "display(canvas)\n",
    "\n",
    "# Create two sliders for controlling the Probe size\n",
    "probe_w_slider = widgets.IntSlider(\n",
    "    value=50,  # Initial value\n",
    "    min=1,  # Minimum size\n",
    "    max=n,   # Maximum size\n",
    "    step=1, # Step size\n",
    "    description='Probe Width',\n",
    ")\n",
    "display(probe_w_slider)\n",
    "\n",
    "probe_h_slider = widgets.IntSlider(\n",
    "    value=50,  # Initial value\n",
    "    min=1,  # Minimum size\n",
    "    max=n,   # Maximum size\n",
    "    step=1, # Step size\n",
    "    description='Probe Height',\n",
    ")\n",
    "display(probe_h_slider)\n",
    "\n",
    "# Create a toggle button for audio\n",
    "audio_graph_toggle = widgets.ToggleButton(\n",
    "    value=False,\n",
    "    description='Audio',\n",
    "    disabled=False,\n",
    "    button_style='', # 'success', 'info', 'warning', 'danger' or ''\n",
    "    tooltip='Toggle audio',\n",
    "    icon=\"speaker\"\n",
    ")\n",
    "display(audio_graph_toggle)\n",
    "\n",
    "# Create a master volume slider\n",
    "master_volume_slider = widgets.FloatSlider(\n",
    "    value=0,  # Initial value\n",
    "    min=-36,  # Minimum value\n",
    "    max=0,   # Maximum value\n",
    "    step=0.01, # Step size\n",
    "    description='Master Volume (dB)',\n",
    ")\n",
    "display(master_volume_slider)\n",
    "\n",
    "# Create two text widgets for displaying the mouse position in px\n",
    "mouse_x_text = widgets.Text(\n",
    "    value='',\n",
    "    description='MouseX:',\n",
    "    disabled=True\n",
    ")\n",
    "mouse_y_text = widgets.Text(\n",
    "    value='',\n",
    "    description='MouseY:',\n",
    "    disabled=True\n",
    ")\n",
    "display(mouse_x_text)\n",
    "display(mouse_y_text)\n",
    "\n",
    "\n",
    "################################################## DSP ##################################################\n",
    "# 🔈\n",
    "\n",
    "\n",
    "graph = None\n",
    "try:\n",
    "    graph.destroy()\n",
    "    graph = sf.AudioGraph(start=False)\n",
    "except:\n",
    "    graph = sf.AudioGraph(start=False)\n",
    "    graph.clear()\n",
    "\n",
    "def mix2samps(mixval, eps=1e-6):\n",
    "    \"Convert a mix value (used in sf.Smooth) to samples\"\n",
    "    return np.ceil(np.log(eps) / np.log(mixval))\n",
    "\n",
    "def samps2mix(samps, eps=1e-6):\n",
    "    \"Convert samples to a mix value (used in sf.Smooth)\"\n",
    "    return eps ** (1 / samps)\n",
    "\n",
    "# Synth\n",
    "class Theremin(sf.Patch):\n",
    "    def __init__(self, frequency=440, amplitude=0.5, smooth_n_samps=24000):\n",
    "        super().__init__()\n",
    "        self.input_buffers = {}\n",
    "        self.params = {\n",
    "            \"frequency\": {\n",
    "                \"min\": 20,\n",
    "                \"max\": 20000,\n",
    "                \"default\": 440,\n",
    "                \"unit\": \"Hz\",\n",
    "                \"buffer\": None\n",
    "            },\n",
    "            \"amplitude\": {\n",
    "                \"min\": 0,\n",
    "                \"max\": 1,\n",
    "                \"default\": 0.5,\n",
    "                \"unit\": \"\",\n",
    "                \"buffer\": None\n",
    "            }\n",
    "        }\n",
    "\n",
    "        buf_frequency = sf.Buffer(1, 1)\n",
    "        buf_amplitude = sf.Buffer(1, 1)\n",
    "        \n",
    "        buf_frequency.data[0][0] = frequency\n",
    "        self.params[\"frequency\"][\"buffer\"] = buf_frequency\n",
    "        \n",
    "        buf_amplitude.data[0][0] = amplitude\n",
    "        self.params[\"amplitude\"][\"buffer\"] = buf_amplitude\n",
    "        \n",
    "        frequency_value = sf.BufferPlayer(buf_frequency, loop=True)\n",
    "        amplitude_value = sf.BufferPlayer(buf_amplitude, loop=True)\n",
    "        \n",
    "        freq_smooth = sf.Smooth(frequency_value, samps2mix(smooth_n_samps))\n",
    "        amplitude_smooth = sf.Smooth(amplitude_value, samps2mix(smooth_n_samps))\n",
    "        \n",
    "        sine = sf.SineOscillator(freq_smooth)\n",
    "        output = sf.StereoPanner(sine * amplitude_smooth, pan=0)\n",
    "        \n",
    "        self.set_output(output)\n",
    "\n",
    "    def set_input_buf(self, name, value):\n",
    "        self.params[name][\"buffer\"].data[0][0] = value\n",
    "\n",
    "    def __getitem__(self, key):\n",
    "        return self.params[key]\n",
    "\n",
    "\n",
    "class Feature():\n",
    "    \"\"\"Feature base class\"\"\"\n",
    "    def __init__(self, num_features=1, name=\"Feature\"):\n",
    "        self.num_features = num_features\n",
    "        self.name = name\n",
    "        self.features = sf.Buffer(1, num_features)\n",
    "        self.min = np.zeros_like(self.features.data) * 1e6\n",
    "        self.max = np.zeros_like(self.features.data) * -1e6\n",
    "        self.create_widget()\n",
    "\n",
    "    def __call__(self, mat):\n",
    "        self.features.data[:, :] = self.compute(mat)\n",
    "        self.update()\n",
    "    \n",
    "    def compute(self, mat):\n",
    "        return NotImplemented\n",
    "\n",
    "    def create_widget(self):\n",
    "        # create a widget with two text boxes for min and max\n",
    "        # create a box where all the text boxes go\n",
    "        self.widgets = []\n",
    "        for i in range(self.num_features):\n",
    "            min_text = widgets.Text(\n",
    "                value='',\n",
    "                description=f'{self.name}_{i}_Min:',\n",
    "                disabled=True\n",
    "            )\n",
    "            max_text = widgets.Text(\n",
    "                value='',\n",
    "                description=f'{self.name}_{i}_Min:',\n",
    "                disabled=True\n",
    "            )\n",
    "            last_text = widgets.Text(\n",
    "                value='',\n",
    "                description=f'{self.name}_{i}_Last:',\n",
    "                disabled=True\n",
    "            )\n",
    "            self.widgets.append((min_text, max_text, last_text))\n",
    "        # attach them to the display\n",
    "        for min_text, max_text, last_text in self.widgets:\n",
    "            display(min_text)\n",
    "            display(max_text)\n",
    "            display(last_text)\n",
    "        \n",
    "        # create a reset button\n",
    "        self.reset_btn = widgets.Button(description=f'Reset {self.name} MinMax')\n",
    "        display(self.reset_btn)\n",
    "        self.reset_btn.on_click(self.reset_minmax)\n",
    "\n",
    "    def update_minmax(self):\n",
    "        self.min = np.minimum(self.min, self.features.data)\n",
    "        self.max = np.maximum(self.max, self.features.data)\n",
    "\n",
    "    def update_widget(self):\n",
    "        for i, (min_text, max_text, last_text) in enumerate(self.widgets):\n",
    "            min_text.value = str(self.min[0][i])\n",
    "            max_text.value = str(self.max[0][i])\n",
    "            last_text.value = str(self.features.data[0][i])\n",
    "\n",
    "    def update(self):\n",
    "        self.update_minmax()\n",
    "        self.update_widget()\n",
    "\n",
    "    def reset_minmax(self, _ = None):\n",
    "        self.min = np.zeros_like(self.features.data) * 1e6\n",
    "        self.max = np.zeros_like(self.features.data) * -1e6\n",
    "        self.update_widget()\n",
    "\n",
    "\n",
    "class MeanPixelValue(Feature):\n",
    "    \"\"\"Compute the mean pixel value within a probe.\"\"\"\n",
    "    def __init__(self):\n",
    "        super().__init__(num_features=1, name=\"MeanPixelValue\")\n",
    "\n",
    "    def compute(self, mat):\n",
    "        return np.mean(mat)\n",
    "    \n",
    "# @jit(nopython=True)\n",
    "# TODO: add numba support\n",
    "def scale_array_exp(\n",
    "    x: np.ndarray,\n",
    "    in_low: np.ndarray,\n",
    "    in_high: np.ndarray,\n",
    "    out_low: np.ndarray,\n",
    "    out_high: np.ndarray,\n",
    "    exp: float = 1.0,\n",
    ") -> np.ndarray:\n",
    "    \"\"\"\n",
    "    Scales an array of values from one range to another. Based on the Max/MSP scale~ object.\n",
    "\n",
    "    Args:\n",
    "        x (np.ndarray): The array of values to scale.\n",
    "        in_low (np.ndarray): The lower bound of the input range.\n",
    "        in_high (np.ndarray): The upper bound of the input range.\n",
    "        out_low (np.ndarray): The lower bound of the output range.\n",
    "        out_high (np.ndarray): The upper bound of the output range.\n",
    "        exp (float, optional): The exponent to use for the scaling. Defaults to 1.0.\n",
    "\n",
    "    Returns:\n",
    "        np.ndarray: The scaled array.\n",
    "    \"\"\"\n",
    "    if in_high == in_low:\n",
    "        return np.ones_like(x, dtype=np.float64) * out_high\n",
    "    else:\n",
    "        return np.where(\n",
    "            (x-in_low)/(in_high-in_low) == 0,\n",
    "            out_low,\n",
    "            np.where(\n",
    "                (x-in_low)/(in_high-in_low) > 0,\n",
    "                out_low + (out_high-out_low) *\n",
    "                ((x-in_low)/(in_high-in_low))**exp,\n",
    "                out_low + (out_high-out_low) * -\n",
    "                ((((-x+in_low)/(in_high-in_low)))**(exp))\n",
    "            )\n",
    "        )\n",
    "\n",
    "\n",
    "class Mapper():\n",
    "    \"\"\"Map between two buffers. Typically from a feature buffer to a parameter buffer.\"\"\"\n",
    "    def __init__(\n",
    "            self, \n",
    "            obj_in, \n",
    "            obj_out,\n",
    "            in_low = None,\n",
    "            in_high = None,\n",
    "            out_low = None,\n",
    "            out_high = None,\n",
    "            exponent = 1,\n",
    "            clamp: bool = True,\n",
    "\n",
    "    ):\n",
    "        self.obj_in = obj_in\n",
    "        self.obj_out = obj_out\n",
    "\n",
    "        # if the input object is an instance of a feature, then we want to map the output of the feature\n",
    "        # to the input of the object\n",
    "        if isinstance(self.obj_in, Feature):\n",
    "            self.buf_in = self.obj_in.features\n",
    "        elif isinstance(self.obj_in, dict):\n",
    "            self.buf_in = self.obj_in[\"buffer\"]\n",
    "        else:\n",
    "            raise ValueError(\"Input object must be a Feature or a dict\")\n",
    "\n",
    "        # expecting a synth's param dict here\n",
    "        self.buf_out = self.obj_out[\"buffer\"]\n",
    "\n",
    "        # save scaling parameters\n",
    "        self._in_low = in_low\n",
    "        self._in_high = in_high\n",
    "        self._out_low = out_low\n",
    "        self._out_high = out_high\n",
    "        self.exponent = exponent\n",
    "        self.clamp = clamp\n",
    "\n",
    "    @property\n",
    "    def in_low(self):\n",
    "        if self._in_low is None:\n",
    "            if isinstance(self.obj_in, Feature):\n",
    "                return self.obj_in.min\n",
    "            elif isinstance(self.obj_in, dict):\n",
    "                return self.obj_in[\"min\"]\n",
    "        else:\n",
    "            return self._in_low\n",
    "    \n",
    "    @property\n",
    "    def in_high(self):\n",
    "        if self._in_high is None:\n",
    "            if isinstance(self.obj_in, Feature):\n",
    "                return self.obj_in.max\n",
    "            elif isinstance(self.obj_in, dict):\n",
    "                return self.obj_in[\"max\"]\n",
    "        else:\n",
    "            return self._in_high\n",
    "\n",
    "    @property\n",
    "    def out_low(self):\n",
    "        if self._out_low is None:\n",
    "            return self.obj_out[\"min\"]\n",
    "        else:\n",
    "            return self._out_low\n",
    "\n",
    "    @property\n",
    "    def out_high(self):\n",
    "        if self._out_high is None:\n",
    "            return self.obj_out[\"max\"]\n",
    "        else:\n",
    "            return self._out_high\n",
    "\n",
    "    def map(self):\n",
    "        # scale the input buffer to the output buffer\n",
    "        self.buf_out.data[:,:] = scale_array_exp(\n",
    "            self.buf_in.data,\n",
    "            self.in_low,\n",
    "            self.in_high,\n",
    "            self.out_low,\n",
    "            self.out_high,\n",
    "            self.exponent\n",
    "        )\n",
    "        if self.clamp:\n",
    "            self.buf_out.data[:, :] = np.clip(self.buf_out.data[:, :], self.out_low, self.out_high)\n",
    "\n",
    "    def __call__(self):\n",
    "        self.map()\n",
    "\n",
    "\n",
    "# Create objects\n",
    "mean_pix = MeanPixelValue()\n",
    "theremin = Theremin()\n",
    "pix2freq = Mapper(mean_pix, theremin[\"frequency\"], exponent=2, out_high=1000)\n",
    "\n",
    "# DSP switch\n",
    "dsp_switch_buf = sf.Buffer(1, 1)\n",
    "dsp_switch_buf.data[0][0] = 0\n",
    "dsp_switch = sf.BufferPlayer(dsp_switch_buf, loop=True)\n",
    "\n",
    "# Master volume\n",
    "master_slider_db = sf.Constant(master_volume_slider.value)\n",
    "master_slider_a = sf.DecibelsToAmplitude(master_slider_db)\n",
    "master_volume = sf.Smooth(master_slider_a * dsp_switch, samps2mix(24000))\n",
    "\n",
    "audio_out = theremin * master_volume\n",
    "\n",
    "audio_out.play()\n",
    "\n",
    "\n",
    "################################################## Interaction ##################################################\n",
    "# 🖱 ️\n",
    "\n",
    "def redraw():\n",
    "    \"\"\"Render new frames for all kernels, then update the HTML canvas with the results.\"\"\"\n",
    "    global is_drawing\n",
    "\n",
    "    if is_drawing:\n",
    "        return  # Skip if we're already drawing\n",
    "\n",
    "    is_drawing = True\n",
    "    try:\n",
    "        # Render the image with the probe\n",
    "        draw_image()\n",
    "        img_data = (image.to_numpy() * 255).astype(np.uint8)  # Scale to [0, 255] and convert to uint8\n",
    "        img_data = np.transpose(img_data, (1, 0, 2))  # Transpose to match the canvas shape\n",
    "        canvas.put_image_data(img_data, padding, padding)\n",
    "\n",
    "        # Render the probe contents\n",
    "        draw_probe()\n",
    "        probe_data = (probe.to_numpy() * 255).astype(np.uint8)  # Scale to [0, 255] and convert to uint8\n",
    "        probe_data = np.transpose(probe_data, (1, 0, 2))  # Transpose to match the canvas shape\n",
    "        canvas.put_image_data(probe_data, n+20+padding, padding)\n",
    "    finally:\n",
    "        is_drawing = False  # Reset drawing state\n",
    "\n",
    "\n",
    "def get_probe_matrix(mat):\n",
    "    \"\"\"Get the probe matrix from the background image.\"\"\"\n",
    "    x, y = cursor_pos[None]\n",
    "    probe_w = probe_size[0]\n",
    "    probe_h = probe_size[1]\n",
    "    x_from = max(x - probe_w//2, 0)\n",
    "    y_from = max(y - probe_h//2, 0)\n",
    "    probe = mat[x_from : x_from + probe_w, y_from : y_from + probe_h]\n",
    "    return probe\n",
    "\n",
    "\n",
    "def handle_mouse_event(x, y, pressed: int = 0):\n",
    "    \"\"\"Handle mouse, compute probe features, update synth(s), and render kernels.\"\"\"\n",
    "    global latest_event_time\n",
    "\n",
    "    probe_w = probe_size[0]\n",
    "    probe_h = probe_size[1]\n",
    "    # clamp x and y to the image size (undo padding) and also no less than half of the probe sides, so that the mouse is always in the middle of the probe\n",
    "    x_clamped = np.clip(x-padding, probe_w//2, n-1-probe_w//2)\n",
    "    y_clamped = np.clip(y-padding, probe_h//2, n-1-probe_h//2)\n",
    "    cursor_pos[None] = [x_clamped, y_clamped]\n",
    "    mouse_x_text.value = str(x_clamped)\n",
    "    mouse_y_text.value = str(y_clamped)\n",
    "\n",
    "    # Update mouse state\n",
    "    if pressed == 2:\n",
    "        mouse_pressed[None] = 1\n",
    "        dsp_switch_buf.data[0][0] = 1\n",
    "    elif pressed == 3:\n",
    "        mouse_pressed[None] = 0\n",
    "        dsp_switch_buf.data[0][0] = 0\n",
    "    \n",
    "    # Drop excess events over the refresh interval\n",
    "    current_time = time.time()\n",
    "    if current_time - latest_event_time < refresh_interval and pressed < 2: # only skip if mouse is up\n",
    "        return  # Skip if we are processing too quickly\n",
    "    latest_event_time = current_time  # Update the last event time\n",
    "\n",
    "    # Get probe matrix\n",
    "    probe_mat = get_probe_matrix(bg_np)\n",
    "\n",
    "    # Compute probe features\n",
    "    mean_pix(probe_mat)\n",
    "\n",
    "    # Update mappings\n",
    "    pix2freq()\n",
    "    \n",
    "    # Compute all kernels\n",
    "    redraw()\n",
    "\n",
    "# GUI callbacks\n",
    "\n",
    "# Update probe size from sliders\n",
    "def update_probe_width(change):\n",
    "    probe_size[0] = change['new']\n",
    "    redraw()\n",
    "\n",
    "def update_probe_height(change):\n",
    "    probe_size[1] = change['new']\n",
    "    redraw()\n",
    "\n",
    "# Toggle DSP\n",
    "def toggle_audio(change):\n",
    "    if change['new']:\n",
    "        graph.start()\n",
    "    else:\n",
    "        graph.stop()\n",
    "\n",
    "def update_master_volume(change):\n",
    "    master_slider_db.set_value(change['new'])\n",
    "\n",
    "# Mousing event listeners\n",
    "canvas.on_mouse_move(lambda x, y: handle_mouse_event(x, y, 1 if mouse_pressed[None] == 1 else 0))  # Triggered during mouse movement (keeps track of mouse button state)\n",
    "canvas.on_mouse_down(lambda x, y: handle_mouse_event(x, y, pressed=2))  # When mouse button pressed\n",
    "canvas.on_mouse_up(lambda x, y: handle_mouse_event(x, y, pressed=3))  # When mouse button released\n",
    "\n",
    "# GUI event listeners\n",
    "probe_w_slider.observe(update_probe_width, names='value')\n",
    "probe_h_slider.observe(update_probe_height, names='value')\n",
    "audio_graph_toggle.observe(toggle_audio, names='value')\n",
    "master_volume_slider.observe(update_master_volume, names='value')\n",
    "\n",
    "\n",
    "################################################## INIT ##################################################\n",
    "# 🚀\n",
    "\n",
    "\n",
    "# Global state variables\n",
    "is_drawing = False\n",
    "latest_event_time = time.time()\n",
    "# Initial draw\n",
    "image.fill(0)  # Clear the field\n",
    "cursor_pos[None] = [n//2, n//2]  # Start with the cursor in the center\n",
    "mouse_pressed[None] = 0  # Start with mouse unpressed\n",
    "probe_size[0], probe_size[1] = [probe_w_slider.value, probe_h_slider.value]\n",
    "redraw()\n"
   ]
  },
  {
   "cell_type": "code",
   "execution_count": 67,
   "metadata": {},
   "outputs": [
    {
     "data": {
      "text/plain": [
       "'AudioGraph: 10 active nodes, 0 patches, 1.49% CPU usage, 0.3MB memory usage, output = -9.0dB'"
      ]
     },
     "execution_count": 67,
     "metadata": {},
     "output_type": "execute_result"
    }
   ],
   "source": [
    "graph.status"
   ]
  },
  {
   "cell_type": "code",
   "execution_count": 85,
   "metadata": {},
   "outputs": [
    {
     "data": {
      "text/plain": [
       "array([[85.653336]], dtype=float32)"
      ]
     },
     "execution_count": 85,
     "metadata": {},
     "output_type": "execute_result"
    }
   ],
   "source": [
    "pix2freq.buf_in.data"
   ]
  },
  {
   "cell_type": "code",
   "execution_count": 86,
   "metadata": {},
   "outputs": [
    {
     "data": {
      "text/plain": [
       "array([[11931.974]], dtype=float32)"
      ]
     },
     "execution_count": 86,
     "metadata": {},
     "output_type": "execute_result"
    }
   ],
   "source": [
    "pix2freq.buf_out.data"
   ]
  },
  {
   "cell_type": "code",
   "execution_count": 87,
   "metadata": {},
   "outputs": [
    {
     "data": {
      "text/plain": [
       "(array([[0.]], dtype=float32),\n",
       " array([[143.66667]], dtype=float32),\n",
       " 20,\n",
       " 20000,\n",
       " 1,\n",
       " True)"
      ]
     },
     "execution_count": 87,
     "metadata": {},
     "output_type": "execute_result"
    }
   ],
   "source": [
    "pix2freq.in_low, pix2freq.in_high, pix2freq.out_low, pix2freq.out_high, pix2freq.exponent, pix2freq.clamp"
   ]
  },
  {
   "cell_type": "code",
   "execution_count": 88,
   "metadata": {},
   "outputs": [
    {
     "data": {
      "text/plain": [
       "(array([[0.]], dtype=float32), array([[143.66667]], dtype=float32))"
      ]
     },
     "execution_count": 88,
     "metadata": {},
     "output_type": "execute_result"
    }
   ],
   "source": [
    "mean_pix.min, mean_pix.max"
   ]
  },
  {
   "cell_type": "code",
   "execution_count": 95,
   "metadata": {},
   "outputs": [
    {
     "data": {
      "text/plain": [
       "array([], shape=(0, 250, 3), dtype=uint8)"
      ]
     },
     "execution_count": 95,
     "metadata": {},
     "output_type": "execute_result"
    }
   ],
   "source": [
    "probe_mat = get_probe_matrix(bg_np, 250, 250, probe_size, n)\n",
    "probe_mat"
   ]
  },
  {
   "cell_type": "code",
   "execution_count": 124,
   "metadata": {},
   "outputs": [
    {
     "data": {
      "text/plain": [
       "(500, 500)"
      ]
     },
     "execution_count": 124,
     "metadata": {},
     "output_type": "execute_result"
    }
   ],
   "source": [
    "probe_size[0], probe_size[1]"
   ]
  },
  {
   "cell_type": "code",
   "execution_count": 123,
   "metadata": {},
   "outputs": [
    {
     "data": {
      "text/plain": [
       "(0, 250)"
      ]
     },
     "execution_count": 123,
     "metadata": {},
     "output_type": "execute_result"
    }
   ],
   "source": [
    "1//2, 500//2"
   ]
  },
  {
   "cell_type": "code",
   "execution_count": 122,
   "metadata": {},
   "outputs": [
    {
     "data": {
      "text/plain": [
       "np.int64(499)"
      ]
     },
     "execution_count": 122,
     "metadata": {},
     "output_type": "execute_result"
    }
   ],
   "source": [
    "np.clip(499, 0, 499)"
   ]
  },
  {
   "cell_type": "code",
   "execution_count": null,
   "metadata": {},
   "outputs": [],
   "source": []
  }
 ],
 "metadata": {
  "kernelspec": {
   "display_name": "pixasonics",
   "language": "python",
   "name": "python3"
  },
  "language_info": {
   "codemirror_mode": {
    "name": "ipython",
    "version": 3
   },
   "file_extension": ".py",
   "mimetype": "text/x-python",
   "name": "python",
   "nbconvert_exporter": "python",
   "pygments_lexer": "ipython3",
   "version": "3.10.16"
  }
 },
 "nbformat": 4,
 "nbformat_minor": 2
}
